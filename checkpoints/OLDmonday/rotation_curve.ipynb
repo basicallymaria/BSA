{
  "cells": [
    {
      "attachments": {},
      "cell_type": "markdown",
      "metadata": {
        "id": "BRTCkv4TgtK9"
      },
      "source": [
        "# Run this cell first!"
      ]
    },
    {
      "cell_type": "code",
      "execution_count": null,
      "metadata": {},
      "outputs": [],
      "source": [
        "# Download a static FFmpeg build and add it to PATH.\n",
        "exist = !which ffmpeg\n",
        "if not exist:\n",
        "  !curl https://johnvansickle.com/ffmpeg/releases/ffmpeg-release-amd64-static.tar.xz -o ffmpeg.tar.xz \\\n",
        "     && tar -xf ffmpeg.tar.xz && rm ffmpeg.tar.xz\n",
        "  ffmdir = !find . -iname ffmpeg-*-static\n",
        "  path = %env PATH\n",
        "  path = path + ':' + ffmdir[0]\n",
        "  %env PATH $path\n",
        "print('')\n",
        "!which ffmpeg\n",
        "print('Done!')"
      ]
    },
    {
      "cell_type": "code",
      "execution_count": null,
      "metadata": {
        "colab": {
          "base_uri": "https://localhost:8080/"
        },
        "id": "d0C3PJsXnjl_",
        "outputId": "0da2bace-191f-455b-832b-b7f865f2b447"
      },
      "outputs": [],
      "source": [
        "!pip install tensorflow_docs"
      ]
    },
    {
      "cell_type": "code",
      "execution_count": null,
      "metadata": {
        "id": "1V1dXiTDf2Hz"
      },
      "outputs": [],
      "source": [
        "# Import dependencies\n",
        "import sys\n",
        "sys.path.append('python/')\n",
        "import numpy as np\n",
        "import matplotlib.pyplot as plt\n",
        "import time\n",
        "startTime = time.time()\n",
        "from ipywidgets.widgets import HTML\n",
        "import tensorflow_docs.vis.embed as savior\n",
        "import matplotlib.animation as ani\n"
      ]
    },
    {
      "cell_type": "code",
      "execution_count": null,
      "metadata": {
        "id": "kyM7b7uNlLq9"
      },
      "outputs": [],
      "source": [
        "def CalculatePosition(radius,velocity,time,dt):\n",
        "    \"\"\"\n",
        "    Calculates positions of multiple objects around a circle after some time with interval dt.\n",
        "\n",
        "    Any set of units may be used, provided they match -- \n",
        "    for example, if using a radius of meters and time in seconds, velocity should be in meters per second and the time increments should be in seconds.\n",
        "\n",
        "    :parameters:\n",
        "        radius : [array]\n",
        "            Radius of the objects from the center. Units to match velocity.\n",
        "        velocity : [array]\n",
        "            Velocity of the objects. Units to match radius and time. Length must match length of radius.\n",
        "        time : [int]\n",
        "            Maximum time. Units to match velocity. If not divisible by dt, the final time provided may exceed this value by a number less than dt.\n",
        "        dt : [int]\n",
        "            Time increment. Units to match time.\n",
        "\n",
        "    :returns:\n",
        "        Two [ndarray]s of x-position (first array) and y-position (second array) of all objects. These arrays are stored such that each row represents a single time \n",
        "        and each column represents a single object.  \n",
        "        [1darray] of associated time.  \n",
        "\n",
        "    :example:\n",
        "        >>> import numpy as np #To generate the arrays\n",
        "        >>> radius = np.array([1,2,3,4,5])              # in m\n",
        "        >>> velocity = np.array([0.1,0.2,0.3,0.4,0.5])  # in m/s\n",
        "        >>> time = 100                                  # in s\n",
        "        >>> dt = 33                                     # in s\n",
        "        >>> CalculatePosition(radius,velocity,time,dt)\n",
        "        (array([[ 1.        ,  2.        ,  3.        ,  4.        ,  5.        ],\n",
        "            [-0.98747977, -1.97495954, -2.96243931, -3.94991908, -4.93739885],\n",
        "            [ 0.95023259,  1.90046518,  2.85069778,  3.80093037,  4.75116296],\n",
        "            [-0.88919115, -1.77838231, -2.66757346, -3.55676461, -4.44595576],\n",
        "            [ 0.80588396,  1.61176792,  2.41765187,  3.22353583,  4.02941979]]), \n",
        "        array([[ 0.        ,  0.        ,  0.        ,  0.        ,  0.        ],\n",
        "            [-0.15774569, -0.31549139, -0.47323708, -0.63098278, -0.78872847],\n",
        "            [ 0.31154136,  0.62308273,  0.93462409,  1.24616545,  1.55770682],\n",
        "            [-0.45753589, -0.91507179, -1.37260768, -1.83014358, -2.28767947],\n",
        "            [ 0.59207351,  1.18414703,  1.77622054,  2.36829406,  2.96036757]]), \n",
        "        array([  0,  33,  66,  99, 132]))\n",
        "    \"\"\"\n",
        "    \n",
        "    # Initial conditions\n",
        "    theta = 0\n",
        "    xini = radius * np.cos(theta)\n",
        "    yini = radius * np.sin(theta)\n",
        "    t = 0\n",
        "    \n",
        "    # Store positions and time\n",
        "    xposition = [xini]\n",
        "    yposition = [yini]\n",
        "    storedtime = [t]\n",
        "    \n",
        "    # Calculate positions\n",
        "    while t < time:\n",
        "        t += dt\n",
        "        x = radius * np.cos((velocity/radius)*t)\n",
        "        y = radius * np.sin((velocity/radius)*t)\n",
        "        \n",
        "        xposition.append(x)\n",
        "        yposition.append(y)\n",
        "        storedtime.append(t)\n",
        "    \n",
        "    # Make an array\n",
        "    xposition = np.array(xposition)\n",
        "    yposition = np.array(yposition)\n",
        "    storedtime = np.array(storedtime)\n",
        "    \n",
        "    return xposition,yposition,storedtime\n",
        "\n",
        "###############################################\n",
        "\n",
        "def MultiplePositions(radius,velocity,time,dt):\n",
        "    \"\"\"\n",
        "    Calculates transposed positions of multiple objects around a circle after some time with interval dt. Setup for the animation.\n",
        "\n",
        "    Any set of units may be used, provided they match -- \n",
        "    for example, if using a radius of meters and time in seconds, velocity should be in meters per second and the time increments should be in seconds.\n",
        "\n",
        "    :parameters:\n",
        "        radius : [array]\n",
        "            Radius of the objects from the center. Units to match velocity.\n",
        "        velocity : [array]\n",
        "            Velocity of the objects. Units to match radius and time. Length must match length of radius.\n",
        "        time : [int]\n",
        "            Maximum time. Units to match velocity. If not divisible by dt, the final time provided may exceed this value by a number less than dt.\n",
        "        dt : [int]\n",
        "            Time increment. Units to match time.\n",
        "\n",
        "    :returns:\n",
        "        Two [ndarray]s of x-position (first array) and y-position (second array) of all objects. These arrays are stored such that each row represents a single object \n",
        "        and each column represents a single time.  \n",
        "        [1darray] of associated time.\n",
        "\n",
        "    :example:\n",
        "        >>> radius = np.array([1,2,3,4,5])              # in m\n",
        "        >>> velocity = np.array([0.1,0.2,0.3,0.4,0.5])  # in m/s\n",
        "        >>> time = 100                                  # in s\n",
        "        >>> dt = 50                                     # in s\n",
        "        >>> MultiplePositions(radius,velocity,time,dt)\n",
        "        (array([[ 1.        ,  0.28366219, -0.83907153],\n",
        "            [ 2.        ,  0.56732437, -1.67814306],\n",
        "            [ 3.        ,  0.85098656, -2.51721459],\n",
        "            [ 4.        ,  1.13464874, -3.35628612],\n",
        "            [ 5.        ,  1.41831093, -4.19535765]]), \n",
        "        array([[ 0.        , -0.95892427, -0.54402111],\n",
        "            [ 0.        , -1.91784855, -1.08804222],\n",
        "            [ 0.        , -2.87677282, -1.63206333],\n",
        "            [ 0.        , -3.8356971 , -2.17608444],\n",
        "            [ 0.        , -4.79462137, -2.72010555]]), \n",
        "        array([ 0, 50]))\n",
        "    \"\"\"\n",
        "    \n",
        "    # Stop the calculation when the outermost point takes a whole revolution\n",
        "    # Outermost point position\n",
        "    outerposition = radius[len(radius)-1]\n",
        "    \n",
        "    # Calculate the positions of outermost point:\n",
        "    xouter = CalculatePosition(radius[len(radius)-1],velocity[len(radius)-1],time,dt)[0]\n",
        "    \n",
        "    # Circumference of the outer circle\n",
        "    circouter = 2*np.pi*outerposition\n",
        "    \n",
        "    # Distance the outer object traveled\n",
        "    distance = 0\n",
        "    istop = 0\n",
        "        \n",
        "    # New time\n",
        "    storedtime = CalculatePosition(radius[0],velocity[0],time,dt)[2]\n",
        "    for t in storedtime:\n",
        "        if distance < circouter:\n",
        "            distance = velocity[len(radius)-1]*t\n",
        "        else:\n",
        "            istop = np.where(storedtime == t)[0]     # find index of the numpy array \n",
        "            break\n",
        "                   \n",
        "    istop = int(istop)\n",
        "    newstoredtime = storedtime[:istop-1]\n",
        "            \n",
        "    xmultiple = []\n",
        "    ymultiple = []\n",
        "\n",
        "    for i in range(len(radius)):\n",
        "        x = CalculatePosition(radius[i],velocity[i],time,dt)[0]\n",
        "        y = CalculatePosition(radius[i],velocity[i],time,dt)[1]\n",
        "        xmultiple.append(x)\n",
        "        ymultiple.append(y)\n",
        "\n",
        "    xmultiple = np.array(xmultiple)\n",
        "    ymultiple = np.array(ymultiple)\n",
        "    \n",
        "    return xmultiple, ymultiple, newstoredtime\n",
        "\n",
        "###############################################\n",
        "\n",
        "def PlotRotationCurve(radius,velocity,title,\n",
        "                      xlabel='Radius (km)',ylabel='Velocity (km/s)',\n",
        "                      xlim=1,\n",
        "                      ylim=0.1):\n",
        "    \"\"\"\n",
        "    Plot rotation curve, given the radius and velocity.\n",
        "\n",
        "    Any set of units may be used, provided they match -- \n",
        "    for example, if using a radius of meters, velocity should be in meters per unit time and the labels should correctly indicate both.\n",
        "\n",
        "    :parameters:\n",
        "        radius : [array]\n",
        "            Radius of the objects from the center. Units to match velocity.\n",
        "        velocity : [array]\n",
        "            Velocity of the objects. Units to match radius and time. Length must match length of radius.\n",
        "        title : [string]\n",
        "            Title of the plot.\n",
        "        xlabel : [string]\n",
        "            X-label of the plot. \n",
        "            \n",
        "            :default: 'Radius (km)'\n",
        "        ylabel : [string]\n",
        "            Y-label of the plot. \n",
        "            \n",
        "            :default: 'Velocity (km/s)'\n",
        "        xlim : [float]\n",
        "            X-limit of the plot. \n",
        "            \n",
        "            :default: 1\n",
        "        ylim : [float]\n",
        "            Y-limit of the plot. \n",
        "            \n",
        "            :default: 0.1\n",
        "\n",
        "    :returns:\n",
        "        None\n",
        "\n",
        "    :example:\n",
        "        >>> radius = np.array([1,2,3,4,5])              # in m\n",
        "        >>> velocity = np.array([0.1,0.2,0.3,0.4,0.5])  # in m/s\n",
        "        >>> PlotRotationCurve(radius,velocity,'Rigid Body Rotation Curve')\n",
        "\n",
        "        .. image:: ../../images/PlotRotationCurveExample.png\n",
        "            :alt: A plot, titled 'Rigid Body Rotation Curve', with the radii above on the x-axis and the velocities above on the y-axis\n",
        "    \"\"\"\n",
        "    \n",
        "    # Convert title to string\n",
        "    title = str(title)\n",
        "    \n",
        "    # Plot\n",
        "    fig = plt.figure(figsize=(6,6),dpi=100)\n",
        "    ax = plt.axes()\n",
        "    \n",
        "    fig.patch.set_facecolor('black')\n",
        "    ax.set_facecolor('black')\n",
        "    ax.set_xlabel(xlabel,color='white')\n",
        "    ax.set_ylabel(ylabel,color='white')\n",
        "    ax.spines['bottom'].set_color('white')\n",
        "    ax.spines['top'].set_color('white')\n",
        "    ax.spines['left'].set_color('white')\n",
        "    ax.spines['right'].set_color('white')\n",
        "    ax.xaxis.label.set_color('white')\n",
        "    ax.yaxis.label.set_color('white')\n",
        "    ax.tick_params(axis='x', colors='white')\n",
        "    ax.tick_params(axis='y', colors='white')\n",
        "    \n",
        "    plt.title(title,color='white',fontsize='14')\n",
        "    plt.scatter(radius,velocity,color='khaki')\n",
        "    plt.plot(radius,velocity,color='white')\n",
        "    plt.xlim(0,np.max(radius)+xlim)\n",
        "    plt.ylim(0,np.max(velocity)+ylim)\n",
        "\n",
        "    plt.show()\n",
        "    \n",
        "###############################################\n",
        "\n",
        "def MakeAnimation(radius,velocity,time,dt,filename,title,\n",
        "                 xlim=1,ylim=1,\n",
        "                 size=False,masses=None):\n",
        "    \"\"\"\n",
        "    Animation of rotating objects around a circle.\n",
        "\n",
        "    Any set of units may be used, provided they match -- \n",
        "    for example, if using a radius of meters and time in seconds, velocity should be in meters per second and the time increments should be in seconds. \n",
        "\n",
        "    :parameters:\n",
        "        radius : [array]\n",
        "            Radius of the objects from the center. Units of km.\n",
        "        velocity : [array]\n",
        "            Velocity of the objects. Units to match time with radial units of km. Length must match length of radius.\n",
        "        time : [int]\n",
        "            Maximum time. Units to match velocity. If not divisible by dt, the final time provided may exceed this variable by a number less than dt.\n",
        "        dt : [int]\n",
        "            Time increment. Units to match time.\n",
        "        filename : [string]\n",
        "            File name to save animation.\n",
        "        title : [string]\n",
        "            Title of the plot.\n",
        "        xlim : [float]\n",
        "            X-limit of the plot. \n",
        "            \n",
        "            :default: 1\n",
        "        ylim : [float]\n",
        "            Y-limit of the plot. \n",
        "            \n",
        "            :default: 0.1\n",
        "        size : [bool]\n",
        "            Size of dots, based on masses. If True, the sizes of dots depend on masses. \n",
        "            \n",
        "            :default: False\n",
        "        masses : [array]\n",
        "            Masses of objects, when needed. \n",
        "            \n",
        "            :default: None\n",
        "\n",
        "    :returns:\n",
        "        None\n",
        "\n",
        "    :example:\n",
        "        >>> radius = np.array([1,2,3,4,5])              # in m\n",
        "        >>> velocity = np.array([0.1,0.2,0.3,0.4,0.5])  # in m/s\n",
        "        >>> time = 100\n",
        "        >>> dt = 1\n",
        "        >>> MakeAnimation(radius, velocity, time, dt, \n",
        "        ...     filename='images/solarsystem.gif', \n",
        "        ...     title='Planet-like Rotation')    \n",
        "\n",
        "        .. image:: ../../images/solarsystem.gif\n",
        "            :alt: An animation of planet-like rotation, in which the five planets are, coincidentally, moving like a rigid body. The x-axis and y-axis are both labeled with units of km with ranges of -6 to +6. Below the title 'Planet-like Rotation' is a counter indicating the current number of seconds, in scientific notation, resetting itself periodically. Other than this timer, the animation appears continuious.\n",
        "    \"\"\"\n",
        "    \n",
        "    # Extract x and y positions, and time\n",
        "    xpositions = MultiplePositions(radius,velocity,time,dt)[0]\n",
        "    ypositions = MultiplePositions(radius,velocity,time,dt)[1]\n",
        "    #storedtimes = CalculatePosition(radius,velocity,time,dt)[2]\n",
        "    storedtimes = MultiplePositions(radius,velocity,time,dt)[2]\n",
        "    \n",
        "    # Sizes of dots based on masses\n",
        "    if size == True:   # use an array of masses as an input for sizes\n",
        "        area = [s * 5e-25 for s in masses]\n",
        "    if size == False:  # use a default size\n",
        "        area = 100\n",
        "                      \n",
        "    # Create a movie write object, set frame rate\n",
        "    writer = ani.FFMpegWriter(fps=25)\n",
        "\n",
        "    # Create a figure, 8\"x8\" in size\n",
        "    fig = plt.figure(figsize=(8,8))\n",
        "    \n",
        "    # Change background color of the plot\n",
        "    fig.patch.set_facecolor('black')\n",
        "    ax = plt.axes()\n",
        "    ax.set_facecolor('black')\n",
        "    ax.set_facecolor('black')\n",
        "    ax.set_xlabel('x (km)',color='white')\n",
        "    ax.set_ylabel('y (km)',color='white')\n",
        "    ax.spines['bottom'].set_color('white')\n",
        "    ax.spines['top'].set_color('white')\n",
        "    ax.spines['left'].set_color('white')\n",
        "    ax.spines['right'].set_color('white')\n",
        "  \n",
        "    # Convert filename and title to string\n",
        "    filename = str(filename)\n",
        "    title = str(title)\n",
        "\n",
        "    # Set things up to save frames to a movie:\n",
        "    #   fig = the figure the writer will record from\n",
        "    with writer.saving(fig, filename, 100):\n",
        "\n",
        "    # Loop\n",
        "        i = 0            # start counter\n",
        "        for t in storedtimes:\n",
        "            plt.cla()\n",
        "            for r in radius:\n",
        "                    circle = plt.Circle((0, 0), r, color='white', fill=False)\n",
        "                    plt.gca().add_patch(circle)\n",
        "            plt.scatter(xpositions[:,i],ypositions[:,i],s=area,color='khaki')\n",
        "            plt.suptitle(title,color='white',fontsize='18')\n",
        "            plt.title('{:.1e} seconds'.format(t),color='white')\n",
        "            plt.xlim(-np.max(radius)-xlim,np.max(radius)+xlim)\n",
        "            plt.ylim(-np.max(radius)-1,np.max(radius)+ylim)\n",
        "            plt.xlabel('x (km)',color='white',fontsize='14')\n",
        "            plt.ylabel('y (km)',color='white',fontsize='14')\n",
        "            ax.tick_params(axis='x', colors='white')\n",
        "            ax.tick_params(axis='y', colors='white')\n",
        "            i += 1\n",
        "            \n",
        "            # Save the current plot as a movie frame\n",
        "            writer.grab_frame()\n",
        "        \n",
        "        plt.close(fig)    # Do not display the image"
      ]
    },
    {
      "attachments": {},
      "cell_type": "markdown",
      "metadata": {
        "id": "3Ijr9mPYf2Hw"
      },
      "source": [
        "# Introduction to Rotation Curves"
      ]
    },
    {
      "attachments": {},
      "cell_type": "markdown",
      "metadata": {
        "id": "YsWZFLrof2H0"
      },
      "source": [
        "A rotation curve plots the rotational velocity of stars in a galaxy in terms of their distance from the center, also known as the radius. Using photometric data of the luminous matter, a rotation curve of a galaxy can be created. It is used to estimate the mass inside a radius by equating the centripetal force to the gravitational force:\n",
        "\n",
        "\\begin{equation}\n",
        "\\frac{mv^2}{r}=\\frac{G M_{enc}(r)}{r^2}\n",
        "\\end{equation}\n",
        "\n",
        "where:\n",
        "        $v$ = rotational velocity\n",
        "        $G$ = gravitational constant\n",
        "        $M_{enc}(r)$ = enclosed mass as a function of radius\n",
        "        $r$ = radius or distance from the center of the galaxy\n",
        "    \n",
        "\n",
        "Rotation curves of some spiral galaxies reveal a discrepancy in the measured and luminous mass. The relationship between the rotational velocity and mass is important to the study of Dark Matter. Plotting the rotation curves of edge-on spiral galaxies and their components can be used as a tool to find the Dark Matter rotation curve and its corresponding mass.\n",
        "\n",
        "This notebook aims to demonstrate three different rotation curve types - rigid body (frisbee) rotation, planet-like rotation, and flat rotation."
      ]
    },
    {
      "attachments": {},
      "cell_type": "markdown",
      "metadata": {
        "id": "BbYFvaDSf2H1"
      },
      "source": [
        "### Rigid body (frisbee) rotation"
      ]
    },
    {
      "attachments": {},
      "cell_type": "markdown",
      "metadata": {
        "id": "9hAcPb5_f2H1"
      },
      "source": [
        "The most straight-forward rotation curve is that of a rigid body, i.e. a solid disk. The rotational velocity in this case is proportional to the radius of the rotating object, which can be denoted by:\n",
        "\n",
        "\\begin{equation}\n",
        "v \\propto r\n",
        "\\end{equation}\n",
        "\n",
        "Because of this, the rigid body has a rotation curve that increases linearly with radius. To demonstrate this, let's create two arrays for the radius and the rotational velocity called `radiusRB` and `velocityRB`, respectively:"
      ]
    },
    {
      "attachments": {},
      "cell_type": "markdown",
      "metadata": {
        "id": "LrxP_-zyf2H1"
      },
      "source": [
        "### Try: What does the graph $r$ vs. $v$ look like? Draw it on a sticky note.\n",
        "### BONUS: Try plotting it here!"
      ]
    },
    {
      "cell_type": "code",
      "execution_count": null,
      "metadata": {
        "id": "M0KhO0LMf2H2"
      },
      "outputs": [],
      "source": [
        "radiusRB = np.array([1,2,3,4,5])\n",
        "velocityRB = np.array([0.1,0.2,0.3,0.4,0.5])"
      ]
    },
    {
      "cell_type": "code",
      "execution_count": null,
      "metadata": {
        "colab": {
          "base_uri": "https://localhost:8080/",
          "height": 821
        },
        "id": "OJDM5gGpf2H2",
        "outputId": "b753dd2a-9b78-4b97-9588-38c3f5e9f3f9"
      },
      "outputs": [],
      "source": [
        "# Make the animation\n",
        "MakeAnimation(radiusRB,velocityRB,100,1,'rigidbody.gif','Rigid Body Rotation')\n",
        "# display it\n",
        "savior.embed_file(\"rigidbody.gif\")"
      ]
    },
    {
      "cell_type": "code",
      "execution_count": null,
      "metadata": {
        "colab": {
          "background_save": true
        },
        "id": "C-EJi5wJf2H3",
        "outputId": "df7bcb3e-481a-40a7-aa9b-808793fc5c58"
      },
      "outputs": [],
      "source": [
        "PlotRotationCurve(radiusRB,velocityRB,'Rigid Body Rotation Curve')"
      ]
    },
    {
      "attachments": {},
      "cell_type": "markdown",
      "metadata": {
        "id": "egu5lYY_f2H3"
      },
      "source": [
        "In rigid body rotation, all pieces of the body must maintain the same relative position to each other throughout the rotation. Another way to think about this is that all parts of a rigid body have the same angular velocity -- that is, the rate at which their angle from the horizontal changes is the same."
      ]
    },
    {
      "attachments": {},
      "cell_type": "markdown",
      "metadata": {
        "id": "p5KS3OGJf2H3"
      },
      "source": [
        "### Planet-like rotation"
      ]
    },
    {
      "attachments": {},
      "cell_type": "markdown",
      "metadata": {
        "id": "tAhxudw6f2H3"
      },
      "source": [
        "Non-rigid rotating bodies have more flexibility in their rotation. The most well-known example is the Keplerian model, which models orbital rotation in solar systems and planetary motion. This model has most of its mass concentrated in the center of the rotating object with satellites free to orbit around the center. With planet-like rotation, rotational velocity is inversely proportional to the square root of the radius:\n",
        "\n",
        "\\begin{equation}\n",
        "v \\propto \\frac{1}{\\sqrt{r}}\n",
        "\\end{equation}\n",
        "\n",
        "One example is our Solar System with eight planets orbiting the Sun at the center. "
      ]
    },
    {
      "attachments": {},
      "cell_type": "markdown",
      "metadata": {
        "id": "PGAbsTE8f2H3"
      },
      "source": [
        "### What does the graph $1/\\sqrt r$ vs. $v$ look like? Draw it on a sticky note. \n",
        "### BONUS: try plotting it on here!"
      ]
    },
    {
      "attachments": {},
      "cell_type": "markdown",
      "metadata": {
        "id": "4_6lYV5Cf2H4"
      },
      "source": [
        "Try: Find the missing parameters!"
      ]
    },
    {
      "cell_type": "code",
      "execution_count": null,
      "metadata": {
        "id": "Lr0BQhPQf2H4"
      },
      "outputs": [],
      "source": [
        "# Parameters\n",
        "G = 6.67408e-11         # Gravitational constant (in m^3 kg^-1 s^-2)\n",
        "AU = 1.496e11           # AU Astronomical Unit (in meters)\n",
        "\n",
        "\n",
        "# Masses of the planets (M) in kg\n",
        "M_sun_multiplier = 100\n",
        "\n",
        "\n",
        "M_Earth = 5.97e24      \n",
        "M_Sun = 3.3e5*M_Earth*M_sun_multiplier\n",
        "M_Mercury = 0.0553*M_Earth\n",
        "M_Venus = 0.815*M_Earth\n",
        "M_Mars = 0.107*M_Earth\n",
        "M_Jupiter = 317.8*M_Earth\n",
        "M_Saturn = 95.2*M_Earth\n",
        "M_Uranus = 14.5*M_Earth\n",
        "M_Neptune = 17.1*M_Earth\n",
        "\n",
        "# Distances of planets from the Sun (r) in meters\n",
        "r_Earth = AU\n",
        "r_Mercury = 0.387*AU \n",
        "r_Venus = 0.723*AU\n",
        "r_Mars = 1.52*AU\n",
        "r_Jupiter = 5.20*AU\n",
        "r_Saturn = 9.57*AU\n",
        "r_Uranus = 19.17*AU\n",
        "r_Neptune = 30.18*AU\n",
        "\n"
      ]
    },
    {
      "cell_type": "code",
      "execution_count": null,
      "metadata": {
        "id": "UG3wSe35f2H4"
      },
      "outputs": [],
      "source": [
        "# CALCULATIONS\n",
        "# Make array of masses\n",
        "massesSS = np.array([M_Mercury,M_Venus,M_Earth,M_Mars,M_Jupiter,M_Saturn,M_Uranus,M_Neptune])\n",
        "\n",
        "# Make array of radii\n",
        "radiusSS = np.array([r_Mercury,r_Venus,r_Earth,r_Mars,r_Jupiter,r_Saturn,r_Uranus,r_Neptune])\n",
        "\n",
        "# compute the velovities\n",
        "# Orbital velocity of planets (v) in m/s\n",
        "v_Mercury = np.sqrt((G*M_Sun)/r_Mercury)\n",
        "v_Venus = np.sqrt((G*(M_Sun+M_Mercury))/r_Venus)\n",
        "v_Earth = np.sqrt((G*(M_Sun+M_Mercury+M_Venus))/r_Earth)\n",
        "v_Mars = np.sqrt((G*(M_Sun+M_Mercury+M_Venus+M_Earth))/r_Mars)\n",
        "v_Jupiter = np.sqrt((G*(M_Sun+M_Mercury+M_Venus+M_Earth+M_Mars))/r_Jupiter)\n",
        "v_Saturn = np.sqrt((G*(M_Sun+M_Mercury+M_Venus+M_Earth+M_Mars+M_Jupiter))/r_Saturn)\n",
        "v_Uranus = np.sqrt((G*(M_Sun+M_Mercury+M_Venus+M_Earth+M_Mars+M_Jupiter+M_Saturn))/r_Uranus)\n",
        "v_Neptune = np.sqrt((G*(M_Sun+M_Mercury+M_Venus+M_Earth+M_Mars+M_Jupiter+M_Saturn+M_Uranus))/r_Neptune)\n",
        "\n",
        "# Make array of velocities\n",
        "velocitySS = np.array([v_Mercury,v_Venus,v_Earth,v_Mars,v_Jupiter,v_Saturn,v_Uranus,v_Neptune])"
      ]
    },
    {
      "cell_type": "code",
      "execution_count": null,
      "metadata": {
        "id": "N3Xs8Rwpf2H4"
      },
      "outputs": [],
      "source": [
        "# Make animation\n",
        "MakeAnimation(1e-3*radiusSS,1e-3*velocitySS,   # change distance unit to km, velocity unit to km/s\n",
        "                         5e10,1e7,                        # time and dt\n",
        "                         'solarsystem.gif','Planet-like Rotation',\n",
        "                         1e8,1e8,                         # xlim and ylim\n",
        "                         size=True,masses=massesSS)    \n",
        "# Display animation\n",
        "savior.embed_file(\"solarsystem.gif\")"
      ]
    },
    {
      "cell_type": "code",
      "execution_count": null,
      "metadata": {
        "id": "4UJIrKzWf2H4"
      },
      "outputs": [],
      "source": [
        "PlotRotationCurve(1e-3*radiusSS,1e-3*velocitySS,\n",
        "                  'Planet-like Rotation Curve',\n",
        "                  xlabel='Radius (km)',ylabel='Velocity (km/s)',\n",
        "                  xlim=1e8,ylim=5)"
      ]
    },
    {
      "attachments": {},
      "cell_type": "markdown",
      "metadata": {
        "id": "gtrBzecYf2H4"
      },
      "source": [
        "In a planet-like rotation, none of the bodies are attached to one another in any way, so they can move in relation to one another. Often, there is a single, dominant source of mass at the center -- in the case of our Solar system, the Sun is massive enough that we can ignore the masses of planets in our calculations. However, if there is a significant amount of mass between the center and the bodies we are observing, we may get different results..."
      ]
    },
    {
      "attachments": {},
      "cell_type": "markdown",
      "metadata": {
        "id": "7qI0RXLbf2H4"
      },
      "source": [
        "### Expected galactic rotation"
      ]
    },
    {
      "attachments": {},
      "cell_type": "markdown",
      "metadata": {
        "id": "LNoo8XbOf2H4"
      },
      "source": [
        "Similar to planet-like rotation, the rotation curve of galaxies should decline at larger radii with the difference of rotational velocities of stars and gas gradually increasing closer to the center. A quick sketch is shown below to compare with other rotation curves but an intensive calculation of this expected galactic rotation is included in the upcoming workshop modules. "
      ]
    },
    {
      "cell_type": "code",
      "execution_count": null,
      "metadata": {
        "id": "4NQ7Y1y1f2H4"
      },
      "outputs": [],
      "source": [
        "# Arbitrary distance and velocity for animation and plot\n",
        "radiusEGR = np.array([1,2,2.5,3,3.5,4,5,6,7])\n",
        "velocityEGR = np.array([0.10,0.23,0.27,0.29,0.27,0.24,0.21,0.19,0.18])"
      ]
    },
    {
      "cell_type": "code",
      "execution_count": null,
      "metadata": {
        "id": "QDYzltMlf2H5"
      },
      "outputs": [],
      "source": [
        "# make the animation\n",
        "MakeAnimation(radiusEGR,velocityEGR,200,1,'expgalacticrotation.gif','Expected Galactic Rotation')\n",
        "# Display animation\n",
        "savior.embed_file(\"expgalacticrotation.gif\")"
      ]
    },
    {
      "cell_type": "code",
      "execution_count": null,
      "metadata": {
        "id": "W78UC_9If2H5"
      },
      "outputs": [],
      "source": [
        "PlotRotationCurve(radiusEGR,velocityEGR,'Expected Galactic Rotation')"
      ]
    },
    {
      "attachments": {},
      "cell_type": "markdown",
      "metadata": {
        "id": "iPpZcMWRf2H5"
      },
      "source": [
        "### Flat rotation"
      ]
    },
    {
      "attachments": {},
      "cell_type": "markdown",
      "metadata": {
        "id": "n-vwhLiMf2H7"
      },
      "source": [
        "The mass distribution of a galaxy based on luminous matter is similar to the mass distribution of the Keplerian model. Surprisingly, some of the rotation curves of galaxies are entirely different than the rotation curve of planetary motion. The curve for spiral galaxies quickly increases from the center to a relatively constant velocity: \n",
        "\n",
        "\\begin{equation}\n",
        "v \\sim constant\n",
        "\\end{equation}\n",
        "\n",
        "This type of rotation curve suggests there is more mass spread throughout the galaxy than we can see. This 'missing mass' is what we call Dark Matter."
      ]
    },
    {
      "cell_type": "code",
      "execution_count": null,
      "metadata": {
        "id": "6nYQi7kFf2H7"
      },
      "outputs": [],
      "source": [
        "# Arbitrary distance and velocity for animation and plot\n",
        "radiusFR = np.array([1,2,3,4,5,6,7])\n",
        "velocityFR = np.array([0.1,0.24,0.29,0.31,0.31,0.31,0.31])"
      ]
    },
    {
      "cell_type": "markdown",
      "metadata": {},
      "source": []
    },
    {
      "cell_type": "code",
      "execution_count": null,
      "metadata": {
        "id": "VtI9wz_kf2H7"
      },
      "outputs": [],
      "source": [
        "# Make animation\n",
        "MakeAnimation(radiusFR,velocityFR,\n",
        "                         200,1,                                       # time and dt\n",
        "                         'flatrotation.gif','Flat Rotation')   # file name and title of plot\n",
        "# Display animation\n",
        "savior.embed_file(\"flatrotation.gif\")"
      ]
    },
    {
      "cell_type": "code",
      "execution_count": null,
      "metadata": {
        "id": "eFKYZ4gmf2H8"
      },
      "outputs": [],
      "source": [
        "PlotRotationCurve(radiusFR,velocityFR,'Flat Rotation Curve')"
      ]
    },
    {
      "attachments": {},
      "cell_type": "markdown",
      "metadata": {
        "id": "KNeGG0Esf2H8"
      },
      "source": [
        "We see that velocity increases as we move outward. This is because, for a galaxy, mass is spread out throughout the galaxy, rather than being largely concentrated at the center. However, what we would expect to see is for the velocity to start dropping off at some point because the concentration of mass is still expected to be lower as we approach the edges, even if not negligibly so. This is why the flatness seems to indicate that there is 'missing' mass in our data."
      ]
    },
    {
      "attachments": {},
      "cell_type": "markdown",
      "metadata": {
        "id": "itQpjvCmf2H8"
      },
      "source": [
        "### Comparison of expected galactic rotation and flat rotation"
      ]
    },
    {
      "cell_type": "code",
      "execution_count": null,
      "metadata": {
        "id": "tZwfXXX9f2H8"
      },
      "outputs": [],
      "source": [
        "# Plot\n",
        "fig = plt.figure(figsize=(6,6),dpi=100)\n",
        "ax = plt.axes()\n",
        "    \n",
        "fig.patch.set_facecolor('black')\n",
        "ax.set_facecolor('black')\n",
        "ax.set_xlabel('Radius (km)',color='white')\n",
        "ax.set_ylabel('Velocity (km/s)',color='white')\n",
        "ax.spines['bottom'].set_color('white')\n",
        "ax.spines['top'].set_color('white')\n",
        "ax.spines['left'].set_color('white')\n",
        "ax.spines['right'].set_color('white')\n",
        "ax.xaxis.label.set_color('white')\n",
        "ax.yaxis.label.set_color('white')\n",
        "ax.tick_params(axis='x', colors='white')\n",
        "ax.tick_params(axis='y', colors='white')\n",
        "    \n",
        "plt.title('Comparing Flat and Expected Galactic Rotation',color='white',fontsize='14')\n",
        "plt.scatter(radiusEGR,velocityEGR,color='khaki')\n",
        "plt.plot(radiusEGR,velocityEGR,color='red',label='Expected')\n",
        "plt.scatter(radiusFR,velocityFR,color='khaki')\n",
        "plt.plot(radiusFR,velocityFR,color='white',label='Flat')\n",
        "plt.xlim(0,np.max(radiusEGR)+1)\n",
        "plt.ylim(0,np.max(velocityEGR)+0.1)\n",
        "plt.legend()\n",
        "plt.show()"
      ]
    },
    {
      "attachments": {},
      "cell_type": "markdown",
      "metadata": {
        "id": "Ehf6hzS_f2H8"
      },
      "source": [
        "Comparing the expected galactic rotation curve and the observed flat rotation curve in one plot reveals the discrepancies that can be further investigated in the following modules. "
      ]
    },
    {
      "cell_type": "code",
      "execution_count": null,
      "metadata": {
        "id": "3W8Iay3xf2H9"
      },
      "outputs": [],
      "source": [
        "#NBVAL_IGNORE_OUTPUT\n",
        "#Because the calculation time naturally varies.\n",
        "# Calculation time\n",
        "executionTime3 = (time.time() - startTime)\n",
        "ttt3=executionTime3/60\n",
        "print(f'Execution time: {ttt3:.2f} minutes')"
      ]
    },
    {
      "attachments": {},
      "cell_type": "markdown",
      "metadata": {
        "id": "38iDnZujf2H9"
      },
      "source": [
        "### References"
      ]
    },
    {
      "attachments": {},
      "cell_type": "markdown",
      "metadata": {
        "id": "B2-WYvDmf2H9"
      },
      "source": [
        ">Carroll, B. W., &amp; Ostlie, D. A. (2018). **An Introduction to Modern Astrophysics**. Cambridge University Press. <br><br>\n",
        ">Williams, D. (2021, December 27). **Planetary Fact Sheet**. NASA. Retrieved February 27, 2022, from https://nssdc.gsfc.nasa.gov/planetary/factsheet/"
      ]
    },
    {
      "cell_type": "markdown",
      "metadata": {},
      "source": []
    },
    {
      "cell_type": "markdown",
      "metadata": {},
      "source": []
    },
    {
      "cell_type": "markdown",
      "metadata": {},
      "source": []
    }
  ],
  "metadata": {
    "colab": {
      "provenance": []
    },
    "kernelspec": {
      "display_name": "Python 3 (ipykernel)",
      "language": "python",
      "name": "python3"
    },
    "language_info": {
      "codemirror_mode": {
        "name": "ipython",
        "version": 3
      },
      "file_extension": ".py",
      "mimetype": "text/x-python",
      "name": "python",
      "nbconvert_exporter": "python",
      "pygments_lexer": "ipython3",
      "version": "3.9.undefined"
    }
  },
  "nbformat": 4,
  "nbformat_minor": 0
}
