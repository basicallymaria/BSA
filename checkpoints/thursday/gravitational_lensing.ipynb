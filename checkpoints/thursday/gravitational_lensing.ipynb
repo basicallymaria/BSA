{
  "cells": [
    {
      "cell_type": "markdown",
      "metadata": {
        "id": "qtVXXHFW8yXT"
      },
      "source": [
        "# Run this cell first!"
      ]
    },
    {
      "cell_type": "markdown",
      "metadata": {
        "id": "n_Vi5K9zCEvF"
      },
      "source": [
        "# Simple ring parameter constraints"
      ]
    },
    {
      "cell_type": "markdown",
      "metadata": {
        "id": "UKji9htZCEvH"
      },
      "source": [
        "This notebook provides test cases for the precision of a simple lens model (with simplified assumptions). This is for show-casing and to assess the uncertainty limit in how well the parameters of this model can be constrained.\n"
      ]
    },
    {
      "cell_type": "code",
      "execution_count": 2,
      "metadata": {
        "id": "skKt6jsiCEvH"
      },
      "outputs": [],
      "source": [
        "# import of standard python libraries\n",
        "import numpy as np\n",
        "import os\n",
        "import time\n",
        "import corner\n",
        "import matplotlib.pyplot as plt\n",
        "from mpl_toolkits.axes_grid1 import make_axes_locatable\n",
        "%matplotlib inline\n",
        "\n"
      ]
    },
    {
      "cell_type": "markdown",
      "metadata": {
        "id": "3pb-lf0l9Eb4"
      },
      "source": [
        "# Parameters to play around with"
      ]
    },
    {
      "cell_type": "code",
      "execution_count": 3,
      "metadata": {
        "id": "Oa9MzWt29D2P"
      },
      "outputs": [],
      "source": [
        "#see what happens to the light travel time if you change to the mass. Choose a number between 0.01 and 2\n",
        "mass_multiplier = 0.9\n",
        "\n",
        "# coordinates of the lens\n",
        "center_x = -0.1\n",
        "center_y = -0.1\n",
        "\n",
        "# coordinates of the source\n",
        "source_x = -0.1\n",
        "source_y = -0.1\n",
        "\n",
        "# how bright is the source\n",
        "source_brightness = 0.5"
      ]
    },
    {
      "cell_type": "markdown",
      "metadata": {
        "collapsed": true,
        "id": "HLNR9ZvqCEvH"
      },
      "source": [
        "## simulation choices"
      ]
    },
    {
      "cell_type": "code",
      "execution_count": 4,
      "metadata": {
        "id": "YL6KMnN8CEvH"
      },
      "outputs": [],
      "source": [
        "# data specifics\n",
        "background_rms = .005  #  background noise per pixel\n",
        "exp_time = 500.  #  exposure time (arbitrary units, flux per pixel is in units #photons/exp_time unit)\n",
        "numPix = 60  #  cutout pixel size per axis\n",
        "pixel_scale = 0.05  #  pixel size in arcsec (area per pixel = pixel_scale**2)\n",
        "fwhm = 0.05  # full width at half maximum of PSF\n",
        "psf_type = 'NONE'  # 'GAUSSIAN', 'PIXEL', 'NONE'\n",
        "\n",
        "# lensing quantities\n",
        "lens_model_list = ['SIE', 'SHEAR']\n",
        "kwargs_spemd = {'theta_E': .66* mass_multiplier, 'center_x': center_x, 'center_y': center_y, 'e1': .07, 'e2': -0.03}  # parameters of the deflector lens model\n",
        "kwargs_shear = {'gamma1': 0.0, 'gamma2': -0.05}  # shear values to the source plane\n",
        "\n",
        "kwargs_lens = [kwargs_spemd, kwargs_shear]\n",
        "from lenstronomy.LensModel.lens_model import LensModel\n",
        "lens_model_class = LensModel(lens_model_list)\n",
        "\n",
        "\n",
        "# Sersic parameters in the initial simulation for the source\n",
        "kwargs_sersic = {'amp': 16, 'R_sersic': 0.1, 'n_sersic': 1, 'e1': -0.1, 'e2': 0.1, 'center_x': source_x, 'center_y': source_y}\n",
        "source_model_list = ['SERSIC_ELLIPSE']\n",
        "kwargs_source = [kwargs_sersic]\n",
        "\n",
        "\n",
        "from lenstronomy.LightModel.light_model import LightModel\n",
        "source_model_class = LightModel(source_model_list)\n",
        "\n",
        "# galaxy light\n",
        "kwargs_sersic_lens = {'amp': 16*source_brightness, 'R_sersic': 0.6, 'n_sersic': 2, 'e1': -0.1, 'e2': 0.1, 'center_x': 0, 'center_y': 0}\n",
        "\n",
        "lens_light_model_list = ['SERSIC_ELLIPSE']\n",
        "kwargs_lens_light = [kwargs_sersic_lens]\n",
        "lens_light_model_class = LightModel(lens_light_model_list)\n"
      ]
    },
    {
      "cell_type": "code",
      "execution_count": 5,
      "metadata": {
        "id": "-yGfxZXFCEvI"
      },
      "outputs": [],
      "source": [
        "# import main simulation class of lenstronomy\n",
        "from lenstronomy.Util import util\n",
        "from lenstronomy.Data.imaging_data import ImageData\n",
        "from lenstronomy.Data.psf import PSF\n",
        "import lenstronomy.Util.image_util as image_util\n",
        "from lenstronomy.ImSim.image_model import ImageModel\n",
        "\n",
        "# generate the coordinate grid and image properties (we only read out the relevant lines we need)\n",
        "_, _, ra_at_xy_0, dec_at_xy_0, _, _, Mpix2coord, _ = util.make_grid_with_coordtransform(numPix=numPix, deltapix=pixel_scale, center_ra=0, center_dec=0, subgrid_res=1, inverse=False)\n",
        "\n",
        "\n",
        "kwargs_data = {'background_rms': background_rms,  # rms of background noise\n",
        "               'exposure_time': exp_time,  # exposure time (or a map per pixel)\n",
        "               'ra_at_xy_0': ra_at_xy_0,  # RA at (0,0) pixel\n",
        "               'dec_at_xy_0': dec_at_xy_0,  # DEC at (0,0) pixel\n",
        "               'transform_pix2angle': Mpix2coord,  # matrix to translate shift in pixel in shift in relative RA/DEC (2x2 matrix). Make sure it's units are arcseconds or the angular units you want to model.\n",
        "               'image_data': np.zeros((numPix, numPix))  # 2d data vector, here initialized with zeros as place holders that get's overwritten once a simulated image with noise is created.\n",
        "              }\n",
        "\n",
        "data_class = ImageData(**kwargs_data)\n",
        "# generate the psf variables\n",
        "kwargs_psf = {'psf_type': 'NONE', 'fwhm': fwhm, 'pixel_size': pixel_scale, 'truncation': 3}\n",
        "\n",
        "# if you are using a PSF estimate from e.g. a star in the FoV of your exposure, you can set\n",
        "#kwargs_psf = {'psf_type': 'PIXEL', 'pixel_size': deltaPix, 'kernel_point_source': 'odd numbered 2d grid with centered star/PSF model'}\n",
        "\n",
        "\n",
        "psf_class = PSF(**kwargs_psf)\n",
        "kwargs_numerics = {'supersampling_factor': 1, 'supersampling_convolution': False}\n",
        "\n",
        "imageModel = ImageModel(data_class, psf_class, lens_model_class=lens_model_class,\n",
        "                        source_model_class=source_model_class, lens_light_model_class=lens_light_model_class,\n",
        "                        kwargs_numerics=kwargs_numerics)\n",
        "\n",
        "# generate image\n",
        "image_model = imageModel.image(kwargs_lens, kwargs_source, kwargs_lens_light=kwargs_lens_light, kwargs_ps=None)\n",
        "\n",
        "poisson = image_util.add_poisson(image_model, exp_time=exp_time)\n",
        "bkg = image_util.add_background(image_model, sigma_bkd=background_rms)\n",
        "image_real = image_model + poisson + bkg\n",
        "\n",
        "data_class.update_data(image_real)\n",
        "kwargs_data['image_data'] = image_real"
      ]
    },
    {
      "cell_type": "markdown",
      "metadata": {
        "id": "5dJpI_B-tqnT"
      },
      "source": [
        "# Plot the image"
      ]
    },
    {
      "cell_type": "code",
      "execution_count": 6,
      "metadata": {
        "colab": {
          "base_uri": "https://localhost:8080/",
          "height": 807
        },
        "id": "ko24k3q0CEvI",
        "outputId": "fe6da008-5de6-479b-d287-edae31ac3948"
      },
      "outputs": [
        {
          "data": {
            "image/png": "[encoded data removed]",
            "text/plain": [
              "<Figure size 720x720 with 1 Axes>"
            ]
          },
          "metadata": {
            "needs_background": "light"
          },
          "output_type": "display_data"
        }
      ],
      "source": [
        "# display the initial simulated image\n",
        "f, axes = plt.subplots(1, 1, figsize=(10, 10), sharex=False, sharey=False)\n",
        "\n",
        "ax = axes\n",
        "im = ax.matshow(image_real, origin='lower', vmin= image_real.min(), vmax=image_real.max())\n",
        "ax.get_xaxis().set_visible(False)\n",
        "ax.get_yaxis().set_visible(False)\n",
        "ax.autoscale(False)\n",
        "\n",
        "plt.show()"
      ]
    },
    {
      "cell_type": "code",
      "execution_count": null,
      "metadata": {
        "id": "R0GDpjre-P6P"
      },
      "outputs": [],
      "source": []
    }
  ],
  "metadata": {
    "colab": {
      "provenance": []
    },
    "kernelspec": {
      "display_name": "astroconda",
      "language": "python",
      "name": "python3"
    },
    "language_info": {
      "codemirror_mode": {
        "name": "ipython",
        "version": 3
      },
      "file_extension": ".py",
      "mimetype": "text/x-python",
      "name": "python",
      "nbconvert_exporter": "python",
      "pygments_lexer": "ipython3",
      "version": "3.7.16"
    }
  },
  "nbformat": 4,
  "nbformat_minor": 0
}
