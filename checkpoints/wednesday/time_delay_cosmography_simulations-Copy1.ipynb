{
 "cells": [
  {
   "cell_type": "markdown",
   "metadata": {},
   "source": [
    "# Time delay-cosmography simulations\n",
    "\n",
    "This notebook requires standard python libraries and the publicly available packages on github:\n",
    "\n",
    "- lenstronomy (https://github.com/sibirrer/lenstronomy) (pip install lenstronomy)\n",
    "\n",
    "For further information, please get in touch with the author of this notebook, Simon Birrer: sibirrer@gmail.com"
   ]
  },
  {
   "cell_type": "code",
   "execution_count": 1,
   "metadata": {},
   "outputs": [],
   "source": [
    "# import of standard python libraries\n",
    "import numpy as np\n",
    "import os\n",
    "import time\n",
    "import corner\n",
    "import astropy.io.fits as pyfits\n",
    "\n",
    "import matplotlib.pyplot as plt\n",
    "from mpl_toolkits.axes_grid1 import make_axes_locatable\n",
    "%matplotlib inline\n",
    "\n",
    "# make sure lenstronomy is installed, otherwise install the latest pip version\n",
    "try:\n",
    "    import lenstronomy\n",
    "except:\n",
    "    !pip install lenstronomy\n",
    "\n",
    "# lenstronomy imports\n",
    "from lenstronomy.LensModel.lens_model import LensModel\n",
    "from lenstronomy.LensModel.Solver.lens_equation_solver import LensEquationSolver\n",
    "from lenstronomy.LightModel.light_model import LightModel\n",
    "from lenstronomy.PointSource.point_source import PointSource\n",
    "from lenstronomy.ImSim.image_model import ImageModel\n",
    "import lenstronomy.Util.param_util as param_util\n",
    "import lenstronomy.Util.simulation_util as sim_util\n",
    "import lenstronomy.Util.image_util as image_util\n",
    "from lenstronomy.Util import kernel_util\n",
    "from lenstronomy.Data.imaging_data import ImageData\n",
    "from lenstronomy.Data.psf import PSF"
   ]
  },
  {
   "cell_type": "markdown",
   "metadata": {
    "collapsed": true
   },
   "source": [
    "## simulation choices"
   ]
  },
  {
   "cell_type": "code",
   "execution_count": 2,
   "metadata": {},
   "outputs": [],
   "source": [
    "\n",
    "# define lens configuration and cosmology (not for lens modelling)\n",
    "z_lens = 0.5\n",
    "z_source = 1.5\n",
    "from astropy.cosmology import FlatLambdaCDM\n",
    "cosmo = FlatLambdaCDM(H0=70, Om0=0.3, Ob0=0.)\n",
    "\n",
    "numPix = 100  #  cutout pixel size\n",
    "deltaPix = 0.05  #  pixel size in arcsec (area per pixel = deltaPix**2)\n"
   ]
  },
  {
   "cell_type": "markdown",
   "metadata": {},
   "source": [
    "## Pick a value to multiply the mass by"
   ]
  },
  {
   "cell_type": "code",
   "execution_count": 3,
   "metadata": {},
   "outputs": [],
   "source": [
    "##see what happens to the light travel time if you change to the mass. Choose a number between 0.01 and 2\n",
    "\n",
    "mass_multiplier = 0.1"
   ]
  },
  {
   "cell_type": "code",
   "execution_count": 4,
   "metadata": {},
   "outputs": [
    {
     "name": "stdout",
     "output_type": "stream",
     "text": [
      "[-0.04759417 -0.00481531] [ 0.25570597 -0.05659554]\n"
     ]
    }
   ],
   "source": [
    "# lensing quantities\n",
    "gamma1, gamma2 = param_util.shear_polar2cartesian(phi=-0.5, gamma=0.06)\n",
    "kwargs_shear = {'gamma1': gamma1, 'gamma2': gamma2}  # shear values\n",
    "\n",
    "\n",
    "kwargs_spemd = {'theta_E': 1.6*mass_multiplier, 'gamma': 1.98, 'center_x': 0.0, 'center_y': 0.0, 'e1': 0.05, 'e2': 0.05}  # parameters of the deflector lens model\n",
    "\n",
    "# the lens model is a supperposition of an elliptical lens model with external shear\n",
    "lens_model_list = ['EPL', 'SHEAR']\n",
    "kwargs_lens = [kwargs_spemd, kwargs_shear]\n",
    "lens_model_class = LensModel(lens_model_list=lens_model_list, z_lens=z_lens, z_source=z_source, cosmo=cosmo)\n",
    "\n",
    "# choice of source type\n",
    "source_type = 'SERSIC'  # 'SERSIC' or 'SHAPELETS'\n",
    "\n",
    "source_x = 0.\n",
    "source_y = 0.1\n",
    "\n",
    "\n",
    "# Sersic parameters in the initial simulation\n",
    "phi_G, q = 0.5, 0.8\n",
    "e1, e2 = param_util.phi_q2_ellipticity(phi_G, q)\n",
    "kwargs_sersic_source = {'amp': 4000, 'R_sersic': 0.2, 'n_sersic': 1, 'e1': e1, 'e2': e2, 'center_x': source_x, 'center_y': source_y}\n",
    "#kwargs_else = {'sourcePos_x': source_x, 'sourcePos_y': source_y, 'quasar_amp': 400., 'gamma1_foreground': 0.0, 'gamma2_foreground':-0.0}\n",
    "source_model_list = ['SERSIC_ELLIPSE']\n",
    "kwargs_source = [kwargs_sersic_source]\n",
    "source_model_class = LightModel(light_model_list=source_model_list)\n",
    "\n",
    "\n",
    "# lens light model\n",
    "phi_G, q = 0.9, 0.9\n",
    "e1, e2 = param_util.phi_q2_ellipticity(phi_G, q)\n",
    "kwargs_sersic_lens = {'amp': 8000, 'R_sersic': 0.4, 'n_sersic': 2., 'e1': e1, 'e2': e2, 'center_x': 0.0, 'center_y': 0}\n",
    "lens_light_model_list = ['SERSIC_ELLIPSE']\n",
    "kwargs_lens_light = [kwargs_sersic_lens]\n",
    "lens_light_model_class = LightModel(light_model_list=lens_light_model_list)\n",
    "\n",
    "lensEquationSolver = LensEquationSolver(lens_model_class)\n",
    "x_image, y_image = lensEquationSolver.findBrightImage(source_x, source_y, kwargs_lens, numImages=4,\n",
    "                                                      min_distance=deltaPix, search_window=numPix * deltaPix)\n",
    "\n",
    "print(x_image, y_image)\n",
    "\n",
    "mag = lens_model_class.magnification(x_image, y_image, kwargs=kwargs_lens)\n",
    "kwargs_ps = [{'ra_image': x_image, 'dec_image': y_image,\n",
    "                           'point_amp': np.abs(mag)*1000}]  # quasar point source position in the source plane and intrinsic brightness\n",
    "point_source_list = ['LENSED_POSITION']\n",
    "point_source_class = PointSource(point_source_type_list=point_source_list, fixed_magnification_list=[False])\n",
    "\n",
    "\n",
    "kwargs_model = {'lens_model_list': lens_model_list, \n",
    "                 'lens_light_model_list': lens_light_model_list,\n",
    "                 'source_light_model_list': source_model_list,\n",
    "                'point_source_model_list': point_source_list\n",
    "                 }\n"
   ]
  },
  {
   "cell_type": "code",
   "execution_count": null,
   "metadata": {},
   "outputs": [],
   "source": []
  },
  {
   "cell_type": "code",
   "execution_count": 14,
   "metadata": {},
   "outputs": [
    {
     "data": {
      "image/png": "[encoded data removed]",
      "text/plain": [
       "<Figure size 640x480 with 1 Axes>"
      ]
     },
     "metadata": {},
     "output_type": "display_data"
    }
   ],
   "source": [
    "# data specifics for the image generated\n",
    "background_rms = 0.01  #  background noise per pixel\n",
    "exp_time = 500.  #  exposure time (arbitrary units, flux per pixel is in units #photons/exp_time unit)\n",
    "numPix = 40  #  cutout pixel size per axis\n",
    "pixel_scale = 0.03  #  pixel size in arcsec (area per pixel = pixel_scale**2)\n",
    "fwhm = 0.05  # full width at half maximum of PSF\n",
    "psf_type = 'NONE'  # 'GAUSSIAN', 'PIXEL', 'NONE'\n",
    "\n",
    "# import main simulation class of lenstronomy\n",
    "from lenstronomy.Util import util\n",
    "from lenstronomy.Data.imaging_data import ImageData\n",
    "from lenstronomy.Data.psf import PSF\n",
    "import lenstronomy.Util.image_util as image_util\n",
    "from lenstronomy.ImSim.image_model import ImageModel\n",
    "\n",
    "# generate the coordinate grid and image properties (we only read out the relevant lines we need)\n",
    "_, _, ra_at_xy_0, dec_at_xy_0, _, _, Mpix2coord, _ = util.make_grid_with_coordtransform(numPix=numPix,\n",
    "                                                                                        deltapix=pixel_scale,\n",
    "                                                                                        center_ra=0,\n",
    "                                                                                        center_dec=0,\n",
    "                                                                                        subgrid_res=1,\n",
    "                                                                                        inverse=False)\n",
    "\n",
    "# create the data\n",
    "kwargs_data = {'background_rms': background_rms,  # rms of background noise\n",
    "               'exposure_time': exp_time,  # exposure time (or a map per pixel)\n",
    "               'ra_at_xy_0': ra_at_xy_0,  # RA at (0,0) pixel\n",
    "               'dec_at_xy_0': dec_at_xy_0,  # DEC at (0,0) pixel \n",
    "               'transform_pix2angle': Mpix2coord,  # matrix to translate shift in pixel in shift in relative RA/DEC (2x2 matrix). Make sure it's units are arcseconds or the angular units you want to model.\n",
    "               'image_data': np.zeros((numPix, numPix))  # 2d data vector, here initialized with zeros as place holders that get's overwritten once a simulated image with noise is created.\n",
    "              }\n",
    "\n",
    "# create the data instance\n",
    "data_class = ImageData(**kwargs_data)\n",
    "\n",
    "# generate the psf variables\n",
    "kwargs_psf = {'psf_type': psf_type, 'fwhm': fwhm, 'pixel_size': pixel_scale, 'truncation': 3}\n",
    "psf_class = PSF(**kwargs_psf)\n",
    "kwargs_numerics = {'supersampling_factor': 1, 'supersampling_convolution': False}\n",
    "\n",
    "# create the image \n",
    "### this needs the class instances for the source and the lens\n",
    "\n",
    "imageModel = ImageModel(data_class, psf_class, lens_model_class=lens_model_class, \n",
    "                        source_model_class=source_model_class,\n",
    "                        kwargs_numerics=kwargs_numerics)\n",
    "\n",
    "### here i take in the kwargs for lens and source\n",
    "image_model = imageModel.image(kwargs_lens, kwargs_source, kwargs_ps=None)\n",
    "kwargs_data['image_data'] = image_model\n",
    "\n",
    "# plot the image\n",
    "plt.imshow(image_model, origin='lower')\n",
    "plt.show()"
   ]
  },
  {
   "cell_type": "markdown",
   "metadata": {},
   "source": [
    "## time delays\n",
    "time delays are defined in **lenstronomy** as the difference in light travel path relative to a straight line. Negative values correspond to earlier arrival times. The units are in days."
   ]
  },
  {
   "cell_type": "code",
   "execution_count": 5,
   "metadata": {},
   "outputs": [
    {
     "name": "stdout",
     "output_type": "stream",
     "text": [
      "It takes 2.647137414727546 extra days for the light to arrive because of the massive object\n",
      "This equals 42592441002.96622 extra miles of distance for the light to travel\n"
     ]
    }
   ],
   "source": [
    "from lenstronomy.Analysis.td_cosmography import TDCosmography\n",
    "td_cosmo = TDCosmography(z_lens, z_source, kwargs_model, cosmo_fiducial=cosmo)\n",
    "\n",
    "t_days = td_cosmo.time_delays(kwargs_lens, kwargs_ps, kappa_ext=0)\n",
    "\n",
    "light_days = abs(t_days[0])\n",
    "print(\"It takes %s extra days for the light to arrive because of the massive object\"%(light_days))\n",
    "extra_miles = light_days*1.609e+10\n",
    "print(\"This equals %s extra miles of distance for the light to travel\"%(extra_miles))\n"
   ]
  },
  {
   "cell_type": "code",
   "execution_count": 6,
   "metadata": {},
   "outputs": [],
   "source": [
    "# you try: make a plot of the distance traveled by the light as a function of the mass_multiplier\n"
   ]
  }
 ],
 "metadata": {
  "kernelspec": {
   "display_name": "bsa",
   "language": "python",
   "name": "python3"
  },
  "language_info": {
   "codemirror_mode": {
    "name": "ipython",
    "version": 3
   },
   "file_extension": ".py",
   "mimetype": "text/x-python",
   "name": "python",
   "nbconvert_exporter": "python",
   "pygments_lexer": "ipython3",
   "version": "3.12.4"
  }
 },
 "nbformat": 4,
 "nbformat_minor": 1
}
