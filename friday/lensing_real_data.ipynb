{
 "cells": [
  {
   "cell_type": "markdown",
   "metadata": {},
   "source": [
    "# Notebook that uses real data as source for gravitational lens quad"
   ]
  },
  {
   "cell_type": "code",
   "execution_count": 1,
   "metadata": {},
   "outputs": [],
   "source": [
    "# some python imports\n",
    "import matplotlib.pyplot as plt\n",
    "import numpy as np\n",
    "from mpl_toolkits.axes_grid1 import make_axes_locatable\n",
    "%matplotlib inline\n",
    "from astropy.io import fits\n",
    "# make sure lenstronomy is installed, otherwise install the latest pip version\n",
    "try:\n",
    "    import lenstronomy\n",
    "except:\n",
    "    !pip install lenstronomy\n",
    "\n",
    "import lenstronomy.Util.simulation_util as sim_util\n",
    "import lenstronomy.Util.image_util as image_util\n",
    "from lenstronomy.Util import param_util\n",
    "from lenstronomy.ImSim.image_model import ImageModel\n",
    "from lenstronomy.PointSource.point_source import PointSource\n",
    "from lenstronomy.LensModel.lens_model import LensModel\n",
    "from lenstronomy.LensModel.Solver.lens_equation_solver import LensEquationSolver\n",
    "from lenstronomy.LightModel.light_model import LightModel\n",
    "from lenstronomy.Sampling.parameters import Param\n",
    "from lenstronomy.Data.imaging_data import ImageData\n",
    "from lenstronomy.Data.psf import PSF\n"
   ]
  },
  {
   "cell_type": "code",
   "execution_count": 2,
   "metadata": {},
   "outputs": [
    {
     "data": {
      "image/png": "[encoded data removed]",
      "text/plain": [
       "<Figure size 480x480 with 1 Axes>"
      ]
     },
     "metadata": {},
     "output_type": "display_data"
    }
   ],
   "source": [
    "# read in the galaxy image for PG 0052+ 251\n",
    "hdu = fits.open('data/pg52.fits')\n",
    "data = hdu[0].data\n",
    "\n",
    "# plot the image\n",
    "plt.matshow(data, origin='lower')\n",
    "plt.show()"
   ]
  },
  {
   "cell_type": "code",
   "execution_count": 5,
   "metadata": {},
   "outputs": [
    {
     "data": {
      "image/png": "[encoded data removed]",
      "text/plain": [
       "<Figure size 480x480 with 1 Axes>"
      ]
     },
     "metadata": {},
     "output_type": "display_data"
    }
   ],
   "source": [
    "# create a cutout of the data\n",
    "# we will use this cutout to simulate the lensing system\n",
    "data_cutout = data[50:70, 50:70]\n",
    "plt.matshow(data_cutout, origin='lower')\n",
    "plt.show()\n"
   ]
  },
  {
   "cell_type": "markdown",
   "metadata": {},
   "source": [
    "### Q: create a square cutout of the data around the center and plot it, use this cutout as your source for the lensing\n",
    "### Hint: check how big your image and where the center is\n"
   ]
  },
  {
   "cell_type": "code",
   "execution_count": null,
   "metadata": {},
   "outputs": [],
   "source": [
    "# lens position\n",
    "# change these values to see how the lensed image changes\n",
    "ra_lens, dec_lens = 0, 0\n",
    "# mass multiplier \n",
    "mass_multiplier = 1\n",
    "\n",
    "\n",
    "# quasar point source position in the source plane \n",
    "# change these values to see how the lensed image changes\n",
    "ra_source, dec_source = 0, 0\n",
    "\n",
    "# brightness of the source\n",
    "source_brightness = 100"
   ]
  },
  {
   "cell_type": "code",
   "execution_count": null,
   "metadata": {},
   "outputs": [],
   "source": [
    "\n",
    "# data specifics\n",
    "background_rms = .5  # background noise per pixel\n",
    "exp_time = 100  # exposure time (arbitrary units, flux per pixel is in units #photons/exp_time unit)\n",
    "numPix = 100  # cutout pixel size\n",
    "deltaPix = 0.05  # pixel size in arcsec (area per pixel = deltaPix**2)\n",
    "fwhm = 0.1  # full width half max of PSF\n",
    "\n",
    "# PSF specification\n",
    "\n",
    "kwargs_data = sim_util.data_configure_simple(numPix, deltaPix, exp_time, background_rms)\n",
    "data_class = ImageData(**kwargs_data)\n",
    "kwargs_psf = {'psf_type': 'GAUSSIAN', 'fwhm': fwhm, 'pixel_size': deltaPix, 'truncation': 5}\n",
    "psf_class = PSF(**kwargs_psf)\n",
    "\n",
    "lens_model_list = ['EPL', 'SHEAR']\n",
    "\n",
    "gamma1, gamma2 = param_util.shear_polar2cartesian(phi=0.1, gamma=0.02)# gamma_ext: shear strength, psi_ext: shear angel (in radian)\n",
    "kwargs_shear = {'gamma1': gamma1, 'gamma2': gamma2}  \n",
    "kwargs_pemd = {'theta_E': 1. * mass_multiplier, 'gamma': 1.96, 'center_x': ra_lens, 'center_y': dec_lens, 'e1': 0.1, 'e2': 0.2}\n",
    "kwargs_lens = [kwargs_pemd, kwargs_shear]\n",
    "lens_model_class = LensModel(lens_model_list=lens_model_list)\n",
    "\n",
    "# list of light profiles (for lens and source)\n",
    "# 'SERSIC': spherical Sersic profile\n",
    "lens_light_model_list = ['SERSIC']\n",
    "kwargs_sersic = {'amp': 10, 'R_sersic': 1., 'n_sersic': 2, 'center_x': ra_lens, 'center_y': dec_lens}\n",
    "kwargs_lens_light = [kwargs_sersic]\n",
    "lens_light_model_class = LightModel(light_model_list=lens_light_model_list)\n",
    "\n",
    "# 'INTERPOL': interpolated model from an image\n",
    "source_model_list = ['INTERPOL']\n",
    "### MUST CREATE A DATA CUTOUT! ###\n",
    "kwargs_interpol = {'image': data_cutout, 'amp': 1* source_brightness, 'center_x': ra_source, 'center_y': dec_source, 'scale': 0.1}\n",
    "\n",
    "kwargs_source = [kwargs_interpol]\n",
    "source_model_class = LightModel(light_model_list=source_model_list)\n",
    "\n",
    "lensEquationSolver = LensEquationSolver(lens_model_class)\n",
    "x_image, y_image = lensEquationSolver.findBrightImage(ra_source, dec_source, kwargs_lens, numImages=4,\n",
    "                                                      min_distance=deltaPix, search_window=numPix * deltaPix)\n",
    "# compute lensing magnification at image positions\n",
    "mag = lens_model_class.magnification(x_image, y_image, kwargs=kwargs_lens)\n",
    "mag = np.abs(mag)  # ignore the sign of the magnification\n",
    "\n",
    "\n",
    "kwargs_numerics = {'supersampling_factor': 1, 'supersampling_convolution': False}\n",
    "imageModel = ImageModel(data_class, psf_class, lens_model_class, source_model_class,\n",
    "                                lens_light_model_class,\n",
    "                                kwargs_numerics=kwargs_numerics)\n",
    "image_sim = imageModel.image(kwargs_lens, kwargs_source, kwargs_lens_light, kwargs_ps = None)\n",
    "\n",
    "kwargs_data['image_data'] = image_sim\n",
    "data_class.update_data(image_sim)\n",
    "\n",
    "plt.matshow(np.log10(image_sim), origin='lower')\n",
    "plt.show()"
   ]
  },
  {
   "cell_type": "markdown",
   "metadata": {},
   "source": [
    "### Q: try lensing one of the other files!"
   ]
  },
  {
   "cell_type": "code",
   "execution_count": null,
   "metadata": {},
   "outputs": [],
   "source": []
  }
 ],
 "metadata": {
  "kernelspec": {
   "display_name": "bsa",
   "language": "python",
   "name": "python3"
  },
  "language_info": {
   "codemirror_mode": {
    "name": "ipython",
    "version": 3
   },
   "file_extension": ".py",
   "mimetype": "text/x-python",
   "name": "python",
   "nbconvert_exporter": "python",
   "pygments_lexer": "ipython3",
   "version": "3.12.4"
  }
 },
 "nbformat": 4,
 "nbformat_minor": 2
}
