{
 "cells": [
  {
   "cell_type": "markdown",
   "metadata": {
    "id": "BRTCkv4TgtK9"
   },
   "source": [
    "# Import necessary packages!"
   ]
  },
  {
   "cell_type": "code",
   "execution_count": null,
   "metadata": {},
   "outputs": [],
   "source": [
    "# Download a static FFmpeg build and add it to PATH.\n",
    "exist = !which ffmpeg\n",
    "if not exist:\n",
    "  !curl https://johnvansickle.com/ffmpeg/releases/ffmpeg-release-amd64-static.tar.xz -o ffmpeg.tar.xz \\\n",
    "     && tar -xf ffmpeg.tar.xz && rm ffmpeg.tar.xz\n",
    "  ffmdir = !find . -iname ffmpeg-*-static\n",
    "  path = %env PATH\n",
    "  path = path + ':' + ffmdir[0]\n",
    "  %env PATH $path\n",
    "print('')\n",
    "!which ffmpeg\n",
    "print('Done!')"
   ]
  },
  {
   "cell_type": "code",
   "execution_count": 16,
   "metadata": {},
   "outputs": [
    {
     "name": "stdout",
     "output_type": "stream",
     "text": [
      "Collecting git+https://github.com/tensorflow/docs\n",
      "  Cloning https://github.com/tensorflow/docs to /private/var/folders/2r/gwrt1nq934zd6xky7hbfb8_80000gn/T/pip-req-build-ux3ufsfj\n",
      "  Running command git clone --filter=blob:none --quiet https://github.com/tensorflow/docs /private/var/folders/2r/gwrt1nq934zd6xky7hbfb8_80000gn/T/pip-req-build-ux3ufsfj\n",
      "  Resolved https://github.com/tensorflow/docs to commit 773bcc865af5d5a45b405c80faf6fcc3cc510d7d\n",
      "  Preparing metadata (setup.py) ... \u001b[?25ldone\n",
      "\u001b[?25hRequirement already satisfied: astor in /Users/mariafirenze/.local/lib/python3.12/site-packages (from tensorflow-docs==2024.7.15.51478) (0.8.1)\n",
      "Requirement already satisfied: absl-py in /Users/mariafirenze/.local/lib/python3.12/site-packages (from tensorflow-docs==2024.7.15.51478) (2.1.0)\n",
      "Requirement already satisfied: jinja2 in /Users/mariafirenze/.local/lib/python3.12/site-packages (from tensorflow-docs==2024.7.15.51478) (3.1.4)\n",
      "Requirement already satisfied: nbformat in /Users/mariafirenze/.local/lib/python3.12/site-packages (from tensorflow-docs==2024.7.15.51478) (5.10.4)\n",
      "Requirement already satisfied: protobuf>=3.12 in /Users/mariafirenze/.local/lib/python3.12/site-packages (from tensorflow-docs==2024.7.15.51478) (5.27.2)\n",
      "Requirement already satisfied: pyyaml in /usr/local/Caskroom/miniconda/base/envs/bsa/lib/python3.12/site-packages (from tensorflow-docs==2024.7.15.51478) (6.0.1)\n",
      "Requirement already satisfied: MarkupSafe>=2.0 in /Users/mariafirenze/.local/lib/python3.12/site-packages (from jinja2->tensorflow-docs==2024.7.15.51478) (2.1.5)\n",
      "Requirement already satisfied: fastjsonschema>=2.15 in /Users/mariafirenze/.local/lib/python3.12/site-packages (from nbformat->tensorflow-docs==2024.7.15.51478) (2.20.0)\n",
      "Requirement already satisfied: jsonschema>=2.6 in /Users/mariafirenze/.local/lib/python3.12/site-packages (from nbformat->tensorflow-docs==2024.7.15.51478) (4.23.0)\n",
      "Requirement already satisfied: jupyter-core!=5.0.*,>=4.12 in /usr/local/Caskroom/miniconda/base/envs/bsa/lib/python3.12/site-packages (from nbformat->tensorflow-docs==2024.7.15.51478) (5.7.2)\n",
      "Requirement already satisfied: traitlets>=5.1 in /usr/local/Caskroom/miniconda/base/envs/bsa/lib/python3.12/site-packages (from nbformat->tensorflow-docs==2024.7.15.51478) (5.14.3)\n",
      "Requirement already satisfied: attrs>=22.2.0 in /Users/mariafirenze/.local/lib/python3.12/site-packages (from jsonschema>=2.6->nbformat->tensorflow-docs==2024.7.15.51478) (23.2.0)\n",
      "Requirement already satisfied: jsonschema-specifications>=2023.03.6 in /Users/mariafirenze/.local/lib/python3.12/site-packages (from jsonschema>=2.6->nbformat->tensorflow-docs==2024.7.15.51478) (2023.12.1)\n",
      "Requirement already satisfied: referencing>=0.28.4 in /Users/mariafirenze/.local/lib/python3.12/site-packages (from jsonschema>=2.6->nbformat->tensorflow-docs==2024.7.15.51478) (0.35.1)\n",
      "Requirement already satisfied: rpds-py>=0.7.1 in /Users/mariafirenze/.local/lib/python3.12/site-packages (from jsonschema>=2.6->nbformat->tensorflow-docs==2024.7.15.51478) (0.19.0)\n",
      "Requirement already satisfied: platformdirs>=2.5 in /usr/local/Caskroom/miniconda/base/envs/bsa/lib/python3.12/site-packages (from jupyter-core!=5.0.*,>=4.12->nbformat->tensorflow-docs==2024.7.15.51478) (4.2.2)\n"
     ]
    }
   ],
   "source": [
    "# install tensorflow\n",
    "import sys\n",
    "!{sys.executable} -m pip install -U --user git+https://github.com/tensorflow/docs"
   ]
  },
  {
   "cell_type": "code",
   "execution_count": null,
   "metadata": {
    "id": "1V1dXiTDf2Hz"
   },
   "outputs": [],
   "source": [
    "# Import dependencies\n",
    "import sys\n",
    "sys.path.append('python/')\n",
    "import numpy as np\n",
    "import matplotlib.pyplot as plt\n",
    "import time\n",
    "startTime = time.time()\n",
    "from ipywidgets.widgets import HTML\n",
    "import tensorflow_docs.vis.embed as savior\n",
    "import matplotlib.animation as ani\n"
   ]
  },
  {
   "cell_type": "markdown",
   "metadata": {
    "id": "3Ijr9mPYf2Hw"
   },
   "source": [
    "# Introduction to Rotation Curves"
   ]
  },
  {
   "cell_type": "markdown",
   "metadata": {
    "id": "YsWZFLrof2H0"
   },
   "source": [
    "A rotation curve plots the rotational velocity of stars in a galaxy in terms of their distance from the center, also known as the radius. Using photometric data of the luminous matter, a rotation curve of a galaxy can be created. It is used to estimate the mass inside a radius by equating the centripetal force to the gravitational force:\n",
    "\n",
    "\\begin{equation}\n",
    "\\frac{mv^2}{r}=\\frac{G M_{enc}(r)}{r^2}\n",
    "\\end{equation}\n",
    "\n",
    "where:\n",
    "        $v$ = rotational velocity\n",
    "        $G$ = gravitational constant\n",
    "        $M_{enc}(r)$ = enclosed mass as a function of radius\n",
    "        $r$ = radius or distance from the center of the galaxy\n",
    "    \n",
    "\n",
    "Rotation curves of some spiral galaxies reveal a discrepancy in the measured and luminous mass. The relationship between the rotational velocity and mass is important to the study of Dark Matter. Plotting the rotation curves of edge-on spiral galaxies and their components can be used as a tool to find the Dark Matter rotation curve and its corresponding mass.\n",
    "\n",
    "This notebook aims to demonstrate two different rotation curve types- planet-like rotation and flat rotation."
   ]
  },
  {
   "cell_type": "markdown",
   "metadata": {
    "id": "p5KS3OGJf2H3"
   },
   "source": [
    "## Planet-like rotation"
   ]
  },
  {
   "cell_type": "markdown",
   "metadata": {
    "id": "tAhxudw6f2H3"
   },
   "source": [
    "Non-rigid rotating bodies have more flexibility in their rotation. The most well-known example is the Keplerian model, which models orbital rotation in solar systems and planetary motion. This model has most of its mass concentrated in the center of the rotating object with satellites free to orbit around the center. With planet-like rotation, rotational velocity is inversely proportional to the square root of the radius:\n",
    "\n",
    "\\begin{equation}\n",
    "v \\propto \\frac{1}{\\sqrt{r}}\n",
    "\\end{equation}\n",
    "\n",
    "One example is our Solar System with eight planets orbiting the Sun at the center. "
   ]
  },
  {
   "cell_type": "markdown",
   "metadata": {
    "id": "PGAbsTE8f2H3"
   },
   "source": [
    "### Q: What does the graph $1/\\sqrt r$ vs. $v$ look like? "
   ]
  },
  {
   "cell_type": "markdown",
   "metadata": {
    "id": "4_6lYV5Cf2H4"
   },
   "source": [
    "### Q: Find the missing parameters!"
   ]
  },
  {
   "cell_type": "code",
   "execution_count": null,
   "metadata": {
    "id": "Lr0BQhPQf2H4"
   },
   "outputs": [],
   "source": [
    "# Parameters\n",
    "G = 1         # Gravitational constant (in m^3 kg^-1 s^-2)\n",
    "AU = 1           # AU Astronomical Unit (in meters)\n",
    "\n",
    "\n",
    "# Masses of the planets (M) in kg\n",
    "\n",
    "# we can multiply the mass of the Sun by a factor to increase the mass of the Sun\n",
    "# keep it as 1 for now\n",
    "M_sun_multiplier = 1\n",
    "\n",
    "# you can have the mass of the planets in terms of the mass of the Earth or in kg, just be consistent with the units\n",
    "\n",
    "M_Earth = 1     \n",
    "M_Sun = 1*M_Earth*M_sun_multiplier\n",
    "M_Mercury = 1*M_Earth\n",
    "M_Venus = 1*M_Earth\n",
    "M_Mars = 1*M_Earth\n",
    "M_Jupiter =1*M_Earth\n",
    "M_Saturn = 1*M_Earth\n",
    "M_Uranus = 1*M_Earth\n",
    "M_Neptune = 1*M_Earth\n",
    "\n",
    "\n",
    "# Distances of planets from the Sun (r) in meters\n",
    "\n",
    "# you can have the distance of the planets in AU or in m, just be consistent with the units\n",
    "r_Earth = AU\n",
    "r_Mercury = 1*AU \n",
    "r_Venus = 1*AU\n",
    "r_Mars = 1*AU\n",
    "r_Jupiter = 1*AU\n",
    "r_Saturn = 1*AU\n",
    "r_Uranus = 1*AU\n",
    "r_Neptune = 1*AU\n",
    "\n"
   ]
  },
  {
   "cell_type": "code",
   "execution_count": null,
   "metadata": {
    "id": "UG3wSe35f2H4"
   },
   "outputs": [],
   "source": [
    "# CALCULATIONS\n",
    "# Make array of masses\n",
    "massesSS = np.array([M_Mercury,M_Venus,M_Earth,M_Mars,M_Jupiter,M_Saturn,M_Uranus,M_Neptune])\n",
    "\n",
    "# Make array of radii\n",
    "radiusSS = # fill in the radii of the planets\n",
    "\n",
    "# compute the velocities of the planets\n",
    "# recall the formula for the orbital velocity of a planet\n",
    "\n",
    "# Orbital velocity of planets (v) in m/s\n",
    "v_Mercury = np.sqrt((G*M_Sun)/r_Mercury)\n",
    "v_Venus = # fill in the velocity of Venus\n",
    "v_Earth = # fill in the velocity of Earth\n",
    "v_Mars = # fill in the velocity of Mars\n",
    "v_Jupiter =  # fill in the velocity of Jupiter\n",
    "v_Saturn = # fill in the velocity of Saturn\n",
    "v_Uranus = # fill in the velocity of Uranus\n",
    "v_Neptune = # fill in the velocity of Neptune\n",
    "\n",
    "# Make array of velocities\n",
    "velocitySS = # fill in the velocities of the planets"
   ]
  },
  {
   "cell_type": "code",
   "execution_count": null,
   "metadata": {},
   "outputs": [],
   "source": [
    "# import the functions to make animations and plot the rotation curve\n",
    "from functions import MakeAnimation, PlotRotationCurve"
   ]
  },
  {
   "cell_type": "code",
   "execution_count": null,
   "metadata": {
    "id": "N3Xs8Rwpf2H4"
   },
   "outputs": [],
   "source": [
    "# Make animation\n",
    "MakeAnimation(1e-3*radiusSS,1e-3*velocitySS,   # change distance unit to km, velocity unit to km/s\n",
    "                         5e10,1e7,                        # time and dt\n",
    "                         'solarsystem.gif','Planet-like Rotation',\n",
    "                         1e8,1e8,                         # xlim and ylim\n",
    "                         size=True,masses=massesSS)    \n",
    "# Display animation\n",
    "savior.embed_file(\"solarsystem.gif\")"
   ]
  },
  {
   "cell_type": "code",
   "execution_count": null,
   "metadata": {
    "id": "4UJIrKzWf2H4"
   },
   "outputs": [],
   "source": [
    "PlotRotationCurve(1e-3*radiusSS,1e-3*velocitySS,\n",
    "                  'Planet-like Rotation Curve',\n",
    "                  xlabel='Radius (km)',ylabel='Velocity (km/s)',\n",
    "                  xlim=1e8,ylim=5)"
   ]
  },
  {
   "cell_type": "markdown",
   "metadata": {
    "id": "gtrBzecYf2H4"
   },
   "source": [
    "In a planet-like rotation, none of the bodies are attached to one another in any way, so they can move in relation to one another. Often, there is a single, dominant source of mass at the center -- in the case of our Solar system, the Sun is massive enough that we can ignore the masses of planets in our calculations. However, if there is a significant amount of mass between the center and the bodies we are observing, we may get different results."
   ]
  },
  {
   "cell_type": "markdown",
   "metadata": {},
   "source": [
    "### Q: Change the mass of the sun (M_sun_multiplier), how does it affect the velocity curves? Write out your predictions."
   ]
  },
  {
   "cell_type": "markdown",
   "metadata": {},
   "source": [
    "### Q: Change the distance to the planets, how does that affect the velocity curve?"
   ]
  },
  {
   "cell_type": "markdown",
   "metadata": {},
   "source": [
    "### Q: If you make the distance twice as large, how much more massive does the Sun have to be in order to keep the speed the same?"
   ]
  },
  {
   "cell_type": "markdown",
   "metadata": {
    "id": "7qI0RXLbf2H4"
   },
   "source": [
    "## Expected galactic rotation"
   ]
  },
  {
   "cell_type": "markdown",
   "metadata": {
    "id": "LNoo8XbOf2H4"
   },
   "source": [
    "Similar to planet-like rotation, the rotation curve of galaxies should decline at larger radii with the difference of rotational velocities of stars and gas gradually increasing closer to the center. A quick sketch is shown below to compare with other rotation curves."
   ]
  },
  {
   "cell_type": "code",
   "execution_count": null,
   "metadata": {
    "id": "4NQ7Y1y1f2H4"
   },
   "outputs": [],
   "source": [
    "# Arbitrary distance and velocity for animation and plot\n",
    "radiusEGR = np.array([1,2,2.5,3,3.5,4,5,6,7])\n",
    "velocityEGR = np.array([0.10,0.23,0.27,0.29,0.27,0.24,0.21,0.19,0.18])"
   ]
  },
  {
   "cell_type": "code",
   "execution_count": null,
   "metadata": {
    "id": "QDYzltMlf2H5"
   },
   "outputs": [],
   "source": [
    "# make the animation\n",
    "MakeAnimation(radiusEGR,velocityEGR,200,1,'expgalacticrotation.gif','Expected Galactic Rotation')\n",
    "# Display animation\n",
    "savior.embed_file(\"expgalacticrotation.gif\")"
   ]
  },
  {
   "cell_type": "code",
   "execution_count": null,
   "metadata": {
    "id": "W78UC_9If2H5"
   },
   "outputs": [],
   "source": [
    "PlotRotationCurve(radiusEGR,velocityEGR,'Expected Galactic Rotation')"
   ]
  },
  {
   "cell_type": "markdown",
   "metadata": {
    "id": "iPpZcMWRf2H5"
   },
   "source": [
    "## Flat rotation"
   ]
  },
  {
   "cell_type": "markdown",
   "metadata": {
    "id": "n-vwhLiMf2H7"
   },
   "source": [
    "The mass distribution of a galaxy based on luminous matter is similar to the mass distribution of the Keplerian model. Surprisingly, some of the rotation curves of galaxies are entirely different than the rotation curve of planetary motion. The curve for spiral galaxies quickly increases from the center to a relatively constant velocity: \n",
    "\n",
    "\\begin{equation}\n",
    "v \\sim constant\n",
    "\\end{equation}\n"
   ]
  },
  {
   "cell_type": "markdown",
   "metadata": {},
   "source": [
    "### Q: What does the graph of $v \\sim constant$ look like?"
   ]
  },
  {
   "cell_type": "code",
   "execution_count": null,
   "metadata": {
    "id": "6nYQi7kFf2H7"
   },
   "outputs": [],
   "source": [
    "# Arbitrary distance and velocity for animation and plot\n",
    "radiusFR = np.array([1,2,3,4,5,6,7])\n",
    "velocityFR = np.array([0.1,0.24,0.29,0.31,0.31,0.31,0.31])"
   ]
  },
  {
   "cell_type": "code",
   "execution_count": null,
   "metadata": {
    "id": "VtI9wz_kf2H7"
   },
   "outputs": [],
   "source": [
    "# Make animation\n",
    "MakeAnimation(radiusFR,velocityFR,\n",
    "                         200,1,                                       # time and dt\n",
    "                         'flatrotation.gif','Flat Rotation')   # file name and title of plot\n",
    "# Display animation\n",
    "savior.embed_file(\"flatrotation.gif\")"
   ]
  },
  {
   "cell_type": "code",
   "execution_count": null,
   "metadata": {
    "id": "eFKYZ4gmf2H8"
   },
   "outputs": [],
   "source": [
    "PlotRotationCurve(radiusFR,velocityFR,'Flat Rotation Curve')"
   ]
  },
  {
   "cell_type": "markdown",
   "metadata": {
    "id": "KNeGG0Esf2H8"
   },
   "source": [
    "We see that velocity increases as we move outward. This is because, for a galaxy, mass is spread out throughout the galaxy, rather than being largely concentrated at the center. However, what we would expect to see is for the velocity to start dropping off at some point because the concentration of mass is still expected to be lower as we approach the edges, even if not negligibly so. This is why the flatness seems to indicate that there is 'missing' mass in our data. This type of rotation curve suggests there is more mass spread throughout the galaxy than we can see. This 'missing mass' is what we call Dark Matter."
   ]
  },
  {
   "cell_type": "markdown",
   "metadata": {
    "id": "itQpjvCmf2H8"
   },
   "source": [
    "### Comparison of expected galactic rotation and flat rotation"
   ]
  },
  {
   "cell_type": "code",
   "execution_count": null,
   "metadata": {
    "id": "tZwfXXX9f2H8"
   },
   "outputs": [],
   "source": [
    "# Plot\n",
    "fig = plt.figure(figsize=(6,6),dpi=100)\n",
    "ax = plt.axes()\n",
    "    \n",
    "fig.patch.set_facecolor('black')\n",
    "ax.set_facecolor('black')\n",
    "ax.set_xlabel('Radius (km)',color='white')\n",
    "ax.set_ylabel('Velocity (km/s)',color='white')\n",
    "ax.spines['bottom'].set_color('white')\n",
    "ax.spines['top'].set_color('white')\n",
    "ax.spines['left'].set_color('white')\n",
    "ax.spines['right'].set_color('white')\n",
    "ax.xaxis.label.set_color('white')\n",
    "ax.yaxis.label.set_color('white')\n",
    "ax.tick_params(axis='x', colors='white')\n",
    "ax.tick_params(axis='y', colors='white')\n",
    "    \n",
    "plt.title('Comparing Flat and Expected Galactic Rotation',color='white',fontsize='14')\n",
    "plt.scatter(radiusEGR,velocityEGR,color='khaki')\n",
    "plt.plot(radiusEGR,velocityEGR,color='red',label='Expected')\n",
    "plt.scatter(radiusFR,velocityFR,color='khaki')\n",
    "plt.plot(radiusFR,velocityFR,color='white',label='Flat')\n",
    "plt.xlim(0,np.max(radiusEGR)+1)\n",
    "plt.ylim(0,np.max(velocityEGR)+0.1)\n",
    "plt.legend()\n",
    "plt.show()"
   ]
  },
  {
   "cell_type": "markdown",
   "metadata": {
    "id": "Ehf6hzS_f2H8"
   },
   "source": [
    "Comparing the expected galactic rotation curve and the observed flat rotation curve in one plot reveals the discrepancies."
   ]
  },
  {
   "cell_type": "code",
   "execution_count": null,
   "metadata": {
    "id": "3W8Iay3xf2H9"
   },
   "outputs": [],
   "source": [
    "#NBVAL_IGNORE_OUTPUT\n",
    "#Because the calculation time naturally varies.\n",
    "# Calculation time\n",
    "executionTime3 = (time.time() - startTime)\n",
    "ttt3=executionTime3/60\n",
    "print(f'Execution time: {ttt3:.2f} minutes')"
   ]
  },
  {
   "cell_type": "markdown",
   "metadata": {},
   "source": [
    "### Big Idea: We can determine the number of stars in the galaxy based on the amount of light observed, measure their velocities, and identify the presence of \"missing matter,\" which is known as dark matter.\n",
    "\n",
    "### Box of Rocks Analogy: If the contents of the box can be explained by medium rocks alone, then the model is valid. If not, a new model is required, incorporating medium rocks plus additional elements."
   ]
  },
  {
   "cell_type": "markdown",
   "metadata": {
    "id": "38iDnZujf2H9"
   },
   "source": [
    "# References"
   ]
  },
  {
   "cell_type": "markdown",
   "metadata": {
    "id": "B2-WYvDmf2H9"
   },
   "source": [
    ">Carroll, B. W., &amp; Ostlie, D. A. (2018). **An Introduction to Modern Astrophysics**. Cambridge University Press. <br><br>\n",
    ">Williams, D. (2021, December 27). **Planetary Fact Sheet**. NASA. Retrieved February 27, 2022, from https://nssdc.gsfc.nasa.gov/planetary/factsheet/"
   ]
  },
  {
   "cell_type": "markdown",
   "metadata": {},
   "source": []
  },
  {
   "cell_type": "markdown",
   "metadata": {},
   "source": []
  },
  {
   "cell_type": "markdown",
   "metadata": {},
   "source": []
  }
 ],
 "metadata": {
  "colab": {
   "provenance": []
  },
  "kernelspec": {
   "display_name": "Python 3 (ipykernel)",
   "language": "python",
   "name": "python3"
  },
  "language_info": {
   "codemirror_mode": {
    "name": "ipython",
    "version": 3
   },
   "file_extension": ".py",
   "mimetype": "text/x-python",
   "name": "python",
   "nbconvert_exporter": "python",
   "pygments_lexer": "ipython3",
   "version": "3.12.4"
  }
 },
 "nbformat": 4,
 "nbformat_minor": 1
}
