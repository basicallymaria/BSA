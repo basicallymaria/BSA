{
 "cells": [
  {
   "cell_type": "markdown",
   "metadata": {},
   "source": [
    "# Investigating the Scientific Method"
   ]
  },
  {
   "cell_type": "code",
   "execution_count": null,
   "metadata": {},
   "outputs": [],
   "source": [
    "# imports\n",
    "import numpy as np\n",
    "import pandas as pd\n",
    "import matplotlib.pyplot as plt"
   ]
  },
  {
   "cell_type": "markdown",
   "metadata": {},
   "source": [
    "### You are investigating the effect of watering on the growth of your plants. We will try to construct a representation of the relationship between the growth of the plants (dependent variable) and the watering (independent variable). This relationship is what we will call \"model\" for the rest of the session. "
   ]
  },
  {
   "cell_type": "code",
   "execution_count": null,
   "metadata": {},
   "outputs": [],
   "source": [
    "# data you collected after 5 months of watering\n",
    "x = np.arange(0, 20, 2)\n",
    "y = list(map(lambda x: 2*x + np.random.normal(0, np.sqrt(x)), x))\n",
    "\n",
    "# growth is in cm\n",
    "# water added is in cups/week\n",
    "df = pd.DataFrame({ 'growth': y, 'water': x})\n",
    "\n",
    "# visualize the data\n",
    "print(df)"
   ]
  },
  {
   "cell_type": "code",
   "execution_count": null,
   "metadata": {},
   "outputs": [],
   "source": [
    "# plot the data\n",
    "plt.scatter(df['water'], df['growth'])\n",
    "# add labels to the plot\n",
    "plt.xlabel('Watering Frequency (cups per week)')\n",
    "plt.ylabel('Growth (cm)')\n",
    "plt.title('Plant Growth vs Watering Frequency')\n",
    "plt.show()"
   ]
  },
  {
   "cell_type": "markdown",
   "metadata": {},
   "source": [
    "### Q: What function does your data look like? "
   ]
  },
  {
   "cell_type": "code",
   "execution_count": null,
   "metadata": {},
   "outputs": [],
   "source": [
    "from scipy.stats import linregress\n",
    "\n",
    "# Perform linear regression on the data\n",
    "# this will be our model\n",
    "slope, intercept, r_value, _, _  = linregress(df['water'], df['growth'])\n",
    "\n",
    "# Print the results\n",
    "print(\"Slope:\", slope)\n",
    "print(\"Intercept:\", intercept)\n",
    "print(\"R-squared:\", r_value**2)\n"
   ]
  },
  {
   "cell_type": "markdown",
   "metadata": {},
   "source": [
    "### Q: What does the \"model\" look like? "
   ]
  },
  {
   "cell_type": "markdown",
   "metadata": {},
   "source": [
    "### Q: How different is your model from the data?"
   ]
  },
  {
   "cell_type": "code",
   "execution_count": null,
   "metadata": {},
   "outputs": [],
   "source": [
    "# first, plot both the model and the data on the same plot to visualize the difference\n",
    "# try to see if the model is good by comparing the predicted values to the actual values\n",
    "# HINT: what operation lets you compare two things?"
   ]
  },
  {
   "cell_type": "markdown",
   "metadata": {},
   "source": [
    "### Q: One of your friends has been watering their plant 3 cups a week, how much growth would you expect after 5 months? what about 5, 7 times?"
   ]
  },
  {
   "cell_type": "code",
   "execution_count": null,
   "metadata": {},
   "outputs": [],
   "source": [
    "# answer in words, code, or both\n",
    "# also feel free to try by hand first to see if you understand the concept"
   ]
  },
  {
   "cell_type": "markdown",
   "metadata": {},
   "source": [
    "### Your friend measures the following after 5 months."
   ]
  },
  {
   "cell_type": "code",
   "execution_count": null,
   "metadata": {},
   "outputs": [],
   "source": [
    "# data your friend collected after 5 months of watering\n",
    "x = np.arange(0, 20, 2)\n",
    "y = list(map(lambda x: 1*x + np.random.normal(0, 1.3), x))\n",
    "\n",
    "# growth is in cm\n",
    "# water added is in cups/week\n",
    "df2 = pd.DataFrame({ 'growth': y, 'water': x})\n",
    "\n",
    "# visualize the data\n",
    "print(df2)"
   ]
  },
  {
   "cell_type": "markdown",
   "metadata": {},
   "source": [
    "### Plot the new data."
   ]
  },
  {
   "cell_type": "markdown",
   "metadata": {},
   "source": [
    "### Q: Is your model a good description for the growth of your friend's plants? Plot to compare!"
   ]
  },
  {
   "cell_type": "markdown",
   "metadata": {},
   "source": [
    "### Q: What would be the model that predicts the growth of your friend's plants?"
   ]
  },
  {
   "cell_type": "code",
   "execution_count": null,
   "metadata": {},
   "outputs": [],
   "source": [
    "# perform linear regression on the new data\n"
   ]
  },
  {
   "cell_type": "markdown",
   "metadata": {},
   "source": [
    "### Another friend measures a different growth pattern for their plants. "
   ]
  },
  {
   "cell_type": "code",
   "execution_count": null,
   "metadata": {},
   "outputs": [],
   "source": [
    "# data your friend collected after 5 months of watering\n",
    "x = np.arange(1, 20, 2)\n",
    "y = list(map(lambda x: 3 * np.log(3 * x) + np.random.normal(0, 0.1), x))\n",
    "\n",
    "# growth is in cm\n",
    "# water added is in cups/week\n",
    "df3 = pd.DataFrame({ 'growth': y, 'water': x})\n",
    "\n",
    "# visualize the data\n",
    "print(df3)"
   ]
  },
  {
   "cell_type": "markdown",
   "metadata": {},
   "source": [
    "### Q: Is your model a good fit? What about your other friend's model?"
   ]
  },
  {
   "cell_type": "code",
   "execution_count": null,
   "metadata": {},
   "outputs": [],
   "source": []
  }
 ],
 "metadata": {
  "kernelspec": {
   "display_name": "astroconda",
   "language": "python",
   "name": "python3"
  },
  "language_info": {
   "codemirror_mode": {
    "name": "ipython",
    "version": 3
   },
   "file_extension": ".py",
   "mimetype": "text/x-python",
   "name": "python",
   "nbconvert_exporter": "python",
   "pygments_lexer": "ipython3",
   "version": "3.12.4"
  }
 },
 "nbformat": 4,
 "nbformat_minor": 2
}
