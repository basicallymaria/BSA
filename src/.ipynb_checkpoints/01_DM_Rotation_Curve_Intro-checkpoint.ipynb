{
 "cells": [
  {
   "cell_type": "markdown",
   "metadata": {
    "tags": []
   },
   "source": [
    "### Instructions"
   ]
  },
  {
   "cell_type": "markdown",
   "metadata": {},
   "source": [
    "When running the notebook the first time, make sure to run all cells before making changes in the notebook. Hit Shift + Enter to run the selected cell or, in the top menu, click on: `Kernel` > `Restart Kernel and Run All Cells...` to rerun the whole notebook. If you make any changes in a cell, rerun that cell.\n",
    "\n",
    "If you make any changes in a coding cell, rerun the notebook by `Run` > `Run Selected Cell and All Below`"
   ]
  },
  {
   "cell_type": "code",
   "execution_count": 1,
   "metadata": {},
   "outputs": [
    {
     "ename": "ModuleNotFoundError",
     "evalue": "No module named 'matplotlib'",
     "output_type": "error",
     "traceback": [
      "\u001b[0;31m---------------------------------------------------------------------------\u001b[0m",
      "\u001b[0;31mModuleNotFoundError\u001b[0m                       Traceback (most recent call last)",
      "Cell \u001b[0;32mIn[1], line 5\u001b[0m\n\u001b[1;32m      3\u001b[0m sys\u001b[38;5;241m.\u001b[39mpath\u001b[38;5;241m.\u001b[39mappend(\u001b[38;5;124m'\u001b[39m\u001b[38;5;124mpython/\u001b[39m\u001b[38;5;124m'\u001b[39m)\n\u001b[1;32m      4\u001b[0m \u001b[38;5;28;01mimport\u001b[39;00m \u001b[38;5;21;01mnumpy\u001b[39;00m \u001b[38;5;28;01mas\u001b[39;00m \u001b[38;5;21;01mnp\u001b[39;00m\n\u001b[0;32m----> 5\u001b[0m \u001b[38;5;28;01mimport\u001b[39;00m \u001b[38;5;21;01mmatplotlib\u001b[39;00m\u001b[38;5;21;01m.\u001b[39;00m\u001b[38;5;21;01mpyplot\u001b[39;00m \u001b[38;5;28;01mas\u001b[39;00m \u001b[38;5;21;01mplt\u001b[39;00m\n\u001b[1;32m      6\u001b[0m \u001b[38;5;28;01mimport\u001b[39;00m \u001b[38;5;21;01mrc_animation\u001b[39;00m \u001b[38;5;28;01mas\u001b[39;00m \u001b[38;5;21;01mrc_ani\u001b[39;00m\n\u001b[1;32m      7\u001b[0m \u001b[38;5;28;01mimport\u001b[39;00m \u001b[38;5;21;01mtime\u001b[39;00m\n",
      "\u001b[0;31mModuleNotFoundError\u001b[0m: No module named 'matplotlib'"
     ]
    }
   ],
   "source": [
    "# Import dependencies\n",
    "import sys\n",
    "sys.path.append('python/')\n",
    "import numpy as np\n",
    "import matplotlib.pyplot as plt\n",
    "import rc_animation as rc_ani\n",
    "import time\n",
    "startTime = time.time()\n",
    "from IPython.display import HTML"
   ]
  },
  {
   "cell_type": "markdown",
   "metadata": {
    "tags": []
   },
   "source": [
    "# Introduction to Rotation Curves"
   ]
  },
  {
   "cell_type": "markdown",
   "metadata": {},
   "source": [
    "A rotation curve plots the rotational velocity of stars in a galaxy in terms of their distance from the center, also known as the radius. Using photometric data of the luminous matter, a rotation curve of a galaxy can be created. It is used to estimate the mass inside a radius by equating the centripetal force to the gravitational force:\n",
    "\n",
    "\\begin{equation}\n",
    "\\frac{mv^2}{r}=\\frac{G M_{enc}(r)}{r^2}\n",
    "\\end{equation}\n",
    "\n",
    "where:\n",
    "        $v$ = rotational velocity\n",
    "        $G$ = gravitational constant\n",
    "        $M_{enc}(r)$ = enclosed mass as a function of radius\n",
    "        $r$ = radius or distance from the center of the galaxy\n",
    "    \n",
    "\n",
    "Rotation curves of some spiral galaxies reveal a discrepancy in the measured and luminous mass. The relationship between the rotational velocity and mass is important to the study of Dark Matter. Plotting the rotation curves of edge-on spiral galaxies and their components can be used as a tool to find the Dark Matter rotation curve and its corresponding mass.\n",
    "\n",
    "This notebook aims to demonstrate three different rotation curve types - rigid body (frisbee) rotation, planet-like rotation, and flat rotation."
   ]
  },
  {
   "cell_type": "markdown",
   "metadata": {
    "tags": []
   },
   "source": [
    "### Rigid body (frisbee) rotation"
   ]
  },
  {
   "cell_type": "markdown",
   "metadata": {},
   "source": [
    "The most straight-forward rotation curve is that of a rigid body, i.e. a solid disk. The rotational velocity in this case is proportional to the radius of the rotating object, which can be denoted by:\n",
    "\n",
    "\\begin{equation}\n",
    "v \\propto r\n",
    "\\end{equation}\n",
    "\n",
    "Because of this, the rigid body has a rotation curve that increases linearly with radius. To demonstrate this, let's create two arrays for the radius and the rotational velocity called `radiusRB` and `velocityRB`, respectively:"
   ]
  },
  {
   "cell_type": "code",
   "execution_count": null,
   "metadata": {},
   "outputs": [],
   "source": [
    "radiusRB = np.array([1,2,3,4,5])\n",
    "velocityRB = np.array([0.1,0.2,0.3,0.4,0.5])"
   ]
  },
  {
   "cell_type": "code",
   "execution_count": null,
   "metadata": {},
   "outputs": [],
   "source": [
    "try: # Display animation\n",
    "    display(HTML('<img src=\"images/rigidbody.gif\" width=400>'))\n",
    "except FileNotFoundError: #Make it first\n",
    "    rc_ani.MakeAnimation(radiusRB,velocityRB,\n",
    "                         100,1,                                         # time and dt\n",
    "                         'images/rigidbody.gif','Rigid Body Rotation')  # file name and title of plot\n",
    "    display(HTML('<img src=\"images/rigidbody.gif\" width=400>'))"
   ]
  },
  {
   "cell_type": "code",
   "execution_count": null,
   "metadata": {},
   "outputs": [],
   "source": [
    "rc_ani.PlotRotationCurve(radiusRB,velocityRB,'Rigid Body Rotation Curve')"
   ]
  },
  {
   "cell_type": "markdown",
   "metadata": {},
   "source": [
    "In rigid body rotation, all pieces of the body must maintain the same relative position to each other throughout the rotation. Another way to think about this is that all parts of a rigid body have the same angular velocity -- that is, the rate at which their angle from the horizontal changes is the same."
   ]
  },
  {
   "cell_type": "markdown",
   "metadata": {},
   "source": [
    "### Planet-like rotation"
   ]
  },
  {
   "cell_type": "markdown",
   "metadata": {},
   "source": [
    "Non-rigid rotating bodies have more flexibility in their rotation. The most well-known example is the Keplerian model, which models orbital rotation in solar systems and planetary motion. This model has most of its mass concentrated in the center of the rotating object with satellites free to orbit around the center. With planet-like rotation, rotational velocity is inversely proportional to the square root of the radius:\n",
    "\n",
    "\\begin{equation}\n",
    "v \\propto \\frac{1}{\\sqrt{r}}\n",
    "\\end{equation}\n",
    "\n",
    "One example is our Solar System with eight planets orbiting the Sun at the center. "
   ]
  },
  {
   "cell_type": "code",
   "execution_count": null,
   "metadata": {},
   "outputs": [],
   "source": [
    "# Parameters\n",
    "G = 6.67408e-11         # Gravitational constant (in m^3 kg^-1 s^-2)\n",
    "AU = 1.496e11           # AU Astronomical Unit (in meters)\n",
    "\n",
    "# Masses of the planets (M) in kg\n",
    "M_Earth = 5.97e24      \n",
    "M_Sun = 3.3e5*M_Earth\n",
    "M_Mercury = 0.0553*M_Earth\n",
    "M_Venus = 0.815*M_Earth\n",
    "M_Mars = 0.107*M_Earth\n",
    "M_Jupiter = 317.8*M_Earth\n",
    "M_Saturn = 95.2*M_Earth\n",
    "M_Uranus = 14.5*M_Earth\n",
    "M_Neptune = 17.1*M_Earth\n",
    "\n",
    "# Make array of masses\n",
    "massesSS = np.array([M_Mercury,M_Venus,M_Earth,M_Mars,M_Jupiter,M_Saturn,M_Uranus,M_Neptune])\n",
    "\n",
    "# Distances of planets from the Sun (r) in meters\n",
    "r_Earth = AU\n",
    "r_Mercury = 0.387*AU \n",
    "r_Venus = 0.723*AU\n",
    "r_Mars = 1.52*AU\n",
    "r_Jupiter = 5.20*AU\n",
    "r_Saturn = 9.57*AU\n",
    "r_Uranus = 19.17*AU\n",
    "r_Neptune = 30.18*AU\n",
    "\n",
    "# Make array of radii\n",
    "radiusSS = np.array([r_Mercury,r_Venus,r_Earth,r_Mars,r_Jupiter,r_Saturn,r_Uranus,r_Neptune])\n",
    "\n",
    "# Orbital velocity of planets (v) in m/s\n",
    "v_Mercury = np.sqrt((G*M_Sun)/r_Mercury)\n",
    "v_Venus = np.sqrt((G*(M_Sun+M_Mercury))/r_Venus)\n",
    "v_Earth = np.sqrt((G*(M_Sun+M_Mercury+M_Venus))/r_Earth)\n",
    "v_Mars = np.sqrt((G*(M_Sun+M_Mercury+M_Venus+M_Earth))/r_Mars)\n",
    "v_Jupiter = np.sqrt((G*(M_Sun+M_Mercury+M_Venus+M_Earth+M_Mars))/r_Jupiter)\n",
    "v_Saturn = np.sqrt((G*(M_Sun+M_Mercury+M_Venus+M_Earth+M_Mars+M_Jupiter))/r_Saturn)\n",
    "v_Uranus = np.sqrt((G*(M_Sun+M_Mercury+M_Venus+M_Earth+M_Mars+M_Jupiter+M_Saturn))/r_Uranus)\n",
    "v_Neptune = np.sqrt((G*(M_Sun+M_Mercury+M_Venus+M_Earth+M_Mars+M_Jupiter+M_Saturn+M_Uranus))/r_Neptune)\n",
    "\n",
    "# Make array of velocities\n",
    "velocitySS = np.array([v_Mercury,v_Venus,v_Earth,v_Mars,v_Jupiter,v_Saturn,v_Uranus,v_Neptune])"
   ]
  },
  {
   "cell_type": "code",
   "execution_count": null,
   "metadata": {},
   "outputs": [],
   "source": [
    "try: #Load the animation if it already exists\n",
    "    HTML('<img src=\"images/solarsystem.gif width=400>') \n",
    "except FileNotFoundError: #And create it if it doesn't\n",
    "    rc_ani.MakeAnimation(1e-3*radiusSS,1e-3*velocitySS,   # change distance unit to km, velocity unit to km/s\n",
    "                         5e10,1e7,                        # time and dt\n",
    "                         'images/solarsystem.gif','Planet-like Rotation',\n",
    "                         1e8,1e8,                         # xlim and ylim\n",
    "                         size=True,masses=massesSS)    \n",
    "    # Display animation\n",
    "    HTML('<img src=\"images/solarsystem.gif\" width=400>')"
   ]
  },
  {
   "cell_type": "code",
   "execution_count": null,
   "metadata": {},
   "outputs": [],
   "source": [
    "rc_ani.PlotRotationCurve(1e-3*radiusSS,1e-3*velocitySS,\n",
    "                  'Planet-like Rotation Curve',\n",
    "                  xlabel='Radius (km)',ylabel='Velocity (km/s)',\n",
    "                  xlim=1e8,ylim=5)"
   ]
  },
  {
   "cell_type": "markdown",
   "metadata": {},
   "source": [
    "In a planet-like rotation, none of the bodies are attached to one another in any way, so they can move in relation to one another. Often, there is a single, dominant source of mass at the center -- in the case of our Solar system, the Sun is massive enough that we can ignore the masses of planets in our calculations. However, if there is a significant amount of mass between the center and the bodies we are observing, we may get different results..."
   ]
  },
  {
   "cell_type": "markdown",
   "metadata": {},
   "source": [
    "### Expected galactic rotation"
   ]
  },
  {
   "cell_type": "markdown",
   "metadata": {},
   "source": [
    "Similar to planet-like rotation, the rotation curve of galaxies should decline at larger radii with the difference of rotational velocities of stars and gas gradually increasing closer to the center. A quick sketch is shown below to compare with other rotation curves but an intensive calculation of this expected galactic rotation is included in the upcoming workshop modules. "
   ]
  },
  {
   "cell_type": "code",
   "execution_count": null,
   "metadata": {},
   "outputs": [],
   "source": [
    "# Arbitrary distance and velocity for animation and plot\n",
    "radiusEGR = np.array([1,2,2.5,3,3.5,4,5,6,7])\n",
    "velocityEGR = np.array([0.10,0.23,0.27,0.29,0.27,0.24,0.21,0.19,0.18])"
   ]
  },
  {
   "cell_type": "code",
   "execution_count": null,
   "metadata": {},
   "outputs": [],
   "source": [
    "try:\n",
    "    display(HTML('<img src=\"images/expgalacticrotation.gif\" width=400>'))\n",
    "except FileNotFoundError:\n",
    "    rc_ani.MakeAnimation(radiusEGR,velocityEGR,\n",
    "                         200,1,                                       # time and dt\n",
    "                         'images/expgalacticrotation.gif','Expected Galactic Rotation')   # file name and title of plot\n",
    "    # Display animation\n",
    "    display(HTML('<img src=\"images/expgalacticrotation.gif\" width=400>'))"
   ]
  },
  {
   "cell_type": "code",
   "execution_count": null,
   "metadata": {},
   "outputs": [],
   "source": [
    "rc_ani.PlotRotationCurve(radiusEGR,velocityEGR,'Expected Galactic Rotation')"
   ]
  },
  {
   "cell_type": "markdown",
   "metadata": {},
   "source": [
    "### Flat rotation"
   ]
  },
  {
   "cell_type": "markdown",
   "metadata": {
    "tags": []
   },
   "source": [
    "The mass distribution of a galaxy based on luminous matter is similar to the mass distribution of the Keplerian model. Surprisingly, some of the rotation curves of galaxies are entirely different than the rotation curve of planetary motion. The curve for spiral galaxies quickly increases from the center to a relatively constant velocity: \n",
    "\n",
    "\\begin{equation}\n",
    "v \\sim constant\n",
    "\\end{equation}\n",
    "\n",
    "This type of rotation curve suggests there is more mass spread throughout the galaxy than we can see. This 'missing mass' is what we call Dark Matter."
   ]
  },
  {
   "cell_type": "code",
   "execution_count": null,
   "metadata": {},
   "outputs": [],
   "source": [
    "# Arbitrary distance and velocity for animation and plot\n",
    "radiusFR = np.array([1,2,3,4,5,6,7])\n",
    "velocityFR = np.array([0.1,0.24,0.29,0.31,0.31,0.31,0.31])"
   ]
  },
  {
   "cell_type": "code",
   "execution_count": null,
   "metadata": {},
   "outputs": [],
   "source": [
    "try:\n",
    "    display(HTML('<img src=\"images/flatrotation.gif\" width=400>'))\n",
    "except FileNotFoundError:\n",
    "    rc_ani.MakeAnimation(radiusFR,velocityFR,\n",
    "                         200,1,                                       # time and dt\n",
    "                         'images/flatrotation.gif','Flat Rotation')   # file name and title of plot\n",
    "    # Display animation\n",
    "    display(HTML('<img src=\"images/flatrotation.gif\" width=400>'))"
   ]
  },
  {
   "cell_type": "code",
   "execution_count": null,
   "metadata": {},
   "outputs": [],
   "source": [
    "rc_ani.PlotRotationCurve(radiusFR,velocityFR,'Flat Rotation Curve')"
   ]
  },
  {
   "cell_type": "markdown",
   "metadata": {},
   "source": [
    "We see that velocity increases as we move outward. This is because, for a galaxy, mass is spread out throughout the galaxy, rather than being largely concentrated at the center. However, what we would expect to see is for the velocity to start dropping off at some point because the concentration of mass is still expected to be lower as we approach the edges, even if not negligibly so. This is why the flatness seems to indicate that there is 'missing' mass in our data."
   ]
  },
  {
   "cell_type": "markdown",
   "metadata": {},
   "source": [
    "### Comparison of expected galactic rotation and flat rotation"
   ]
  },
  {
   "cell_type": "code",
   "execution_count": null,
   "metadata": {},
   "outputs": [],
   "source": [
    "# Plot\n",
    "fig = plt.figure(figsize=(6,6),dpi=100)\n",
    "ax = plt.axes()\n",
    "    \n",
    "fig.patch.set_facecolor('black')\n",
    "ax.set_facecolor('black')\n",
    "ax.set_xlabel('Radius (km)',color='white')\n",
    "ax.set_ylabel('Velocity (km/s)',color='white')\n",
    "ax.spines['bottom'].set_color('white')\n",
    "ax.spines['top'].set_color('white')\n",
    "ax.spines['left'].set_color('white')\n",
    "ax.spines['right'].set_color('white')\n",
    "ax.xaxis.label.set_color('white')\n",
    "ax.yaxis.label.set_color('white')\n",
    "ax.tick_params(axis='x', colors='white')\n",
    "ax.tick_params(axis='y', colors='white')\n",
    "    \n",
    "plt.title('Comparing Flat and Expected Galactic Rotation',color='white',fontsize='14')\n",
    "plt.scatter(radiusEGR,velocityEGR,color='khaki')\n",
    "plt.plot(radiusEGR,velocityEGR,color='red',label='Expected')\n",
    "plt.scatter(radiusFR,velocityFR,color='khaki')\n",
    "plt.plot(radiusFR,velocityFR,color='white',label='Flat')\n",
    "plt.xlim(0,np.max(radiusEGR)+1)\n",
    "plt.ylim(0,np.max(velocityEGR)+0.1)\n",
    "plt.legend()\n",
    "plt.show()"
   ]
  },
  {
   "cell_type": "markdown",
   "metadata": {},
   "source": [
    "Comparing the expected galactic rotation curve and the observed flat rotation curve in one plot reveals the discrepancies that can be further investigated in the following modules. "
   ]
  },
  {
   "cell_type": "code",
   "execution_count": null,
   "metadata": {},
   "outputs": [],
   "source": [
    "#NBVAL_IGNORE_OUTPUT\n",
    "#Because the calculation time naturally varies.\n",
    "# Calculation time\n",
    "executionTime3 = (time.time() - startTime)\n",
    "ttt3=executionTime3/60\n",
    "print(f'Execution time: {ttt3:.2f} minutes')"
   ]
  },
  {
   "cell_type": "markdown",
   "metadata": {},
   "source": [
    "### References"
   ]
  },
  {
   "cell_type": "markdown",
   "metadata": {},
   "source": [
    ">Carroll, B. W., &amp; Ostlie, D. A. (2018). **An Introduction to Modern Astrophysics**. Cambridge University Press. <br><br>\n",
    ">Williams, D. (2021, December 27). **Planetary Fact Sheet**. NASA. Retrieved February 27, 2022, from https://nssdc.gsfc.nasa.gov/planetary/factsheet/"
   ]
  }
 ],
 "metadata": {
  "kernelspec": {
   "display_name": "Python 3 (ipykernel)",
   "language": "python",
   "name": "python3"
  },
  "language_info": {
   "codemirror_mode": {
    "name": "ipython",
    "version": 3
   },
   "file_extension": ".py",
   "mimetype": "text/x-python",
   "name": "python",
   "nbconvert_exporter": "python",
   "pygments_lexer": "ipython3",
   "version": "3.11.1"
  }
 },
 "nbformat": 4,
 "nbformat_minor": 4
}
