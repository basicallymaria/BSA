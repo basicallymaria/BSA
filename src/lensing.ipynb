{
  "cells": [
    {
      "cell_type": "code",
      "execution_count": null,
      "metadata": {
        "colab": {
          "base_uri": "https://localhost:8080/"
        },
        "id": "CfyeUMBhCaPX",
        "outputId": "bc21db4a-5f78-40ca-a2e4-8011c48742d2"
      },
      "outputs": [],
      "source": [
        "# !pip install corner\n",
        "# !pip install astropy\n",
        "# !pip install emcee"
      ]
    },
    {
      "attachments": {},
      "cell_type": "markdown",
      "metadata": {
        "id": "n_Vi5K9zCEvF"
      },
      "source": [
        "# Simple ring parameter constraints"
      ]
    },
    {
      "attachments": {},
      "cell_type": "markdown",
      "metadata": {
        "id": "UKji9htZCEvH"
      },
      "source": [
        "This notebook provides test cases for the precision of a simple lens model (with simplified assumptions). This is for show-casing and to assess the uncertainty limit in how well the parameters of this model can be constrained.\n"
      ]
    },
    {
      "cell_type": "code",
      "execution_count": null,
      "metadata": {
        "id": "skKt6jsiCEvH"
      },
      "outputs": [],
      "source": [
        "# import of standard python libraries\n",
        "import numpy as np\n",
        "import os\n",
        "import time\n",
        "import corner\n",
        "import matplotlib.pyplot as plt\n",
        "from mpl_toolkits.axes_grid1 import make_axes_locatable\n",
        "%matplotlib inline\n",
        "\n",
        "# make sure lenstronomy is installed, otherwise install the latest pip version\n",
        "try:\n",
        "    import lenstronomy\n",
        "except:\n",
        "    !pip install lenstronomy\n",
        "    import lenstronomy"
      ]
    },
    {
      "attachments": {},
      "cell_type": "markdown",
      "metadata": {
        "collapsed": true,
        "id": "HLNR9ZvqCEvH"
      },
      "source": [
        "## simulation choices"
      ]
    },
    {
      "cell_type": "code",
      "execution_count": null,
      "metadata": {
        "id": "YL6KMnN8CEvH"
      },
      "outputs": [],
      "source": [
        "# data specifics\n",
        "background_rms = .005  #  background noise per pixel\n",
        "exp_time = 500.  #  exposure time (arbitrary units, flux per pixel is in units #photons/exp_time unit)\n",
        "numPix = 60  #  cutout pixel size per axis\n",
        "pixel_scale = 0.05  #  pixel size in arcsec (area per pixel = pixel_scale**2)\n",
        "fwhm = 0.05  # full width at half maximum of PSF\n",
        "psf_type = 'GAUSSIAN'  # 'GAUSSIAN', 'PIXEL', 'NONE'\n",
        "\n",
        "# lensing quantities\n",
        "lens_model_list = ['SIE', 'SHEAR']\n",
        "kwargs_spemd = {'theta_E': .66, 'center_x': 0.05, 'center_y': 0, 'e1': .07, 'e2': -0.03}  # parameters of the deflector lens model\n",
        "kwargs_shear = {'gamma1': 0.0, 'gamma2': -0.05}  # shear values to the source plane\n",
        "\n",
        "kwargs_lens = [kwargs_spemd, kwargs_shear]\n",
        "from lenstronomy.LensModel.lens_model import LensModel\n",
        "lens_model_class = LensModel(lens_model_list)\n",
        "\n",
        "\n",
        "# Sersic parameters in the initial simulation for the source\n",
        "kwargs_sersic = {'amp': 16, 'R_sersic': 0.1, 'n_sersic': 1, 'e1': -0.1, 'e2': 0.1, 'center_x': 0.1, 'center_y': 0}\n",
        "source_model_list = ['SERSIC_ELLIPSE']\n",
        "kwargs_source = [kwargs_sersic]\n",
        "\n",
        "\n",
        "from lenstronomy.LightModel.light_model import LightModel\n",
        "source_model_class = LightModel(source_model_list)\n",
        "\n",
        "\n",
        "kwargs_sersic_lens = {'amp': 16, 'R_sersic': 0.6, 'n_sersic': 2, 'e1': -0.1, 'e2': 0.1, 'center_x': 0.05, 'center_y': 0}\n",
        "\n",
        "lens_light_model_list = ['SERSIC_ELLIPSE']\n",
        "kwargs_lens_light = [kwargs_sersic_lens]\n",
        "lens_light_model_class = LightModel(lens_light_model_list)\n"
      ]
    },
    {
      "cell_type": "code",
      "execution_count": null,
      "metadata": {
        "id": "-yGfxZXFCEvI"
      },
      "outputs": [],
      "source": [
        "# import main simulation class of lenstronomy\n",
        "from lenstronomy.Util import util\n",
        "from lenstronomy.Data.imaging_data import ImageData\n",
        "from lenstronomy.Data.psf import PSF\n",
        "import lenstronomy.Util.image_util as image_util\n",
        "from lenstronomy.ImSim.image_model import ImageModel\n",
        "\n",
        "# generate the coordinate grid and image properties (we only read out the relevant lines we need)\n",
        "_, _, ra_at_xy_0, dec_at_xy_0, _, _, Mpix2coord, _ = util.make_grid_with_coordtransform(numPix=numPix, deltapix=pixel_scale, center_ra=0, center_dec=0, subgrid_res=1, inverse=False)\n",
        "\n",
        "\n",
        "kwargs_data = {'background_rms': background_rms,  # rms of background noise\n",
        "               'exposure_time': exp_time,  # exposure time (or a map per pixel)\n",
        "               'ra_at_xy_0': ra_at_xy_0,  # RA at (0,0) pixel\n",
        "               'dec_at_xy_0': dec_at_xy_0,  # DEC at (0,0) pixel \n",
        "               'transform_pix2angle': Mpix2coord,  # matrix to translate shift in pixel in shift in relative RA/DEC (2x2 matrix). Make sure it's units are arcseconds or the angular units you want to model.\n",
        "               'image_data': np.zeros((numPix, numPix))  # 2d data vector, here initialized with zeros as place holders that get's overwritten once a simulated image with noise is created.\n",
        "              }\n",
        "\n",
        "data_class = ImageData(**kwargs_data)\n",
        "# generate the psf variables\n",
        "kwargs_psf = {'psf_type': 'GAUSSIAN', 'fwhm': fwhm, 'pixel_size': pixel_scale, 'truncation': 3}\n",
        "\n",
        "# if you are using a PSF estimate from e.g. a star in the FoV of your exposure, you can set\n",
        "#kwargs_psf = {'psf_type': 'PIXEL', 'pixel_size': deltaPix, 'kernel_point_source': 'odd numbered 2d grid with centered star/PSF model'}\n",
        "\n",
        "\n",
        "psf_class = PSF(**kwargs_psf)\n",
        "kwargs_numerics = {'supersampling_factor': 1, 'supersampling_convolution': False}\n",
        "\n",
        "imageModel = ImageModel(data_class, psf_class, lens_model_class=lens_model_class, \n",
        "                        source_model_class=source_model_class, lens_light_model_class=lens_light_model_class,\n",
        "                        kwargs_numerics=kwargs_numerics)\n",
        "\n",
        "# generate image\n",
        "image_model = imageModel.image(kwargs_lens, kwargs_source, kwargs_lens_light=kwargs_lens_light, kwargs_ps=None)\n",
        "\n",
        "poisson = image_util.add_poisson(image_model, exp_time=exp_time)\n",
        "bkg = image_util.add_background(image_model, sigma_bkd=background_rms)\n",
        "image_real = image_model + poisson + bkg\n",
        "\n",
        "data_class.update_data(image_real)\n",
        "kwargs_data['image_data'] = image_real"
      ]
    },
    {
      "cell_type": "code",
      "execution_count": null,
      "metadata": {
        "colab": {
          "base_uri": "https://localhost:8080/",
          "height": 588
        },
        "id": "ko24k3q0CEvI",
        "outputId": "c7732798-8619-4803-fa2b-33a843db9310"
      },
      "outputs": [],
      "source": [
        "# display the initial simulated image\n",
        "import matplotlib as mpl\n",
        "cmap = mpl.cm.get_cmap(\"gray\").copy()\n",
        "cmap.set_bad(color='k', alpha=1.)\n",
        "cmap.set_under('k')\n",
        "\n",
        "v_min = -4\n",
        "v_max = 1\n",
        "\n",
        "f, axes = plt.subplots(1, 1, figsize=(6, 6), sharex=False, sharey=False)\n",
        "\n",
        "ax = axes\n",
        "im = ax.matshow(np.log10(image_real), origin='lower', vmin=v_min, vmax=v_max, cmap=cmap, extent=[0, 1, 0, 1])\n",
        "ax.get_xaxis().set_visible(False)\n",
        "ax.get_yaxis().set_visible(False)\n",
        "ax.autoscale(False)\n",
        "\n",
        "plt.show()"
      ]
    },
    {
      "attachments": {},
      "cell_type": "markdown",
      "metadata": {
        "id": "XqYzuE8BCEvJ"
      },
      "source": [
        "## Model fitting\n",
        "in the blocks above we simulated a mock lens with noise properties. From these cells, we only require the kwargs_data and kwargs_psf arguments to perform the modeling. If you have real data, you can leave out the image simulation and directly read in the data, PSF and noise properties into the keyword arguement list. Make sure the units are correct. Further information on the settings are available in the ImageData() and PSF() classes in the lenstronomy.Data module."
      ]
    },
    {
      "cell_type": "code",
      "execution_count": null,
      "metadata": {
        "id": "VlT7dZeZCEvJ"
      },
      "outputs": [],
      "source": [
        "# lens models\n",
        "fixed_lens = []\n",
        "kwargs_lens_init = []\n",
        "kwargs_lens_sigma = []\n",
        "kwargs_lower_lens = []\n",
        "kwargs_upper_lens = []\n",
        "\n",
        "fixed_lens.append({})  # for this example, we fix the power-law index of the lens model to be isothermal\n",
        "kwargs_lens_init.append({'theta_E': 0.7, 'e1': 0., 'e2': 0.,\n",
        "                         'center_x': 0., 'center_y': 0.})\n",
        "kwargs_lens_sigma.append({'theta_E': .2, 'e1': 0.05, 'e2': 0.05,\n",
        "                         'center_x': 0.05, 'center_y': 0.05})\n",
        "kwargs_lower_lens.append({'theta_E': 0.01, 'e1': -0.5, 'e2': -0.5, 'center_x': -10, 'center_y': -10})\n",
        "kwargs_upper_lens.append({'theta_E': 10., 'e1': 0.5, 'e2': 0.5, 'center_x': 10, 'center_y': 10})\n",
        "\n",
        "fixed_lens.append({'ra_0': 0, 'dec_0': 0})\n",
        "kwargs_lens_init.append({'gamma1': 0., 'gamma2': 0.0})\n",
        "kwargs_lens_sigma.append({'gamma1': 0.1, 'gamma2': 0.1})\n",
        "kwargs_lower_lens.append({'gamma1': -0.2, 'gamma2': -0.2})\n",
        "kwargs_upper_lens.append({'gamma1': 0.2, 'gamma2': 0.2})\n",
        "\n",
        "lens_params = [kwargs_lens_init, kwargs_lens_sigma, fixed_lens, kwargs_lower_lens, kwargs_upper_lens]\n",
        "\n",
        "\n",
        "fixed_source = []\n",
        "kwargs_source_init = []\n",
        "kwargs_source_sigma = []\n",
        "kwargs_lower_source = []\n",
        "kwargs_upper_source = []\n",
        "\n",
        "\n",
        "fixed_source.append({})\n",
        "kwargs_source_init.append({'R_sersic': 0.2, 'n_sersic': 1, 'e1': 0, 'e2': 0, 'center_x': 0., 'center_y': 0, 'amp': 16})\n",
        "kwargs_source_sigma.append({'n_sersic': 0.5, 'R_sersic': 0.1, 'e1': 0.05, 'e2': 0.05, 'center_x': 0.2, 'center_y': 0.2, 'amp': 10})\n",
        "kwargs_lower_source.append({'e1': -0.5, 'e2': -0.5, 'R_sersic': 0.001, 'n_sersic': .5, 'center_x': -10, 'center_y': -10, 'amp': 0})\n",
        "kwargs_upper_source.append({'e1': 0.5, 'e2': 0.5, 'R_sersic': 10, 'n_sersic': 5., 'center_x': 10, 'center_y': 10, 'amp': 100})\n",
        "\n",
        "source_params = [kwargs_source_init, kwargs_source_sigma, fixed_source, kwargs_lower_source, kwargs_upper_source]\n",
        "\n",
        "\n",
        "fixed_lens_light = []\n",
        "kwargs_lens_light_init = []\n",
        "kwargs_lens_light_sigma = []\n",
        "kwargs_lower_lens_light = []\n",
        "kwargs_upper_lens_light = []\n",
        "\n",
        "\n",
        "fixed_lens_light.append({})\n",
        "kwargs_lens_light_init.append({'R_sersic': 0.5, 'n_sersic': 2, 'e1': 0, 'e2': 0, 'center_x': 0., 'center_y': 0, 'amp': 16})\n",
        "kwargs_lens_light_sigma.append({'n_sersic': 1, 'R_sersic': 0.3, 'e1': 0.05, 'e2': 0.05, 'center_x': 0.1, 'center_y': 0.1, 'amp': 10})\n",
        "kwargs_lower_lens_light.append({'e1': -0.5, 'e2': -0.5, 'R_sersic': 0.001, 'n_sersic': .5, 'center_x': -10, 'center_y': -10, 'amp': 0})\n",
        "kwargs_upper_lens_light.append({'e1': 0.5, 'e2': 0.5, 'R_sersic': 10, 'n_sersic': 5., 'center_x': 10, 'center_y': 10, 'amp': 100})\n",
        "\n",
        "lens_light_params = [kwargs_lens_light_init, kwargs_lens_light_sigma, fixed_lens_light, kwargs_lower_lens_light, kwargs_upper_lens_light]\n",
        "\n",
        "kwargs_params = {'lens_model': lens_params,\n",
        "                'source_model': source_params,\n",
        "                'lens_light_model': lens_light_params}\n"
      ]
    },
    {
      "cell_type": "code",
      "execution_count": null,
      "metadata": {
        "colab": {
          "base_uri": "https://localhost:8080/"
        },
        "id": "Hn1lJl3lCEvJ",
        "outputId": "c5aed5b9-ef4c-4740-f6db-8779f0b72d62"
      },
      "outputs": [],
      "source": [
        "kwargs_likelihood = {'source_marg': False}\n",
        "kwargs_model = {'lens_model_list': lens_model_list, 'source_light_model_list': source_model_list, 'lens_light_model_list': lens_light_model_list}\n",
        "\n",
        "multi_band_list = [[kwargs_data, kwargs_psf, kwargs_numerics]]\n",
        "# if you have multiple  bands to be modeled simultaneously, you can append them to the mutli_band_list\n",
        "kwargs_data_joint = {'multi_band_list': multi_band_list, \n",
        "                     'multi_band_type': 'single-band'  # 'multi-linear': every imaging band has independent solutions of the surface brightness, 'joint-linear': there is one joint solution of the linear coefficients demanded across the bands.\n",
        "                    }\n",
        "kwargs_constraints = {'linear_solver': True}  # optional, if 'linear_solver': False, lenstronomy does not apply a linear inversion of the 'amp' parameters during fitting but instead samples them.\n",
        "\n",
        "from lenstronomy.Workflow.fitting_sequence import FittingSequence\n",
        "fitting_seq = FittingSequence(kwargs_data_joint, kwargs_model, kwargs_constraints, kwargs_likelihood, kwargs_params)\n",
        "\n",
        "fitting_kwargs_list = [[‘PSO’, {‘sigma_scale’: 1., ‘n_particles’: 200, ‘n_iterations’: 200}]]\n",
        "\n",
        "chain_list = fitting_seq.fit_sequence(fitting_kwargs_list)\n",
        "kwargs_result = fitting_seq.best_fit()"
      ]
    },
    {
      "attachments": {},
      "cell_type": "markdown",
      "metadata": {
        "collapsed": true,
        "id": "zIKv1yvVCEvJ"
      },
      "source": [
        "## analyse MCMC chain"
      ]
    },
    {
      "cell_type": "code",
      "execution_count": null,
      "metadata": {
        "colab": {
          "base_uri": "https://localhost:8080/",
          "height": 1000
        },
        "id": "xcCqGRarCEvJ",
        "outputId": "8b05d858-7ce3-4345-ff1b-6ec42ad4a0cc"
      },
      "outputs": [],
      "source": [
        "from lenstronomy.Plots import chain_plot\n",
        "from lenstronomy.Plots.model_plot import ModelPlot\n",
        "\n",
        "modelPlot = ModelPlot(multi_band_list, kwargs_model, kwargs_result, arrow_size=0.02, cmap_string=\"gist_heat\",\n",
        "                     linear_solver=kwargs_constraints.get('linear_solver', True))\n",
        "    \n",
        "f, axes = plt.subplots(2, 3, figsize=(16, 8), sharex=False, sharey=False)\n",
        "\n",
        "modelPlot.data_plot(ax=axes[0,0])\n",
        "modelPlot.model_plot(ax=axes[0,1])\n",
        "modelPlot.normalized_residual_plot(ax=axes[0,2], v_min=-6, v_max=6)\n",
        "modelPlot.source_plot(ax=axes[1, 0], deltaPix_source=0.01, numPix=100)\n",
        "modelPlot.convergence_plot(ax=axes[1, 1], v_max=1)\n",
        "modelPlot.magnification_plot(ax=axes[1, 2])\n",
        "f.tight_layout()\n",
        "f.subplots_adjust(left=None, bottom=None, right=None, top=None, wspace=0., hspace=0.05)\n",
        "plt.show()\n",
        "\n",
        "f, axes = plt.subplots(2, 3, figsize=(16, 8), sharex=False, sharey=False)\n",
        "\n",
        "modelPlot.decomposition_plot(ax=axes[0,0], text='Lens light', lens_light_add=True, unconvolved=True)\n",
        "modelPlot.decomposition_plot(ax=axes[1,0], text='Lens light convolved', lens_light_add=True)\n",
        "modelPlot.decomposition_plot(ax=axes[0,1], text='Source light', source_add=True, unconvolved=True)\n",
        "modelPlot.decomposition_plot(ax=axes[1,1], text='Source light convolved', source_add=True)\n",
        "modelPlot.decomposition_plot(ax=axes[0,2], text='All components', source_add=True, lens_light_add=True, unconvolved=True)\n",
        "modelPlot.decomposition_plot(ax=axes[1,2], text='All components convolved', source_add=True, lens_light_add=True, point_source_add=True)\n",
        "f.tight_layout()\n",
        "f.subplots_adjust(left=None, bottom=None, right=None, top=None, wspace=0., hspace=0.05)\n",
        "plt.show()\n",
        "print(kwargs_result)"
      ]
    },
    {
      "cell_type": "code",
      "execution_count": null,
      "metadata": {
        "colab": {
          "base_uri": "https://localhost:8080/",
          "height": 1000
        },
        "id": "bBoujgP7CEvJ",
        "outputId": "a86be5bb-6966-4c13-acf8-357bd8137aae"
      },
      "outputs": [],
      "source": [
        "# the results of the MCMC chain\n",
        "\n",
        "sampler_type, samples_mcmc, param_mcmc, dist_mcmc  = chain_list[1]\n",
        "\n",
        "param_class = fitting_seq.param_class\n",
        "param_truths = param_class.kwargs2args(kwargs_lens=kwargs_lens, kwargs_source=kwargs_source, kwargs_lens_light=kwargs_lens_light)\n",
        "\n",
        "for i in range(len(chain_list)):\n",
        "    chain_plot.plot_chain_list(chain_list, i)\n",
        "\n",
        "\n",
        "print(\"number of non-linear parameters in the MCMC process: \", len(param_mcmc))\n",
        "print(\"parameters in order: \", param_mcmc)\n",
        "print(\"number of evaluations in the MCMC process: \", np.shape(samples_mcmc)[0])\n",
        "n_sample = len(samples_mcmc)\n",
        "print(n_sample)\n",
        "samples_mcmc_cut = samples_mcmc[int(n_sample*1/2.):]\n",
        "if not samples_mcmc == []:\n",
        "    n, num_param = np.shape(samples_mcmc_cut)\n",
        "    plot = corner.corner(samples_mcmc_cut[:,:], labels=param_mcmc[:], show_titles=True, truths=param_truths)\n"
      ]
    },
    {
      "cell_type": "code",
      "execution_count": null,
      "metadata": {
        "id": "tf61I9g5CEvJ"
      },
      "outputs": [],
      "source": []
    }
  ],
  "metadata": {
    "colab": {
      "provenance": []
    },
    "kernelspec": {
      "display_name": "Python [conda env:lenstronomy] *",
      "language": "python",
      "name": "conda-env-lenstronomy-py"
    },
    "language_info": {
      "codemirror_mode": {
        "name": "ipython",
        "version": 3
      },
      "file_extension": ".py",
      "mimetype": "text/x-python",
      "name": "python",
      "nbconvert_exporter": "python",
      "pygments_lexer": "ipython3",
      "version": "3.9.7"
    }
  },
  "nbformat": 4,
  "nbformat_minor": 0
}
