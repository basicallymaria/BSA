{
 "cells": [
  {
   "cell_type": "code",
   "execution_count": null,
   "metadata": {},
   "outputs": [],
   "source": [
    "# reference of the needed parameters\n",
    "\n",
    "G = 6.67408e-11         # Gravitational constant (in m^3 kg^-1 s^-2)\n",
    "AU = 1.496e11           # AU Astronomical Unit (in meters)\n",
    "\n",
    "\n",
    "# Masses of the planets (M) in kg\n",
    "\n",
    "M_Earth = 5.97e24      \n",
    "M_Sun = 3.3e5*M_Earth\n",
    "M_Mercury = 0.0553*M_Earth\n",
    "M_Venus = 0.815*M_Earth\n",
    "M_Mars = 0.107*M_Earth\n",
    "M_Jupiter = 317.8*M_Earth\n",
    "M_Saturn = 95.2*M_Earth\n",
    "M_Uranus = 14.5*M_Earth\n",
    "M_Neptune = 17.1*M_Earth\n",
    "\n",
    "# Distances of planets from the Sun (r) in meters\n",
    "r_Earth = AU\n",
    "r_Mercury = 0.387*AU \n",
    "r_Venus = 0.723*AU\n",
    "r_Mars = 1.52*AU\n",
    "r_Jupiter = 5.20*AU\n",
    "r_Saturn = 9.57*AU\n",
    "r_Uranus = 19.17*AU\n",
    "r_Neptune = 30.18*AU"
   ]
  },
  {
   "cell_type": "code",
   "execution_count": null,
   "metadata": {},
   "outputs": [],
   "source": [
    "# Masses of the planets (M) in kg\n",
    "M_Earth = 1    \n",
    "M_Sun = 1\n",
    "M_Mercury = 1\n",
    "M_Venus = 1\n",
    "M_Mars = 1\n",
    "M_Jupiter = 1\n",
    "M_Saturn = 1\n",
    "M_Uranus = 1\n",
    "M_Neptune = 1\n",
    "\n",
    "# Distances of planets from the Sun (r) in meters\n",
    "# you can use AUs\n",
    "r_Earth = AU\n",
    "r_Mercury = 1\n",
    "r_Venus = 1\n",
    "r_Mars = 1\n",
    "r_Jupiter = 1\n",
    "r_Saturn = 1\n",
    "r_Uranus = 1\n",
    "r_Neptune = 1"
   ]
  }
 ],
 "metadata": {
  "language_info": {
   "name": "python"
  },
  "orig_nbformat": 4
 },
 "nbformat": 4,
 "nbformat_minor": 2
}
