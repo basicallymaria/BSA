{
  "cells": [
    {
      "cell_type": "code",
      "execution_count": null,
      "metadata": {
        "colab": {
          "base_uri": "https://localhost:8080/"
        },
        "id": "Pa8fQVAtEMn8",
        "outputId": "4c7b7b51-8c3f-4c38-94a7-9ee8a1a1776d"
      },
      "outputs": [],
      "source": [
        "!pip install pyHalo\n",
        "!pip install colossus\n",
        "!pip install lenstronomy\n",
        "!pip install emcee"
      ]
    },
    {
      "cell_type": "code",
      "execution_count": null,
      "metadata": {
        "id": "Nf9qZqJIELfl"
      },
      "outputs": [],
      "source": [
        "import numpy as np\n",
        "from copy import deepcopy\n",
        "import matplotlib.pyplot as plt\n",
        "import lenstronomy"
      ]
    },
    {
      "attachments": {},
      "cell_type": "markdown",
      "metadata": {
        "id": "pbge5sEgELfm"
      },
      "source": [
        "## Warm dark matter (WDM)\n",
        "\n",
        "pyHalo currently supports a WDM preset model. The default halo mass funciton is detailed by Lovell et al. (2020). https://ui.adsabs.harvard.edu/abs/2020ApJ...897..147L/abstract \n",
        "\n",
        "The key parameters for this model are the same as those for cold dark matter (CDM), with the addition of a characteristic mass scale below which both halo abundance and concentration becomes suppressed, relative to CDM. \n",
        "\n",
        "1) log_mc: the logarithm (base 10) of the halo mass scale below which halo abundance and structure becomes suppressed\n",
        "\n",
        "As demonstrated below, the form of the concentration-mass relation and the cutoff in the mass function can be altered by passing additional keyword arguments. "
      ]
    },
    {
      "cell_type": "code",
      "execution_count": null,
      "metadata": {
        "colab": {
          "base_uri": "https://localhost:8080/",
          "height": 498
        },
        "id": "0Ht3Gca1ELfo",
        "outputId": "c4dca38f-130e-422f-cccb-01ab44c1a202"
      },
      "outputs": [],
      "source": [
        "from pyHalo.preset_models import WDM, CDM\n",
        "\n",
        "zlens, zsource = 0.5, 2.5\n",
        "# for visualization purposes we will turn off scatter in the concentration-mass relation; default is 0.2 dex\n",
        "kwargs_concentration_model_subhalos = {'scatter': False}\n",
        "kwargs_concentration_model_fieldhalos = {'scatter': False}\n",
        "realizationCDM = CDM(zlens, zsource, cone_opening_angle_arcsec=12, geometry_type='CYLINDER', sigma_sub=0.1, log_mlow=5.0)\n",
        "realizationWDM = WDM(zlens, zsource, log_mc=6., cone_opening_angle_arcsec=12, log_mlow=5.0,\n",
        "                     geometry_type='CYLINDER', sigma_sub=0.1,\n",
        "                    kwargs_concentration_model_subhalos=kwargs_concentration_model_subhalos)\n",
        "print('realization contains '+str(len(realizationWDM.halos))+' halos.')\n",
        "wdm_halo_masses = [halo.mass for halo in realizationWDM.halos]\n",
        "N, m = np.histogram(wdm_halo_masses, bins=np.logspace(5, 10, 15))\n",
        "wdm_halo_masses = [halo.mass for halo in realizationCDM.halos]\n",
        "Ncdm, mcdm = np.histogram(wdm_halo_masses, bins=np.logspace(5, 10, 15))\n",
        "\n",
        "plt.loglog(m[0:-1], N, color='r')\n",
        "plt.loglog(mcdm[0:-1], Ncdm, color='k')\n",
        "plt.xlabel('Halo mass '+r'$M_{\\odot}$', fontsize=16)\n",
        "plt.ylabel('n(M)', fontsize=16)"
      ]
    },
    {
      "cell_type": "code",
      "execution_count": null,
      "metadata": {
        "colab": {
          "base_uri": "https://localhost:8080/",
          "height": 447
        },
        "id": "wYPD2UwAELfp",
        "outputId": "7c411015-245d-4765-8475-4894d43ec721"
      },
      "outputs": [],
      "source": [
        "masses_1 = []\n",
        "c_1 = []\n",
        "masses_2 = []\n",
        "c_2 = []\n",
        "masses_3 = []\n",
        "c_3 = []\n",
        "z_bins = [0.3, 0.8, 1.5]\n",
        "for halo in realizationWDM.halos:\n",
        "    if halo.is_subhalo: # subhalos have a lot of scatter because their concentration is evaluated at infall\n",
        "        continue\n",
        "    if halo.z < z_bins[0]:\n",
        "        masses_1.append(halo.mass)\n",
        "        c_1.append(halo.c)\n",
        "    elif halo.z < z_bins[1]:\n",
        "        masses_2.append(halo.mass)\n",
        "        c_2.append(halo.c)\n",
        "    elif halo.z < z_bins[2]:\n",
        "        masses_3.append(halo.mass)\n",
        "        c_3.append(halo.c)\n",
        "plt.scatter(np.log10(masses_1), np.log10(c_1), color='k')\n",
        "plt.scatter(np.log10(masses_2), np.log10(c_2), color='g')\n",
        "plt.scatter(np.log10(masses_3), np.log10(c_3), color='r')"
      ]
    },
    {
      "attachments": {},
      "cell_type": "markdown",
      "metadata": {
        "id": "0s6t6xLQELfq"
      },
      "source": [
        "### Modfied turnovers in the concentration-mass relation and mass function\n",
        "\n",
        "You can change the implementation of the turnover by specifying certain keyword arguments. These will override the default settings. \n",
        "\n",
        "The default mass function setting has a turnover of the form \n",
        "\n",
        "\\begin{equation}\n",
        "\\frac{dN_{\\rm{WDM}}}{dm} = \\frac{dN_{\\rm{CDM}}}{dm} \\left(1 + a_{\\rm{wdm}} \\left(\\frac{m_c}{m}\\right)^{b_{\\rm{wdm}}}\\right)^{c_{\\rm{wdm}}}\n",
        "\\end{equation}\n",
        "\n",
        "The defalt concentration-mass relation turnover is of the form given by Bose et al. (2016)\n",
        "\n",
        "\\begin{equation}\n",
        "c_{\\rm{WDM}}\\left(m\\right) = c_{\\rm{CDM}}\\left(m\\right) \\left(1+z\\right)^{\\beta\\left(z\\right)} \\left(1+c_{\\rm{scale}}\\left(\\frac{m_c}{m}\\right)^{c_{\\rm{powerinner}}}\\right)^{c_{\\rm{power}}}\n",
        "\\end{equation}\n",
        "\n",
        "Other options are available. Check out the classes in pyHalo.rendering.MassFunctions"
      ]
    },
    {
      "cell_type": "code",
      "execution_count": null,
      "metadata": {
        "colab": {
          "base_uri": "https://localhost:8080/",
          "height": 451
        },
        "id": "UlRd7TvYELfq",
        "outputId": "76638151-fd20-4904-99f6-b813a3bba095"
      },
      "outputs": [],
      "source": [
        "kwargs_concentration_model_subhalos = {'scatter': False, 'c_scale': 0.5, 'c_power_inner': 1.0, 'c_power': -1.0}\n",
        "kwargs_concentration_model_fieldhalos = {'scatter': False, 'c_scale': 0.5, 'c_power_inner': 1.0, 'c_power': -1.0}\n",
        "\n",
        "kwargs_mass_function_model_subhalos = {'a_wdm': 0.5, 'b_wdm': 1.0, 'c_wdm': -5.0}\n",
        "kwargs_mass_function_model_fieldhalos = {'a_wdm': 0.5, 'b_wdm': 1.0, 'c_wdm': -5.0}\n",
        "\n",
        "realizationWDM_modified = WDM(zlens, zsource, log_mc=6., cone_opening_angle_arcsec=12, log_mlow=5.0,\n",
        "                     geometry_type='CYLINDER', sigma_sub=0.1,\n",
        "                    kwargs_concentration_model_subhalos=kwargs_concentration_model_subhalos,\n",
        "                             kwargs_mass_function_subhalos=kwargs_mass_function_model_subhalos,\n",
        "                             kwargs_mass_function_fieldhalos=kwargs_mass_function_model_fieldhalos)\n",
        "\n",
        "wdm_halo_masses = [halo.mass for halo in realizationWDM_modified.halos]\n",
        "N_mod, m_mod = np.histogram(wdm_halo_masses, bins=np.logspace(5, 10, 15))\n",
        "\n",
        "plt.loglog(m[0:-1], N, color='k')\n",
        "plt.loglog(m_mod[0:-1], N_mod, color='r',linestyle='--')"
      ]
    },
    {
      "cell_type": "code",
      "execution_count": null,
      "metadata": {
        "colab": {
          "base_uri": "https://localhost:8080/",
          "height": 447
        },
        "id": "62v1nw9zELfq",
        "outputId": "fcab0284-3ccc-42b6-9274-4c553487e1ff"
      },
      "outputs": [],
      "source": [
        "masses_1 = []\n",
        "c_1 = []\n",
        "masses_2 = []\n",
        "c_2 = []\n",
        "masses_3 = []\n",
        "c_3 = []\n",
        "z_bins = [0.3, 0.8, 1.5]\n",
        "for halo in realizationWDM_modified.halos:\n",
        "    if halo.is_subhalo: # subhalos have a lot of scatter because their concentration is evaluated at infall\n",
        "        continue\n",
        "    if halo.z < z_bins[0]:\n",
        "        masses_1.append(halo.mass)\n",
        "        c_1.append(halo.c)\n",
        "    elif halo.z < z_bins[1]:\n",
        "        masses_2.append(halo.mass)\n",
        "        c_2.append(halo.c)\n",
        "    elif halo.z < z_bins[2]:\n",
        "        masses_3.append(halo.mass)\n",
        "        c_3.append(halo.c)\n",
        "plt.scatter(np.log10(masses_1), np.log10(c_1), color='k')\n",
        "plt.scatter(np.log10(masses_2), np.log10(c_2), color='g')\n",
        "plt.scatter(np.log10(masses_3), np.log10(c_3), color='r')"
      ]
    },
    {
      "cell_type": "code",
      "execution_count": null,
      "metadata": {
        "colab": {
          "base_uri": "https://localhost:8080/",
          "height": 961
        },
        "id": "kwNGyfS2ELfq",
        "outputId": "ddf512b1-3b2a-4ed4-ca2a-fb483319be7b"
      },
      "outputs": [],
      "source": [
        "wdm_plot = WDM(zlens, zsource, log_mc=8.5, cone_opening_angle_arcsec=8, \n",
        "                     geometry_type='CYLINDER', sigma_sub=0.05)\n",
        "\n",
        "fig = plt.figure(1)\n",
        "fig.set_size_inches(16, 12)\n",
        "ax = plt.subplot(111, projection='3d')\n",
        "wdm_plot.plot(ax)"
      ]
    },
    {
      "cell_type": "code",
      "execution_count": null,
      "metadata": {
        "id": "urFCGwJvELfr"
      },
      "outputs": [],
      "source": []
    }
  ],
  "metadata": {
    "colab": {
      "provenance": []
    },
    "kernelspec": {
      "display_name": "Python 3",
      "language": "python",
      "name": "python3"
    },
    "language_info": {
      "codemirror_mode": {
        "name": "ipython",
        "version": 3
      },
      "file_extension": ".py",
      "mimetype": "text/x-python",
      "name": "python",
      "nbconvert_exporter": "python",
      "pygments_lexer": "ipython3",
      "version": "3.8.10"
    }
  },
  "nbformat": 4,
  "nbformat_minor": 0
}
