{
  "cells": [
    {
      "cell_type": "code",
      "execution_count": 1,
      "metadata": {
        "colab": {
          "base_uri": "https://localhost:8080/"
        },
        "id": "Pa8fQVAtEMn8",
        "outputId": "4c7b7b51-8c3f-4c38-94a7-9ee8a1a1776d"
      },
      "outputs": [
        {
          "name": "stdout",
          "output_type": "stream",
          "text": [
            "Collecting pyHalo\n",
            "  Downloading pyhalo-0.2.7-py3-none-any.whl (131 kB)\n",
            "\u001b[K     |████████████████████████████████| 131 kB 3.5 MB/s eta 0:00:01\n",
            "\u001b[?25hRequirement already satisfied: Click>=6.0 in /usr/local/Caskroom/miniconda/base/lib/python3.9/site-packages (from pyHalo) (8.0.4)\n",
            "Installing collected packages: pyHalo\n",
            "Successfully installed pyHalo-0.2.7\n",
            "Collecting colossus\n",
            "  Downloading colossus-1.3.1-py2.py3-none-any.whl (197 kB)\n",
            "\u001b[K     |████████████████████████████████| 197 kB 2.5 MB/s eta 0:00:01\n",
            "\u001b[?25hInstalling collected packages: colossus\n",
            "Successfully installed colossus-1.3.1\n",
            "Collecting lenstronomy\n",
            "  Downloading lenstronomy-1.11.2.tar.gz (1.5 MB)\n",
            "\u001b[K     |████████████████████████████████| 1.5 MB 1.8 MB/s eta 0:00:01\n",
            "\u001b[?25hRequirement already satisfied: numpy>=1.13 in /usr/local/Caskroom/miniconda/base/lib/python3.9/site-packages (from lenstronomy) (1.22.2)\n",
            "Requirement already satisfied: scipy>=0.19.1 in /usr/local/Caskroom/miniconda/base/lib/python3.9/site-packages (from lenstronomy) (1.7.3)\n",
            "Collecting configparser\n",
            "  Downloading configparser-5.3.0-py3-none-any.whl (19 kB)\n",
            "Requirement already satisfied: astropy in /usr/local/Caskroom/miniconda/base/lib/python3.9/site-packages (from lenstronomy) (5.2.1)\n",
            "Requirement already satisfied: mpmath in /usr/local/Caskroom/miniconda/base/lib/python3.9/site-packages (from lenstronomy) (1.2.1)\n",
            "Requirement already satisfied: matplotlib in /usr/local/Caskroom/miniconda/base/lib/python3.9/site-packages (from lenstronomy) (3.5.2)\n",
            "Requirement already satisfied: scikit-learn in /usr/local/Caskroom/miniconda/base/lib/python3.9/site-packages (from lenstronomy) (1.1.1)\n",
            "Requirement already satisfied: numba>=0.43.1 in /usr/local/Caskroom/miniconda/base/lib/python3.9/site-packages (from lenstronomy) (0.56.3)\n",
            "Requirement already satisfied: corner>=2.2.1 in /usr/local/Caskroom/miniconda/base/lib/python3.9/site-packages (from lenstronomy) (2.2.1)\n",
            "Collecting scikit-image\n",
            "  Downloading scikit_image-0.21.0-cp39-cp39-macosx_10_9_x86_64.whl (13.0 MB)\n",
            "\u001b[K     |████████████████████████████████| 13.0 MB 145.7 MB/s eta 0:00:01\n",
            "\u001b[?25hRequirement already satisfied: pyyaml in /usr/local/Caskroom/miniconda/base/lib/python3.9/site-packages (from lenstronomy) (6.0)\n",
            "Requirement already satisfied: h5py in /usr/local/Caskroom/miniconda/base/lib/python3.9/site-packages (from lenstronomy) (3.8.0)\n",
            "Collecting pyxdg\n",
            "  Downloading pyxdg-0.28-py2.py3-none-any.whl (49 kB)\n",
            "\u001b[K     |████████████████████████████████| 49 kB 14.0 MB/s eta 0:00:01\n",
            "\u001b[?25hCollecting schwimmbad\n",
            "  Downloading schwimmbad-0.3.2.tar.gz (24 kB)\n",
            "  Installing build dependencies ... \u001b[?25ldone\n",
            "\u001b[?25h  Getting requirements to build wheel ... \u001b[?25ldone\n",
            "\u001b[?25h    Preparing wheel metadata ... \u001b[?25ldone\n",
            "\u001b[?25hCollecting multiprocess>=0.70.8\n",
            "  Downloading multiprocess-0.70.14-py39-none-any.whl (132 kB)\n",
            "\u001b[K     |████████████████████████████████| 132 kB 104.1 MB/s eta 0:00:01\n",
            "\u001b[?25hRequirement already satisfied: pillow>=6.2.0 in /usr/local/Caskroom/miniconda/base/lib/python3.9/site-packages (from matplotlib->lenstronomy) (9.0.1)\n",
            "Requirement already satisfied: cycler>=0.10 in /usr/local/Caskroom/miniconda/base/lib/python3.9/site-packages (from matplotlib->lenstronomy) (0.11.0)\n",
            "Requirement already satisfied: kiwisolver>=1.0.1 in /usr/local/Caskroom/miniconda/base/lib/python3.9/site-packages (from matplotlib->lenstronomy) (1.4.2)\n",
            "Requirement already satisfied: packaging>=20.0 in /usr/local/Caskroom/miniconda/base/lib/python3.9/site-packages (from matplotlib->lenstronomy) (21.3)\n",
            "Requirement already satisfied: fonttools>=4.22.0 in /usr/local/Caskroom/miniconda/base/lib/python3.9/site-packages (from matplotlib->lenstronomy) (4.29.1)\n",
            "Requirement already satisfied: pyparsing>=2.2.1 in /usr/local/Caskroom/miniconda/base/lib/python3.9/site-packages (from matplotlib->lenstronomy) (3.0.9)\n",
            "Requirement already satisfied: python-dateutil>=2.7 in /usr/local/Caskroom/miniconda/base/lib/python3.9/site-packages (from matplotlib->lenstronomy) (2.8.2)\n",
            "Collecting dill>=0.3.6\n",
            "  Downloading dill-0.3.6-py3-none-any.whl (110 kB)\n",
            "\u001b[K     |████████████████████████████████| 110 kB 18.1 MB/s eta 0:00:01\n",
            "\u001b[?25hRequirement already satisfied: setuptools in /usr/local/Caskroom/miniconda/base/lib/python3.9/site-packages (from numba>=0.43.1->lenstronomy) (52.0.0.post20210125)\n",
            "Requirement already satisfied: llvmlite<0.40,>=0.39.0dev0 in /usr/local/Caskroom/miniconda/base/lib/python3.9/site-packages (from numba>=0.43.1->lenstronomy) (0.39.1)\n",
            "Requirement already satisfied: six>=1.5 in /usr/local/Caskroom/miniconda/base/lib/python3.9/site-packages (from python-dateutil>=2.7->matplotlib->lenstronomy) (1.16.0)\n",
            "Requirement already satisfied: pyerfa>=2.0 in /usr/local/Caskroom/miniconda/base/lib/python3.9/site-packages (from astropy->lenstronomy) (2.0.0.1)\n",
            "Collecting imageio>=2.27\n",
            "  Downloading imageio-2.31.0-py3-none-any.whl (313 kB)\n",
            "\u001b[K     |████████████████████████████████| 313 kB 13.7 MB/s eta 0:00:01\n",
            "\u001b[?25hCollecting tifffile>=2022.8.12\n",
            "  Downloading tifffile-2023.4.12-py3-none-any.whl (219 kB)\n",
            "\u001b[K     |████████████████████████████████| 219 kB 22.0 MB/s eta 0:00:01\n",
            "\u001b[?25hCollecting PyWavelets>=1.1.1\n",
            "  Downloading PyWavelets-1.4.1-cp39-cp39-macosx_10_13_x86_64.whl (4.4 MB)\n",
            "\u001b[K     |████████████████████████████████| 4.4 MB 24.3 MB/s eta 0:00:01\n",
            "\u001b[?25hCollecting lazy_loader>=0.2\n",
            "  Downloading lazy_loader-0.2-py3-none-any.whl (8.6 kB)\n",
            "Collecting networkx>=2.8\n",
            "  Downloading networkx-3.1-py3-none-any.whl (2.1 MB)\n",
            "\u001b[K     |████████████████████████████████| 2.1 MB 24.7 MB/s eta 0:00:01\n",
            "\u001b[?25hCollecting scipy>=0.19.1\n",
            "  Downloading scipy-1.10.1-cp39-cp39-macosx_10_9_x86_64.whl (35.2 MB)\n",
            "\u001b[K     |████████████████████████████████| 35.2 MB 24.6 MB/s eta 0:00:01\n",
            "\u001b[?25hRequirement already satisfied: threadpoolctl>=2.0.0 in /usr/local/Caskroom/miniconda/base/lib/python3.9/site-packages (from scikit-learn->lenstronomy) (2.2.0)\n",
            "Requirement already satisfied: joblib>=1.0.0 in /usr/local/Caskroom/miniconda/base/lib/python3.9/site-packages (from scikit-learn->lenstronomy) (1.1.0)\n",
            "Building wheels for collected packages: lenstronomy, schwimmbad\n",
            "  Building wheel for lenstronomy (setup.py) ... \u001b[?25ldone\n",
            "\u001b[?25h  Created wheel for lenstronomy: filename=lenstronomy-1.11.2-py3-none-any.whl size=1086820 sha256=577b57a1a828d62ed4d07bc1f8e8aaf2a8efd422a6a284f592a6c12d166cfaff\n",
            "  Stored in directory: /Users/mariafirenze/Library/Caches/pip/wheels/dc/b2/b2/d597d6077a9c71dc4e83e454ddb256650502f9672eca2e4825\n",
            "  Building wheel for schwimmbad (PEP 517) ... \u001b[?25ldone\n",
            "\u001b[?25h  Created wheel for schwimmbad: filename=schwimmbad-0.3.2-py3-none-any.whl size=15728 sha256=aad0a30c3684c993a256194abe6856716d3ff9945dde132333ed9133e5a51e83\n",
            "  Stored in directory: /Users/mariafirenze/Library/Caches/pip/wheels/75/6b/35/abea2c17a4f1a1ce897e8ccc361793f3a3bb9c102461b6bc82\n",
            "Successfully built lenstronomy schwimmbad\n",
            "Installing collected packages: tifffile, scipy, PyWavelets, networkx, lazy-loader, imageio, dill, scikit-image, schwimmbad, pyxdg, multiprocess, configparser, lenstronomy\n",
            "  Attempting uninstall: scipy\n",
            "    Found existing installation: scipy 1.7.3\n",
            "    Uninstalling scipy-1.7.3:\n",
            "      Successfully uninstalled scipy-1.7.3\n",
            "Successfully installed PyWavelets-1.4.1 configparser-5.3.0 dill-0.3.6 imageio-2.31.0 lazy-loader-0.2 lenstronomy-1.11.2 multiprocess-0.70.14 networkx-3.1 pyxdg-0.28 schwimmbad-0.3.2 scikit-image-0.21.0 scipy-1.10.1 tifffile-2023.4.12\n",
            "Collecting emcee\n",
            "  Downloading emcee-3.1.4-py2.py3-none-any.whl (46 kB)\n",
            "\u001b[K     |████████████████████████████████| 46 kB 1.8 MB/s eta 0:00:01\n",
            "\u001b[?25hRequirement already satisfied: numpy in /usr/local/Caskroom/miniconda/base/lib/python3.9/site-packages (from emcee) (1.22.2)\n",
            "Installing collected packages: emcee\n",
            "Successfully installed emcee-3.1.4\n"
          ]
        }
      ],
      "source": [
        "!pip install pyHalo\n",
        "!pip install colossus\n",
        "!pip install lenstronomy\n",
        "!pip install emcee"
      ]
    },
    {
      "cell_type": "code",
      "execution_count": 2,
      "metadata": {
        "id": "Nf9qZqJIELfl"
      },
      "outputs": [],
      "source": [
        "import numpy as np\n",
        "from copy import deepcopy\n",
        "import matplotlib.pyplot as plt\n",
        "import lenstronomy"
      ]
    },
    {
      "attachments": {},
      "cell_type": "markdown",
      "metadata": {
        "id": "pbge5sEgELfm"
      },
      "source": [
        "## Warm dark matter (WDM)\n",
        "\n",
        "pyHalo currently supports a WDM preset model. The default halo mass funciton is detailed by Lovell et al. (2020). https://ui.adsabs.harvard.edu/abs/2020ApJ...897..147L/abstract \n",
        "\n",
        "The key parameters for this model are the same as those for cold dark matter (CDM), with the addition of a characteristic mass scale below which both halo abundance and concentration becomes suppressed, relative to CDM. \n",
        "\n",
        "1) log_mc: the logarithm (base 10) of the halo mass scale below which halo abundance and structure becomes suppressed\n",
        "\n",
        "As demonstrated below, the form of the concentration-mass relation and the cutoff in the mass function can be altered by passing additional keyword arguments. "
      ]
    },
    {
      "cell_type": "code",
      "execution_count": 4,
      "metadata": {
        "colab": {
          "base_uri": "https://localhost:8080/",
          "height": 498
        },
        "id": "0Ht3Gca1ELfo",
        "outputId": "c4dca38f-130e-422f-cccb-01ab44c1a202"
      },
      "outputs": [
        {
          "ename": "ModuleNotFoundError",
          "evalue": "No module named 'pyHalo'",
          "output_type": "error",
          "traceback": [
            "\u001b[0;31m---------------------------------------------------------------------------\u001b[0m",
            "\u001b[0;31mModuleNotFoundError\u001b[0m                       Traceback (most recent call last)",
            "\u001b[0;32m/var/folders/2r/gwrt1nq934zd6xky7hbfb8_80000gn/T/ipykernel_10699/3857280294.py\u001b[0m in \u001b[0;36m<module>\u001b[0;34m\u001b[0m\n\u001b[0;32m----> 1\u001b[0;31m \u001b[0;32mfrom\u001b[0m \u001b[0mpyHalo\u001b[0m\u001b[0;34m.\u001b[0m\u001b[0mpreset_models\u001b[0m \u001b[0;32mimport\u001b[0m \u001b[0mWDM\u001b[0m\u001b[0;34m,\u001b[0m \u001b[0mCDM\u001b[0m\u001b[0;34m\u001b[0m\u001b[0;34m\u001b[0m\u001b[0m\n\u001b[0m\u001b[1;32m      2\u001b[0m \u001b[0;34m\u001b[0m\u001b[0m\n\u001b[1;32m      3\u001b[0m \u001b[0mzlens\u001b[0m\u001b[0;34m,\u001b[0m \u001b[0mzsource\u001b[0m \u001b[0;34m=\u001b[0m \u001b[0;36m0.5\u001b[0m\u001b[0;34m,\u001b[0m \u001b[0;36m2.5\u001b[0m\u001b[0;34m\u001b[0m\u001b[0;34m\u001b[0m\u001b[0m\n\u001b[1;32m      4\u001b[0m \u001b[0;31m# for visualization purposes we will turn off scatter in the concentration-mass relation; default is 0.2 dex\u001b[0m\u001b[0;34m\u001b[0m\u001b[0;34m\u001b[0m\u001b[0;34m\u001b[0m\u001b[0m\n\u001b[1;32m      5\u001b[0m \u001b[0mkwargs_concentration_model_subhalos\u001b[0m \u001b[0;34m=\u001b[0m \u001b[0;34m{\u001b[0m\u001b[0;34m'scatter'\u001b[0m\u001b[0;34m:\u001b[0m \u001b[0;32mFalse\u001b[0m\u001b[0;34m}\u001b[0m\u001b[0;34m\u001b[0m\u001b[0;34m\u001b[0m\u001b[0m\n",
            "\u001b[0;31mModuleNotFoundError\u001b[0m: No module named 'pyHalo'"
          ]
        }
      ],
      "source": [
        "from pyHalo.preset_models import WDM, CDM\n",
        "\n",
        "zlens, zsource = 0.5, 2.5\n",
        "# for visualization purposes we will turn off scatter in the concentration-mass relation; default is 0.2 dex\n",
        "kwargs_concentration_model_subhalos = {'scatter': False}\n",
        "kwargs_concentration_model_fieldhalos = {'scatter': False}\n",
        "realizationCDM = CDM(zlens, zsource, cone_opening_angle_arcsec=12, geometry_type='CYLINDER', sigma_sub=0.1, log_mlow=5.0)\n",
        "realizationWDM = WDM(zlens, zsource, log_mc=6., cone_opening_angle_arcsec=12, log_mlow=5.0,\n",
        "                     geometry_type='CYLINDER', sigma_sub=0.1,\n",
        "                    kwargs_concentration_model_subhalos=kwargs_concentration_model_subhalos)\n",
        "print('realization contains '+str(len(realizationWDM.halos))+' halos.')\n",
        "wdm_halo_masses = [halo.mass for halo in realizationWDM.halos]\n",
        "N, m = np.histogram(wdm_halo_masses, bins=np.logspace(5, 10, 15))\n",
        "wdm_halo_masses = [halo.mass for halo in realizationCDM.halos]\n",
        "Ncdm, mcdm = np.histogram(wdm_halo_masses, bins=np.logspace(5, 10, 15))\n",
        "\n",
        "plt.loglog(m[0:-1], N, color='r')\n",
        "plt.loglog(mcdm[0:-1], Ncdm, color='k')\n",
        "plt.xlabel('Halo mass '+r'$M_{\\odot}$', fontsize=16)\n",
        "plt.ylabel('n(M)', fontsize=16)"
      ]
    },
    {
      "cell_type": "code",
      "execution_count": null,
      "metadata": {
        "colab": {
          "base_uri": "https://localhost:8080/",
          "height": 447
        },
        "id": "wYPD2UwAELfp",
        "outputId": "7c411015-245d-4765-8475-4894d43ec721"
      },
      "outputs": [],
      "source": [
        "masses_1 = []\n",
        "c_1 = []\n",
        "masses_2 = []\n",
        "c_2 = []\n",
        "masses_3 = []\n",
        "c_3 = []\n",
        "z_bins = [0.3, 0.8, 1.5]\n",
        "for halo in realizationWDM.halos:\n",
        "    if halo.is_subhalo: # subhalos have a lot of scatter because their concentration is evaluated at infall\n",
        "        continue\n",
        "    if halo.z < z_bins[0]:\n",
        "        masses_1.append(halo.mass)\n",
        "        c_1.append(halo.c)\n",
        "    elif halo.z < z_bins[1]:\n",
        "        masses_2.append(halo.mass)\n",
        "        c_2.append(halo.c)\n",
        "    elif halo.z < z_bins[2]:\n",
        "        masses_3.append(halo.mass)\n",
        "        c_3.append(halo.c)\n",
        "plt.scatter(np.log10(masses_1), np.log10(c_1), color='k')\n",
        "plt.scatter(np.log10(masses_2), np.log10(c_2), color='g')\n",
        "plt.scatter(np.log10(masses_3), np.log10(c_3), color='r')"
      ]
    },
    {
      "attachments": {},
      "cell_type": "markdown",
      "metadata": {
        "id": "0s6t6xLQELfq"
      },
      "source": [
        "### Modfied turnovers in the concentration-mass relation and mass function\n",
        "\n",
        "You can change the implementation of the turnover by specifying certain keyword arguments. These will override the default settings. \n",
        "\n",
        "The default mass function setting has a turnover of the form \n",
        "\n",
        "\\begin{equation}\n",
        "\\frac{dN_{\\rm{WDM}}}{dm} = \\frac{dN_{\\rm{CDM}}}{dm} \\left(1 + a_{\\rm{wdm}} \\left(\\frac{m_c}{m}\\right)^{b_{\\rm{wdm}}}\\right)^{c_{\\rm{wdm}}}\n",
        "\\end{equation}\n",
        "\n",
        "The defalt concentration-mass relation turnover is of the form given by Bose et al. (2016)\n",
        "\n",
        "\\begin{equation}\n",
        "c_{\\rm{WDM}}\\left(m\\right) = c_{\\rm{CDM}}\\left(m\\right) \\left(1+z\\right)^{\\beta\\left(z\\right)} \\left(1+c_{\\rm{scale}}\\left(\\frac{m_c}{m}\\right)^{c_{\\rm{powerinner}}}\\right)^{c_{\\rm{power}}}\n",
        "\\end{equation}\n",
        "\n",
        "Other options are available. Check out the classes in pyHalo.rendering.MassFunctions"
      ]
    },
    {
      "cell_type": "code",
      "execution_count": null,
      "metadata": {
        "colab": {
          "base_uri": "https://localhost:8080/",
          "height": 451
        },
        "id": "UlRd7TvYELfq",
        "outputId": "76638151-fd20-4904-99f6-b813a3bba095"
      },
      "outputs": [],
      "source": [
        "kwargs_concentration_model_subhalos = {'scatter': False, 'c_scale': 0.5, 'c_power_inner': 1.0, 'c_power': -1.0}\n",
        "kwargs_concentration_model_fieldhalos = {'scatter': False, 'c_scale': 0.5, 'c_power_inner': 1.0, 'c_power': -1.0}\n",
        "\n",
        "kwargs_mass_function_model_subhalos = {'a_wdm': 0.5, 'b_wdm': 1.0, 'c_wdm': -5.0}\n",
        "kwargs_mass_function_model_fieldhalos = {'a_wdm': 0.5, 'b_wdm': 1.0, 'c_wdm': -5.0}\n",
        "\n",
        "realizationWDM_modified = WDM(zlens, zsource, log_mc=6., cone_opening_angle_arcsec=12, log_mlow=5.0,\n",
        "                     geometry_type='CYLINDER', sigma_sub=0.1,\n",
        "                    kwargs_concentration_model_subhalos=kwargs_concentration_model_subhalos,\n",
        "                             kwargs_mass_function_subhalos=kwargs_mass_function_model_subhalos,\n",
        "                             kwargs_mass_function_fieldhalos=kwargs_mass_function_model_fieldhalos)\n",
        "\n",
        "wdm_halo_masses = [halo.mass for halo in realizationWDM_modified.halos]\n",
        "N_mod, m_mod = np.histogram(wdm_halo_masses, bins=np.logspace(5, 10, 15))\n",
        "\n",
        "plt.loglog(m[0:-1], N, color='k')\n",
        "plt.loglog(m_mod[0:-1], N_mod, color='r',linestyle='--')"
      ]
    },
    {
      "cell_type": "code",
      "execution_count": null,
      "metadata": {
        "colab": {
          "base_uri": "https://localhost:8080/",
          "height": 447
        },
        "id": "62v1nw9zELfq",
        "outputId": "fcab0284-3ccc-42b6-9274-4c553487e1ff"
      },
      "outputs": [],
      "source": [
        "masses_1 = []\n",
        "c_1 = []\n",
        "masses_2 = []\n",
        "c_2 = []\n",
        "masses_3 = []\n",
        "c_3 = []\n",
        "z_bins = [0.3, 0.8, 1.5]\n",
        "for halo in realizationWDM_modified.halos:\n",
        "    if halo.is_subhalo: # subhalos have a lot of scatter because their concentration is evaluated at infall\n",
        "        continue\n",
        "    if halo.z < z_bins[0]:\n",
        "        masses_1.append(halo.mass)\n",
        "        c_1.append(halo.c)\n",
        "    elif halo.z < z_bins[1]:\n",
        "        masses_2.append(halo.mass)\n",
        "        c_2.append(halo.c)\n",
        "    elif halo.z < z_bins[2]:\n",
        "        masses_3.append(halo.mass)\n",
        "        c_3.append(halo.c)\n",
        "plt.scatter(np.log10(masses_1), np.log10(c_1), color='k')\n",
        "plt.scatter(np.log10(masses_2), np.log10(c_2), color='g')\n",
        "plt.scatter(np.log10(masses_3), np.log10(c_3), color='r')"
      ]
    },
    {
      "cell_type": "code",
      "execution_count": null,
      "metadata": {
        "colab": {
          "base_uri": "https://localhost:8080/",
          "height": 961
        },
        "id": "kwNGyfS2ELfq",
        "outputId": "ddf512b1-3b2a-4ed4-ca2a-fb483319be7b"
      },
      "outputs": [],
      "source": [
        "wdm_plot = WDM(zlens, zsource, log_mc=8.5, cone_opening_angle_arcsec=8, \n",
        "                     geometry_type='CYLINDER', sigma_sub=0.05)\n",
        "\n",
        "fig = plt.figure(1)\n",
        "fig.set_size_inches(16, 12)\n",
        "ax = plt.subplot(111, projection='3d')\n",
        "wdm_plot.plot(ax)"
      ]
    },
    {
      "cell_type": "code",
      "execution_count": null,
      "metadata": {
        "id": "urFCGwJvELfr"
      },
      "outputs": [],
      "source": []
    }
  ],
  "metadata": {
    "colab": {
      "provenance": []
    },
    "kernelspec": {
      "display_name": "Python 3",
      "language": "python",
      "name": "python3"
    },
    "language_info": {
      "codemirror_mode": {
        "name": "ipython",
        "version": 3
      },
      "file_extension": ".py",
      "mimetype": "text/x-python",
      "name": "python",
      "nbconvert_exporter": "python",
      "pygments_lexer": "ipython3",
      "version": "3.7.11"
    }
  },
  "nbformat": 4,
  "nbformat_minor": 0
}
