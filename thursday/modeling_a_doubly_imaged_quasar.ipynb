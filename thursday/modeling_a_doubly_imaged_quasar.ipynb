{
 "cells": [
  {
   "cell_type": "markdown",
   "metadata": {},
   "source": [
    "# Double modelling notebook\n",
    "\n",
    "With this notebook, we provide an example of how to model a double lensed quasar with a host galaxy and a lens galaxy component. \n",
    "\n",
    "We recommend to first go through the starting guide notebook, where the building blocks of *lenstronomy* are explained in detail.\n",
    "\n",
    "*lenstronomy* comes with a set of neat features that facilitate the modelling of double lenses. This notebook introduces those features and how to use them.\n",
    "\n",
    "\n",
    "<div class=\"alert alert-warning\">\n",
    "\n",
    "**Warning:** This particular example below works only with a 2-imaged point source. If you play around with other lens models that predict another image multiplicity, there will be an error. Please have a look at other notebooks in re-configure the modelling in those cases.\n",
    "\n",
    "</div>\n",
    "\n",
    "<div class=\"alert alert-warning\">\n",
    "\n",
    "**Be aware:** The default option of lenstronomy is inferring the image magnitudes of the unresolved point sources independently of each other, meaning no potential knowledge about the lensing magnification at the image positions is used. The reason for it is, because stellar micro-lensing of the source by the lensing galaxy can introduce sufficient (de-)magnification that the model is not accounting for.\n",
    "    We refer to the PointSource() class and the keyword 'fixed_magnification_list' to change the option.\n",
    "\n",
    "</div>"
   ]
  },
  {
   "cell_type": "code",
   "execution_count": null,
   "metadata": {},
   "outputs": [],
   "source": [
    "# some python imports required\n",
    "import matplotlib.pyplot as plt\n",
    "import numpy as np\n",
    "import corner\n",
    "from mpl_toolkits.axes_grid1 import make_axes_locatable\n",
    "%matplotlib inline\n",
    "\n",
    "# make sure lenstronomy is installed, otherwise install the latest pip version\n",
    "# try:\n",
    "#     import lenstronomy\n",
    "# except:\n",
    "#     !pip install lenstronomy\n",
    "\n",
    "# lenstronomy modules\n",
    "from lenstronomy.Util import image_util\n",
    "from lenstronomy.Util import simulation_util as sim_util\n",
    "from lenstronomy.ImSim.image_model import ImageModel\n",
    "from lenstronomy.Data.imaging_data import ImageData\n",
    "from lenstronomy.Data.psf import PSF\n",
    "from lenstronomy.PointSource.point_source import PointSource\n",
    "from lenstronomy.LensModel.lens_model import LensModel\n",
    "from lenstronomy.LensModel.Solver.lens_equation_solver import LensEquationSolver\n",
    "from lenstronomy.LightModel.light_model import LightModel\n",
    "from lenstronomy.Sampling.parameters import Param\n"
   ]
  },
  {
   "cell_type": "markdown",
   "metadata": {},
   "source": [
    "## creating a mock image of a double\n",
    "We follow closely the starting guide in how we create a mock image with noise properties. In this example we use an elliptical power-law convergence profile with external shear as the lens model, two different Sersic profiles as the light components of the deflector and the quasar host galaxy and a HST-like resolution of the image."
   ]
  },
  {
   "cell_type": "markdown",
   "metadata": {},
   "source": [
    "### Q: play around with the following parameters to get a better understanding of how the lensing is performed. Once you build this intuition, try recreating the lenses shown on the screen."
   ]
  },
  {
   "cell_type": "code",
   "execution_count": 2,
   "metadata": {},
   "outputs": [],
   "source": [
    "# lens position\n",
    "# change these values to see how the lensed image changes\n",
    "ra_lens, dec_lens = 0.3, 0\n",
    "# mass multiplier \n",
    "mass_multiplier = 1\n",
    "\n",
    "\n",
    "# quasar point source position in the source plane \n",
    "# change these values to see how the lensed image changes\n",
    "ra_source, dec_source = 0.4, 0.3\n",
    "\n",
    "# brightness of the source\n",
    "source_brightness = 1"
   ]
  },
  {
   "cell_type": "code",
   "execution_count": 3,
   "metadata": {},
   "outputs": [
    {
     "data": {
      "image/png": "[encoded data removed]",
      "text/plain": [
       "<Figure size 480x480 with 1 Axes>"
      ]
     },
     "metadata": {},
     "output_type": "display_data"
    }
   ],
   "source": [
    "# data specifics\n",
    "background_rms = 0.5  # background noise per pixel\n",
    "exp_time = 100  # exposure time (arbitrary units, flux per pixel is in units #photons/exp_time unit)\n",
    "numPix = 100  # cutout pixel size\n",
    "deltaPix = 0.05  # pixel size in arcsec (area per pixel = deltaPix**2)\n",
    "fwhm = 0.2  # full width half max of PSF\n",
    "\n",
    "# PSF specification\n",
    "\n",
    "kwargs_data = sim_util.data_configure_simple(numPix, deltaPix, exp_time, background_rms, inverse=True)\n",
    "data_class = ImageData(**kwargs_data)\n",
    "kwargs_psf = {'psf_type': 'GAUSSIAN', 'fwhm': fwhm, 'pixel_size': deltaPix, 'truncation': 3}\n",
    "psf_class = PSF(**kwargs_psf)\n",
    "\n",
    "lens_model_list = ['EPL', 'SHEAR']\n",
    "kwargs_shear = {'gamma1': 0.01, 'gamma2': 0.01}  # gamma_ext: shear strength, psi_ext: shear angel (in radian)\n",
    "kwargs_spemd = {'theta_E': 1. * mass_multiplier, 'gamma': 1.96, 'center_x': 0, 'center_y': 0, 'e1': 0.07, 'e2': -0.03}\n",
    "kwargs_lens = [kwargs_spemd, kwargs_shear]\n",
    "lens_model_class = LensModel(lens_model_list=lens_model_list)\n",
    "\n",
    "# list of light profiles (for lens and source)\n",
    "# 'SERSIC': spherical Sersic profile\n",
    "lens_light_model_list = ['SERSIC']\n",
    "\n",
    "kwargs_sersic = {'amp': 400., 'R_sersic': 1., 'n_sersic': 2, 'center_x': ra_lens, 'center_y': dec_lens}\n",
    "kwargs_lens_light = [kwargs_sersic]\n",
    "lens_light_model_class = LightModel(light_model_list=lens_light_model_list)\n",
    "\n",
    "# 'SERSIC_ELLIPSE': elliptical Sersic profile\n",
    "source_model_list = ['SERSIC_ELLIPSE']\n",
    "\n",
    "\n",
    "\n",
    "kwargs_sersic_ellipse = {'amp': 160 * source_brightness, 'R_sersic': .5, 'n_sersic': 7, 'center_x': ra_source,\n",
    "                         'center_y': dec_source, 'e1': 0., 'e2': 0.1}\n",
    "kwargs_source = [kwargs_sersic_ellipse]\n",
    "source_model_class = LightModel(light_model_list=source_model_list)\n",
    "\n",
    "# lens equation solver\n",
    "lensEquationSolver = LensEquationSolver(lens_model_class)\n",
    "x_image, y_image = lensEquationSolver.findBrightImage(ra_source, dec_source, kwargs_lens, numImages=4,\n",
    "                                                      min_distance=deltaPix, search_window=numPix * deltaPix)\n",
    "mag = lens_model_class.magnification(x_image, y_image, kwargs=kwargs_lens)\n",
    "kwargs_ps = [{'ra_image': x_image, 'dec_image': y_image,\n",
    "                           'point_amp': np.abs(mag)*100}]  # quasar point source position in the source plane and intrinsic brightness\n",
    "point_source_list = ['LENSED_POSITION']\n",
    "point_source_class = PointSource(point_source_type_list=point_source_list, fixed_magnification_list=[False])\n",
    "kwargs_numerics = {'supersampling_factor': 1, 'supersampling_convolution': False}\n",
    "imageModel = ImageModel(data_class, psf_class, lens_model_class, source_model_class,\n",
    "                                lens_light_model_class,\n",
    "                                point_source_class, kwargs_numerics=kwargs_numerics)\n",
    "image_sim = imageModel.image(kwargs_lens, kwargs_source,\n",
    "                                         kwargs_lens_light, kwargs_ps)\n",
    "\n",
    "# this image includes no noise\n",
    "kwargs_data['image_data'] = image_sim\n",
    "data_class.update_data(image_sim)\n",
    "\n",
    "plt.matshow(np.log10(image_sim), origin='lower')\n",
    "plt.show()"
   ]
  },
  {
   "cell_type": "markdown",
   "metadata": {},
   "source": [
    "### Q: print the positions of the images, compare to the source"
   ]
  },
  {
   "cell_type": "code",
   "execution_count": null,
   "metadata": {},
   "outputs": [],
   "source": []
  }
 ],
 "metadata": {
  "kernelspec": {
   "display_name": "bsa",
   "language": "python",
   "name": "python3"
  },
  "language_info": {
   "codemirror_mode": {
    "name": "ipython",
    "version": 3
   },
   "file_extension": ".py",
   "mimetype": "text/x-python",
   "name": "python",
   "nbconvert_exporter": "python",
   "pygments_lexer": "ipython3",
   "version": "3.12.4"
  }
 },
 "nbformat": 4,
 "nbformat_minor": 2
}
