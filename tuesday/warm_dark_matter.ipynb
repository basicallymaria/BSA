{
 "cells": [
  {
   "cell_type": "code",
   "execution_count": 3,
   "metadata": {},
   "outputs": [],
   "source": [
    "import numpy as np\n",
    "from copy import deepcopy\n",
    "import matplotlib.pyplot as plt\n",
    "import lenstronomy"
   ]
  },
  {
   "cell_type": "markdown",
   "metadata": {},
   "source": [
    "## Warm dark matter (WDM)\n",
    "\n",
    "pyHalo currently supports a WDM preset model. The default halo mass funciton is detailed by Lovell et al. (2020). https://ui.adsabs.harvard.edu/abs/2020ApJ...897..147L/abstract \n",
    "\n",
    "The key parameters for this model are the same as those for cold dark matter (CDM), with the addition of a characteristic mass scale below which both halo abundance and concentration becomes suppressed, relative to CDM. \n",
    "\n",
    "1) log_mc: the logarithm (base 10) of the halo mass scale below which halo abundance and structure becomes suppressed\n",
    "\n",
    "As demonstrated below, the form of the concentration-mass relation and the cutoff in the mass function can be altered by passing additional keyword arguments. "
   ]
  },
  {
   "cell_type": "code",
   "execution_count": 5,
   "metadata": {},
   "outputs": [
    {
     "ename": "ModuleNotFoundError",
     "evalue": "No module named 'lenstronomy.LensModel.Profiles.general_nfw'",
     "output_type": "error",
     "traceback": [
      "\u001b[0;31m---------------------------------------------------------------------------\u001b[0m",
      "\u001b[0;31mModuleNotFoundError\u001b[0m                       Traceback (most recent call last)",
      "\u001b[0;32m/var/folders/2r/gwrt1nq934zd6xky7hbfb8_80000gn/T/ipykernel_15995/3659601889.py\u001b[0m in \u001b[0;36m<module>\u001b[0;34m\u001b[0m\n\u001b[0;32m----> 1\u001b[0;31m \u001b[0;32mfrom\u001b[0m \u001b[0mpyHalo\u001b[0m\u001b[0;34m.\u001b[0m\u001b[0mpreset_models\u001b[0m \u001b[0;32mimport\u001b[0m \u001b[0mWDM\u001b[0m\u001b[0;34m,\u001b[0m \u001b[0mCDM\u001b[0m\u001b[0;34m\u001b[0m\u001b[0;34m\u001b[0m\u001b[0m\n\u001b[0m\u001b[1;32m      2\u001b[0m \u001b[0;34m\u001b[0m\u001b[0m\n\u001b[1;32m      3\u001b[0m \u001b[0mzlens\u001b[0m\u001b[0;34m,\u001b[0m \u001b[0mzsource\u001b[0m \u001b[0;34m=\u001b[0m \u001b[0;36m0.5\u001b[0m\u001b[0;34m,\u001b[0m \u001b[0;36m2.5\u001b[0m\u001b[0;34m\u001b[0m\u001b[0;34m\u001b[0m\u001b[0m\n\u001b[1;32m      4\u001b[0m \u001b[0;31m# for visualization purposes we will turn off scatter in the concentration-mass relation; default is 0.2 dex\u001b[0m\u001b[0;34m\u001b[0m\u001b[0;34m\u001b[0m\u001b[0;34m\u001b[0m\u001b[0m\n\u001b[1;32m      5\u001b[0m \u001b[0mkwargs_concentration_model_subhalos\u001b[0m \u001b[0;34m=\u001b[0m \u001b[0;34m{\u001b[0m\u001b[0;34m'scatter'\u001b[0m\u001b[0;34m:\u001b[0m \u001b[0;32mFalse\u001b[0m\u001b[0;34m}\u001b[0m\u001b[0;34m\u001b[0m\u001b[0;34m\u001b[0m\u001b[0m\n",
      "\u001b[0;32m/usr/local/Caskroom/miniconda/base/envs/astroconda/lib/python3.7/site-packages/pyHalo/preset_models.py\u001b[0m in \u001b[0;36m<module>\u001b[0;34m\u001b[0m\n\u001b[1;32m      5\u001b[0m \u001b[0mpresented\u001b[0m \u001b[0mhere\u001b[0m \u001b[0mshow\u001b[0m \u001b[0mwhat\u001b[0m \u001b[0meach\u001b[0m \u001b[0mkeyword\u001b[0m \u001b[0margument\u001b[0m \u001b[0maccepted\u001b[0m \u001b[0mby\u001b[0m \u001b[0mpyHalo\u001b[0m \u001b[0mdoes\u001b[0m\u001b[0;34m.\u001b[0m\u001b[0;34m\u001b[0m\u001b[0;34m\u001b[0m\u001b[0m\n\u001b[1;32m      6\u001b[0m \"\"\"\n\u001b[0;32m----> 7\u001b[0;31m \u001b[0;32mfrom\u001b[0m \u001b[0mpyHalo\u001b[0m\u001b[0;34m.\u001b[0m\u001b[0mpyhalo\u001b[0m \u001b[0;32mimport\u001b[0m \u001b[0mpyHalo\u001b[0m\u001b[0;34m\u001b[0m\u001b[0;34m\u001b[0m\u001b[0m\n\u001b[0m\u001b[1;32m      8\u001b[0m \u001b[0;32mfrom\u001b[0m \u001b[0mpyHalo\u001b[0m\u001b[0;34m.\u001b[0m\u001b[0mCosmology\u001b[0m\u001b[0;34m.\u001b[0m\u001b[0mgeometry\u001b[0m \u001b[0;32mimport\u001b[0m \u001b[0mGeometry\u001b[0m\u001b[0;34m\u001b[0m\u001b[0;34m\u001b[0m\u001b[0m\n\u001b[1;32m      9\u001b[0m \u001b[0;32mfrom\u001b[0m \u001b[0mpyHalo\u001b[0m\u001b[0;34m.\u001b[0m\u001b[0mRendering\u001b[0m\u001b[0;34m.\u001b[0m\u001b[0mMassFunctions\u001b[0m\u001b[0;34m.\u001b[0m\u001b[0mmass_function_base\u001b[0m \u001b[0;32mimport\u001b[0m \u001b[0mCDMPowerLaw\u001b[0m\u001b[0;34m\u001b[0m\u001b[0;34m\u001b[0m\u001b[0m\n",
      "\u001b[0;32m/usr/local/Caskroom/miniconda/base/envs/astroconda/lib/python3.7/site-packages/pyHalo/pyhalo.py\u001b[0m in \u001b[0;36m<module>\u001b[0;34m\u001b[0m\n\u001b[0;32m----> 1\u001b[0;31m \u001b[0;32mfrom\u001b[0m \u001b[0mpyHalo\u001b[0m\u001b[0;34m.\u001b[0m\u001b[0msingle_realization\u001b[0m \u001b[0;32mimport\u001b[0m \u001b[0mRealization\u001b[0m\u001b[0;34m\u001b[0m\u001b[0;34m\u001b[0m\u001b[0m\n\u001b[0m\u001b[1;32m      2\u001b[0m \u001b[0;32mfrom\u001b[0m \u001b[0mpyHalo\u001b[0m\u001b[0;34m.\u001b[0m\u001b[0mCosmology\u001b[0m\u001b[0;34m.\u001b[0m\u001b[0mcosmology\u001b[0m \u001b[0;32mimport\u001b[0m \u001b[0mCosmology\u001b[0m\u001b[0;34m\u001b[0m\u001b[0;34m\u001b[0m\u001b[0m\n\u001b[1;32m      3\u001b[0m \u001b[0;32mfrom\u001b[0m \u001b[0mpyHalo\u001b[0m\u001b[0;34m.\u001b[0m\u001b[0mRendering\u001b[0m\u001b[0;34m.\u001b[0m\u001b[0mhalo_population\u001b[0m \u001b[0;32mimport\u001b[0m \u001b[0mHaloPopulation\u001b[0m\u001b[0;34m\u001b[0m\u001b[0;34m\u001b[0m\u001b[0m\n\u001b[1;32m      4\u001b[0m \u001b[0;32mfrom\u001b[0m \u001b[0mpyHalo\u001b[0m\u001b[0;34m.\u001b[0m\u001b[0mutilities\u001b[0m \u001b[0;32mimport\u001b[0m \u001b[0mgenerate_lens_plane_redshifts\u001b[0m\u001b[0;34m\u001b[0m\u001b[0;34m\u001b[0m\u001b[0m\n\u001b[1;32m      5\u001b[0m \u001b[0;32mfrom\u001b[0m \u001b[0mpyHalo\u001b[0m\u001b[0;34m.\u001b[0m\u001b[0mHalos\u001b[0m\u001b[0;34m.\u001b[0m\u001b[0mlens_cosmo\u001b[0m \u001b[0;32mimport\u001b[0m \u001b[0mLensCosmo\u001b[0m\u001b[0;34m\u001b[0m\u001b[0;34m\u001b[0m\u001b[0m\n",
      "\u001b[0;32m/usr/local/Caskroom/miniconda/base/envs/astroconda/lib/python3.7/site-packages/pyHalo/single_realization.py\u001b[0m in \u001b[0;36m<module>\u001b[0;34m\u001b[0m\n\u001b[1;32m      4\u001b[0m \u001b[0;32mfrom\u001b[0m \u001b[0mpyHalo\u001b[0m\u001b[0;34m.\u001b[0m\u001b[0mHalos\u001b[0m\u001b[0;34m.\u001b[0m\u001b[0mHaloModels\u001b[0m\u001b[0;34m.\u001b[0m\u001b[0mNFW\u001b[0m \u001b[0;32mimport\u001b[0m \u001b[0mNFWSubhhalo\u001b[0m\u001b[0;34m,\u001b[0m \u001b[0mNFWFieldHalo\u001b[0m\u001b[0;34m\u001b[0m\u001b[0;34m\u001b[0m\u001b[0m\n\u001b[1;32m      5\u001b[0m \u001b[0;32mfrom\u001b[0m \u001b[0mpyHalo\u001b[0m\u001b[0;34m.\u001b[0m\u001b[0mHalos\u001b[0m\u001b[0;34m.\u001b[0m\u001b[0mHaloModels\u001b[0m\u001b[0;34m.\u001b[0m\u001b[0mTNFW\u001b[0m \u001b[0;32mimport\u001b[0m \u001b[0mTNFWFieldHalo\u001b[0m\u001b[0;34m,\u001b[0m \u001b[0mTNFWSubhalo\u001b[0m\u001b[0;34m\u001b[0m\u001b[0;34m\u001b[0m\u001b[0m\n\u001b[0;32m----> 6\u001b[0;31m \u001b[0;32mfrom\u001b[0m \u001b[0mpyHalo\u001b[0m\u001b[0;34m.\u001b[0m\u001b[0mHalos\u001b[0m\u001b[0;34m.\u001b[0m\u001b[0mHaloModels\u001b[0m\u001b[0;34m.\u001b[0m\u001b[0mgeneralized_nfw\u001b[0m \u001b[0;32mimport\u001b[0m \u001b[0mGeneralNFWFieldHalo\u001b[0m\u001b[0;34m,\u001b[0m \u001b[0mGeneralNFWSubhalo\u001b[0m\u001b[0;34m\u001b[0m\u001b[0;34m\u001b[0m\u001b[0m\n\u001b[0m\u001b[1;32m      7\u001b[0m \u001b[0;32mfrom\u001b[0m \u001b[0mpyHalo\u001b[0m\u001b[0;34m.\u001b[0m\u001b[0mHalos\u001b[0m\u001b[0;34m.\u001b[0m\u001b[0mHaloModels\u001b[0m\u001b[0;34m.\u001b[0m\u001b[0mpowerlaw\u001b[0m \u001b[0;32mimport\u001b[0m \u001b[0mPowerLawFieldHalo\u001b[0m\u001b[0;34m,\u001b[0m \u001b[0mPowerLawSubhalo\u001b[0m\u001b[0;34m\u001b[0m\u001b[0;34m\u001b[0m\u001b[0m\n\u001b[1;32m      8\u001b[0m \u001b[0;32mfrom\u001b[0m \u001b[0mpyHalo\u001b[0m\u001b[0;34m.\u001b[0m\u001b[0mHalos\u001b[0m\u001b[0;34m.\u001b[0m\u001b[0mHaloModels\u001b[0m\u001b[0;34m.\u001b[0m\u001b[0mPsuedoJaffe\u001b[0m \u001b[0;32mimport\u001b[0m \u001b[0mPJaffeSubhalo\u001b[0m\u001b[0;34m\u001b[0m\u001b[0;34m\u001b[0m\u001b[0m\n",
      "\u001b[0;32m/usr/local/Caskroom/miniconda/base/envs/astroconda/lib/python3.7/site-packages/pyHalo/Halos/HaloModels/generalized_nfw.py\u001b[0m in \u001b[0;36m<module>\u001b[0;34m\u001b[0m\n\u001b[1;32m      1\u001b[0m \u001b[0;32mfrom\u001b[0m \u001b[0mpyHalo\u001b[0m\u001b[0;34m.\u001b[0m\u001b[0mHalos\u001b[0m\u001b[0;34m.\u001b[0m\u001b[0mhalo_base\u001b[0m \u001b[0;32mimport\u001b[0m \u001b[0mHalo\u001b[0m\u001b[0;34m\u001b[0m\u001b[0;34m\u001b[0m\u001b[0m\n\u001b[0;32m----> 2\u001b[0;31m \u001b[0;32mfrom\u001b[0m \u001b[0mlenstronomy\u001b[0m\u001b[0;34m.\u001b[0m\u001b[0mLensModel\u001b[0m\u001b[0;34m.\u001b[0m\u001b[0mProfiles\u001b[0m\u001b[0;34m.\u001b[0m\u001b[0mgeneral_nfw\u001b[0m \u001b[0;32mimport\u001b[0m \u001b[0mGNFW\u001b[0m\u001b[0;34m\u001b[0m\u001b[0;34m\u001b[0m\u001b[0m\n\u001b[0m\u001b[1;32m      3\u001b[0m \u001b[0;32mimport\u001b[0m \u001b[0mnumpy\u001b[0m \u001b[0;32mas\u001b[0m \u001b[0mnp\u001b[0m\u001b[0;34m\u001b[0m\u001b[0;34m\u001b[0m\u001b[0m\n\u001b[1;32m      4\u001b[0m \u001b[0;34m\u001b[0m\u001b[0m\n\u001b[1;32m      5\u001b[0m \u001b[0;32mclass\u001b[0m \u001b[0mGeneralNFWSubhalo\u001b[0m\u001b[0;34m(\u001b[0m\u001b[0mHalo\u001b[0m\u001b[0;34m)\u001b[0m\u001b[0;34m:\u001b[0m\u001b[0;34m\u001b[0m\u001b[0;34m\u001b[0m\u001b[0m\n",
      "\u001b[0;31mModuleNotFoundError\u001b[0m: No module named 'lenstronomy.LensModel.Profiles.general_nfw'"
     ]
    }
   ],
   "source": [
    "from pyHalo.preset_models import WDM, CDM\n",
    "\n",
    "zlens, zsource = 0.5, 2.5\n",
    "# for visualization purposes we will turn off scatter in the concentration-mass relation; default is 0.2 dex\n",
    "kwargs_concentration_model_subhalos = {'scatter': False}\n",
    "kwargs_concentration_model_fieldhalos = {'scatter': False}\n",
    "realizationCDM = CDM(zlens, zsource, cone_opening_angle_arcsec=12, geometry_type='CYLINDER', \n",
    "                     sigma_sub=0.1, log_mlow=5.0)\n",
    "realizationWDM = WDM(zlens, zsource, log_mc=8., cone_opening_angle_arcsec=12, log_mlow=5.0,\n",
    "                     geometry_type='CYLINDER', sigma_sub=0.1,\n",
    "                    \n",
    "                    )\n",
    "print('realization contains '+str(len(realizationWDM.halos))+' halos.')\n",
    "wdm_halo_masses = [halo.mass for halo in realizationWDM.halos]\n",
    "N, m = np.histogram(wdm_halo_masses, bins=np.logspace(5, 10, 15))\n",
    "wdm_halo_masses = [halo.mass for halo in realizationCDM.halos]\n",
    "Ncdm, mcdm = np.histogram(wdm_halo_masses, bins=np.logspace(5, 10, 15))\n",
    "\n",
    "plt.loglog(m[0:-1], N, color='r',label = 'WDM')\n",
    "plt.loglog(mcdm[0:-1], Ncdm, color='k',label = 'CDM')\n",
    "plt.legend()\n",
    "plt.xlabel('Halo mass '+r'$M_{\\odot}$', fontsize=16)\n",
    "plt.ylabel('n(M)', fontsize=16)"
   ]
  },
  {
   "cell_type": "code",
   "execution_count": 6,
   "metadata": {},
   "outputs": [
    {
     "ename": "NameError",
     "evalue": "name 'WDM' is not defined",
     "output_type": "error",
     "traceback": [
      "\u001b[0;31m---------------------------------------------------------------------------\u001b[0m",
      "\u001b[0;31mNameError\u001b[0m                                 Traceback (most recent call last)",
      "\u001b[0;32m/var/folders/2r/gwrt1nq934zd6xky7hbfb8_80000gn/T/ipykernel_15995/1160427137.py\u001b[0m in \u001b[0;36m<module>\u001b[0;34m\u001b[0m\n\u001b[0;32m----> 1\u001b[0;31m wdm_plot = WDM(zlens, zsource, log_mc=8.5, cone_opening_angle_arcsec=8, \n\u001b[0m\u001b[1;32m      2\u001b[0m                      geometry_type='CYLINDER', sigma_sub=0.05)\n\u001b[1;32m      3\u001b[0m \u001b[0;34m\u001b[0m\u001b[0m\n\u001b[1;32m      4\u001b[0m \u001b[0mfig\u001b[0m \u001b[0;34m=\u001b[0m \u001b[0mplt\u001b[0m\u001b[0;34m.\u001b[0m\u001b[0mfigure\u001b[0m\u001b[0;34m(\u001b[0m\u001b[0;36m1\u001b[0m\u001b[0;34m)\u001b[0m\u001b[0;34m\u001b[0m\u001b[0;34m\u001b[0m\u001b[0m\n\u001b[1;32m      5\u001b[0m \u001b[0mfig\u001b[0m\u001b[0;34m.\u001b[0m\u001b[0mset_size_inches\u001b[0m\u001b[0;34m(\u001b[0m\u001b[0;36m16\u001b[0m\u001b[0;34m,\u001b[0m \u001b[0;36m12\u001b[0m\u001b[0;34m)\u001b[0m\u001b[0;34m\u001b[0m\u001b[0;34m\u001b[0m\u001b[0m\n",
      "\u001b[0;31mNameError\u001b[0m: name 'WDM' is not defined"
     ]
    }
   ],
   "source": [
    "wdm_plot = WDM(zlens, zsource, log_mc=8.5, cone_opening_angle_arcsec=8, \n",
    "                     geometry_type='CYLINDER', sigma_sub=0.05)\n",
    "\n",
    "fig = plt.figure(1)\n",
    "fig.set_size_inches(16, 12)\n",
    "ax = plt.subplot(111, projection='3d')\n",
    "wdm_plot.plot(ax)"
   ]
  },
  {
   "cell_type": "code",
   "execution_count": 7,
   "metadata": {},
   "outputs": [
    {
     "ename": "NameError",
     "evalue": "name 'CDM' is not defined",
     "output_type": "error",
     "traceback": [
      "\u001b[0;31m---------------------------------------------------------------------------\u001b[0m",
      "\u001b[0;31mNameError\u001b[0m                                 Traceback (most recent call last)",
      "\u001b[0;32m/var/folders/2r/gwrt1nq934zd6xky7hbfb8_80000gn/T/ipykernel_15995/1096654898.py\u001b[0m in \u001b[0;36m<module>\u001b[0;34m\u001b[0m\n\u001b[0;32m----> 1\u001b[0;31m cdm_plot = CDM(zlens, zsource, cone_opening_angle_arcsec=8, \n\u001b[0m\u001b[1;32m      2\u001b[0m                      geometry_type='CYLINDER', sigma_sub=0.05)\n\u001b[1;32m      3\u001b[0m \u001b[0;34m\u001b[0m\u001b[0m\n\u001b[1;32m      4\u001b[0m \u001b[0mfig\u001b[0m \u001b[0;34m=\u001b[0m \u001b[0mplt\u001b[0m\u001b[0;34m.\u001b[0m\u001b[0mfigure\u001b[0m\u001b[0;34m(\u001b[0m\u001b[0;36m1\u001b[0m\u001b[0;34m)\u001b[0m\u001b[0;34m\u001b[0m\u001b[0;34m\u001b[0m\u001b[0m\n\u001b[1;32m      5\u001b[0m \u001b[0mfig\u001b[0m\u001b[0;34m.\u001b[0m\u001b[0mset_size_inches\u001b[0m\u001b[0;34m(\u001b[0m\u001b[0;36m16\u001b[0m\u001b[0;34m,\u001b[0m \u001b[0;36m12\u001b[0m\u001b[0;34m)\u001b[0m\u001b[0;34m\u001b[0m\u001b[0;34m\u001b[0m\u001b[0m\n",
      "\u001b[0;31mNameError\u001b[0m: name 'CDM' is not defined"
     ]
    }
   ],
   "source": [
    "cdm_plot = CDM(zlens, zsource, cone_opening_angle_arcsec=8, \n",
    "                     geometry_type='CYLINDER', sigma_sub=0.05)\n",
    "\n",
    "fig = plt.figure(1)\n",
    "fig.set_size_inches(16, 12)\n",
    "ax = plt.subplot(111, projection='3d')\n",
    "cdm_plot.plot(ax)"
   ]
  },
  {
   "cell_type": "code",
   "execution_count": null,
   "metadata": {},
   "outputs": [],
   "source": []
  },
  {
   "cell_type": "code",
   "execution_count": null,
   "metadata": {},
   "outputs": [],
   "source": []
  },
  {
   "cell_type": "code",
   "execution_count": null,
   "metadata": {},
   "outputs": [],
   "source": []
  }
 ],
 "metadata": {
  "kernelspec": {
   "display_name": "Python 3 (ipykernel)",
   "language": "python",
   "name": "python3"
  },
  "language_info": {
   "codemirror_mode": {
    "name": "ipython",
    "version": 3
   },
   "file_extension": ".py",
   "mimetype": "text/x-python",
   "name": "python",
   "nbconvert_exporter": "python",
   "pygments_lexer": "ipython3",
   "version": "3.7.11"
  }
 },
 "nbformat": 4,
 "nbformat_minor": 2
}
