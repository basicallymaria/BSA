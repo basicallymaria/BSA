{
 "cells": [
  {
   "cell_type": "markdown",
   "metadata": {},
   "source": [
    "# Exploring different kinds of dark matter"
   ]
  },
  {
   "cell_type": "code",
   "execution_count": 1,
   "metadata": {},
   "outputs": [
    {
     "ename": "ModuleNotFoundError",
     "evalue": "No module named 'lenstronomy.LensModel.Profiles.pseudo_double_powerlaw'",
     "output_type": "error",
     "traceback": [
      "\u001b[0;31m---------------------------------------------------------------------------\u001b[0m",
      "\u001b[0;31mModuleNotFoundError\u001b[0m                       Traceback (most recent call last)",
      "\u001b[0;32m/var/folders/2r/gwrt1nq934zd6xky7hbfb8_80000gn/T/ipykernel_44511/4254809609.py\u001b[0m in \u001b[0;36m<module>\u001b[0;34m\u001b[0m\n\u001b[1;32m      3\u001b[0m \u001b[0;32mimport\u001b[0m \u001b[0mmatplotlib\u001b[0m\u001b[0;34m.\u001b[0m\u001b[0mpyplot\u001b[0m \u001b[0;32mas\u001b[0m \u001b[0mplt\u001b[0m\u001b[0;34m\u001b[0m\u001b[0;34m\u001b[0m\u001b[0m\n\u001b[1;32m      4\u001b[0m \u001b[0;32mimport\u001b[0m \u001b[0mlenstronomy\u001b[0m\u001b[0;34m\u001b[0m\u001b[0;34m\u001b[0m\u001b[0m\n\u001b[0;32m----> 5\u001b[0;31m \u001b[0;32mfrom\u001b[0m \u001b[0mpyHalo\u001b[0m\u001b[0;34m.\u001b[0m\u001b[0mpreset_models\u001b[0m \u001b[0;32mimport\u001b[0m \u001b[0mWDM\u001b[0m\u001b[0;34m,\u001b[0m \u001b[0mCDM\u001b[0m\u001b[0;34m\u001b[0m\u001b[0;34m\u001b[0m\u001b[0m\n\u001b[0m",
      "\u001b[0;32m/usr/local/Caskroom/miniconda/base/envs/testboi/lib/python3.7/site-packages/pyHalo/preset_models.py\u001b[0m in \u001b[0;36m<module>\u001b[0;34m\u001b[0m\n\u001b[1;32m      5\u001b[0m \u001b[0mpresented\u001b[0m \u001b[0mhere\u001b[0m \u001b[0mshow\u001b[0m \u001b[0mwhat\u001b[0m \u001b[0meach\u001b[0m \u001b[0mkeyword\u001b[0m \u001b[0margument\u001b[0m \u001b[0maccepted\u001b[0m \u001b[0mby\u001b[0m \u001b[0mpyHalo\u001b[0m \u001b[0mdoes\u001b[0m\u001b[0;34m.\u001b[0m\u001b[0;34m\u001b[0m\u001b[0;34m\u001b[0m\u001b[0m\n\u001b[1;32m      6\u001b[0m \"\"\"\n\u001b[0;32m----> 7\u001b[0;31m \u001b[0;32mfrom\u001b[0m \u001b[0mpyHalo\u001b[0m\u001b[0;34m.\u001b[0m\u001b[0mPresetModels\u001b[0m\u001b[0;34m.\u001b[0m\u001b[0mcdm\u001b[0m \u001b[0;32mimport\u001b[0m \u001b[0mCDM\u001b[0m\u001b[0;34m\u001b[0m\u001b[0;34m\u001b[0m\u001b[0m\n\u001b[0m\u001b[1;32m      8\u001b[0m \u001b[0;32mfrom\u001b[0m \u001b[0mpyHalo\u001b[0m\u001b[0;34m.\u001b[0m\u001b[0mPresetModels\u001b[0m\u001b[0;34m.\u001b[0m\u001b[0mexternal\u001b[0m \u001b[0;32mimport\u001b[0m \u001b[0mCDMFromEmulator\u001b[0m\u001b[0;34m,\u001b[0m \u001b[0mDMFromGalacticus\u001b[0m\u001b[0;34m\u001b[0m\u001b[0;34m\u001b[0m\u001b[0m\n\u001b[1;32m      9\u001b[0m \u001b[0;32mfrom\u001b[0m \u001b[0mpyHalo\u001b[0m\u001b[0;34m.\u001b[0m\u001b[0mPresetModels\u001b[0m\u001b[0;34m.\u001b[0m\u001b[0msidm\u001b[0m \u001b[0;32mimport\u001b[0m \u001b[0mSIDM_core_collapse\u001b[0m\u001b[0;34m\u001b[0m\u001b[0;34m\u001b[0m\u001b[0m\n",
      "\u001b[0;32m/usr/local/Caskroom/miniconda/base/envs/testboi/lib/python3.7/site-packages/pyHalo/PresetModels/cdm.py\u001b[0m in \u001b[0;36m<module>\u001b[0;34m\u001b[0m\n\u001b[1;32m      6\u001b[0m \u001b[0;32mfrom\u001b[0m \u001b[0mpyHalo\u001b[0m\u001b[0;34m.\u001b[0m\u001b[0mRendering\u001b[0m\u001b[0;34m.\u001b[0m\u001b[0mSpatialDistributions\u001b[0m\u001b[0;34m.\u001b[0m\u001b[0muniform\u001b[0m \u001b[0;32mimport\u001b[0m \u001b[0mLensConeUniform\u001b[0m\u001b[0;34m\u001b[0m\u001b[0;34m\u001b[0m\u001b[0m\n\u001b[1;32m      7\u001b[0m \u001b[0;32mfrom\u001b[0m \u001b[0mpyHalo\u001b[0m\u001b[0;34m.\u001b[0m\u001b[0mconcentration_models\u001b[0m \u001b[0;32mimport\u001b[0m \u001b[0mpreset_concentration_models\u001b[0m\u001b[0;34m\u001b[0m\u001b[0;34m\u001b[0m\u001b[0m\n\u001b[0;32m----> 8\u001b[0;31m \u001b[0;32mfrom\u001b[0m \u001b[0mpyHalo\u001b[0m\u001b[0;34m.\u001b[0m\u001b[0mpyhalo\u001b[0m \u001b[0;32mimport\u001b[0m \u001b[0mpyHalo\u001b[0m\u001b[0;34m\u001b[0m\u001b[0;34m\u001b[0m\u001b[0m\n\u001b[0m\u001b[1;32m      9\u001b[0m \u001b[0;32mfrom\u001b[0m \u001b[0mpyHalo\u001b[0m\u001b[0;34m.\u001b[0m\u001b[0mtruncation_models\u001b[0m \u001b[0;32mimport\u001b[0m \u001b[0mtruncation_models\u001b[0m\u001b[0;34m\u001b[0m\u001b[0;34m\u001b[0m\u001b[0m\n\u001b[1;32m     10\u001b[0m \u001b[0;34m\u001b[0m\u001b[0m\n",
      "\u001b[0;32m/usr/local/Caskroom/miniconda/base/envs/testboi/lib/python3.7/site-packages/pyHalo/pyhalo.py\u001b[0m in \u001b[0;36m<module>\u001b[0;34m\u001b[0m\n\u001b[0;32m----> 1\u001b[0;31m \u001b[0;32mfrom\u001b[0m \u001b[0mpyHalo\u001b[0m\u001b[0;34m.\u001b[0m\u001b[0msingle_realization\u001b[0m \u001b[0;32mimport\u001b[0m \u001b[0mRealization\u001b[0m\u001b[0;34m\u001b[0m\u001b[0;34m\u001b[0m\u001b[0m\n\u001b[0m\u001b[1;32m      2\u001b[0m \u001b[0;32mfrom\u001b[0m \u001b[0mpyHalo\u001b[0m\u001b[0;34m.\u001b[0m\u001b[0mCosmology\u001b[0m\u001b[0;34m.\u001b[0m\u001b[0mcosmology\u001b[0m \u001b[0;32mimport\u001b[0m \u001b[0mCosmology\u001b[0m\u001b[0;34m\u001b[0m\u001b[0;34m\u001b[0m\u001b[0m\n\u001b[1;32m      3\u001b[0m \u001b[0;32mfrom\u001b[0m \u001b[0mpyHalo\u001b[0m\u001b[0;34m.\u001b[0m\u001b[0mRendering\u001b[0m\u001b[0;34m.\u001b[0m\u001b[0mhalo_population\u001b[0m \u001b[0;32mimport\u001b[0m \u001b[0mHaloPopulation\u001b[0m\u001b[0;34m\u001b[0m\u001b[0;34m\u001b[0m\u001b[0m\n\u001b[1;32m      4\u001b[0m \u001b[0;32mfrom\u001b[0m \u001b[0mpyHalo\u001b[0m\u001b[0;34m.\u001b[0m\u001b[0mutilities\u001b[0m \u001b[0;32mimport\u001b[0m \u001b[0mgenerate_lens_plane_redshifts\u001b[0m\u001b[0;34m\u001b[0m\u001b[0;34m\u001b[0m\u001b[0m\n\u001b[1;32m      5\u001b[0m \u001b[0;32mfrom\u001b[0m \u001b[0mpyHalo\u001b[0m\u001b[0;34m.\u001b[0m\u001b[0mHalos\u001b[0m\u001b[0;34m.\u001b[0m\u001b[0mlens_cosmo\u001b[0m \u001b[0;32mimport\u001b[0m \u001b[0mLensCosmo\u001b[0m\u001b[0;34m\u001b[0m\u001b[0;34m\u001b[0m\u001b[0m\n",
      "\u001b[0;32m/usr/local/Caskroom/miniconda/base/envs/testboi/lib/python3.7/site-packages/pyHalo/single_realization.py\u001b[0m in \u001b[0;36m<module>\u001b[0;34m\u001b[0m\n\u001b[1;32m      4\u001b[0m \u001b[0;32mfrom\u001b[0m \u001b[0mpyHalo\u001b[0m\u001b[0;34m.\u001b[0m\u001b[0mHalos\u001b[0m\u001b[0;34m.\u001b[0m\u001b[0mHaloModels\u001b[0m\u001b[0;34m.\u001b[0m\u001b[0mNFW\u001b[0m \u001b[0;32mimport\u001b[0m \u001b[0mNFWSubhhalo\u001b[0m\u001b[0;34m,\u001b[0m \u001b[0mNFWFieldHalo\u001b[0m\u001b[0;34m\u001b[0m\u001b[0;34m\u001b[0m\u001b[0m\n\u001b[1;32m      5\u001b[0m \u001b[0;32mfrom\u001b[0m \u001b[0mpyHalo\u001b[0m\u001b[0;34m.\u001b[0m\u001b[0mHalos\u001b[0m\u001b[0;34m.\u001b[0m\u001b[0mHaloModels\u001b[0m\u001b[0;34m.\u001b[0m\u001b[0mTNFW\u001b[0m \u001b[0;32mimport\u001b[0m \u001b[0mTNFWFieldHalo\u001b[0m\u001b[0;34m,\u001b[0m \u001b[0mTNFWSubhalo\u001b[0m\u001b[0;34m\u001b[0m\u001b[0;34m\u001b[0m\u001b[0m\n\u001b[0;32m----> 6\u001b[0;31m \u001b[0;32mfrom\u001b[0m \u001b[0mpyHalo\u001b[0m\u001b[0;34m.\u001b[0m\u001b[0mHalos\u001b[0m\u001b[0;34m.\u001b[0m\u001b[0mHaloModels\u001b[0m\u001b[0;34m.\u001b[0m\u001b[0mgeneralized_nfw\u001b[0m \u001b[0;32mimport\u001b[0m \u001b[0mGeneralNFWFieldHalo\u001b[0m\u001b[0;34m,\u001b[0m \u001b[0mGeneralNFWSubhalo\u001b[0m\u001b[0;34m\u001b[0m\u001b[0;34m\u001b[0m\u001b[0m\n\u001b[0m\u001b[1;32m      7\u001b[0m \u001b[0;32mfrom\u001b[0m \u001b[0mpyHalo\u001b[0m\u001b[0;34m.\u001b[0m\u001b[0mHalos\u001b[0m\u001b[0;34m.\u001b[0m\u001b[0mHaloModels\u001b[0m\u001b[0;34m.\u001b[0m\u001b[0mpowerlaw\u001b[0m \u001b[0;32mimport\u001b[0m \u001b[0mPowerLawFieldHalo\u001b[0m\u001b[0;34m,\u001b[0m \u001b[0mPowerLawSubhalo\u001b[0m\u001b[0;34m\u001b[0m\u001b[0;34m\u001b[0m\u001b[0m\n\u001b[1;32m      8\u001b[0m \u001b[0;32mfrom\u001b[0m \u001b[0mpyHalo\u001b[0m\u001b[0;34m.\u001b[0m\u001b[0mHalos\u001b[0m\u001b[0;34m.\u001b[0m\u001b[0mHaloModels\u001b[0m\u001b[0;34m.\u001b[0m\u001b[0mPsuedoJaffe\u001b[0m \u001b[0;32mimport\u001b[0m \u001b[0mPJaffeSubhalo\u001b[0m\u001b[0;34m\u001b[0m\u001b[0;34m\u001b[0m\u001b[0m\n",
      "\u001b[0;32m/usr/local/Caskroom/miniconda/base/envs/testboi/lib/python3.7/site-packages/pyHalo/Halos/HaloModels/generalized_nfw.py\u001b[0m in \u001b[0;36m<module>\u001b[0;34m\u001b[0m\n\u001b[1;32m      1\u001b[0m \u001b[0;32mfrom\u001b[0m \u001b[0mpyHalo\u001b[0m\u001b[0;34m.\u001b[0m\u001b[0mHalos\u001b[0m\u001b[0;34m.\u001b[0m\u001b[0mhalo_base\u001b[0m \u001b[0;32mimport\u001b[0m \u001b[0mHalo\u001b[0m\u001b[0;34m\u001b[0m\u001b[0;34m\u001b[0m\u001b[0m\n\u001b[0;32m----> 2\u001b[0;31m \u001b[0;32mfrom\u001b[0m \u001b[0mlenstronomy\u001b[0m\u001b[0;34m.\u001b[0m\u001b[0mLensModel\u001b[0m\u001b[0;34m.\u001b[0m\u001b[0mProfiles\u001b[0m\u001b[0;34m.\u001b[0m\u001b[0mpseudo_double_powerlaw\u001b[0m \u001b[0;32mimport\u001b[0m \u001b[0mPseudoDoublePowerlaw\u001b[0m\u001b[0;34m\u001b[0m\u001b[0;34m\u001b[0m\u001b[0m\n\u001b[0m\u001b[1;32m      3\u001b[0m \u001b[0;32mimport\u001b[0m \u001b[0mnumpy\u001b[0m \u001b[0;32mas\u001b[0m \u001b[0mnp\u001b[0m\u001b[0;34m\u001b[0m\u001b[0;34m\u001b[0m\u001b[0m\n\u001b[1;32m      4\u001b[0m \u001b[0;34m\u001b[0m\u001b[0m\n\u001b[1;32m      5\u001b[0m \u001b[0;32mclass\u001b[0m \u001b[0mGeneralNFWSubhalo\u001b[0m\u001b[0;34m(\u001b[0m\u001b[0mHalo\u001b[0m\u001b[0;34m)\u001b[0m\u001b[0;34m:\u001b[0m\u001b[0;34m\u001b[0m\u001b[0;34m\u001b[0m\u001b[0m\n",
      "\u001b[0;31mModuleNotFoundError\u001b[0m: No module named 'lenstronomy.LensModel.Profiles.pseudo_double_powerlaw'"
     ]
    }
   ],
   "source": [
    "import numpy as np\n",
    "from copy import deepcopy\n",
    "import matplotlib.pyplot as plt\n",
    "import lenstronomy\n",
    "from pyHalo.preset_models import WDM, CDM\n"
   ]
  },
  {
   "cell_type": "code",
   "execution_count": null,
   "metadata": {},
   "outputs": [],
   "source": [
    "##some parameters to set for the whole file:\n",
    "kwargs_concentration_model_subhalos = {'scatter': False}\n",
    "kwargs_concentration_model_fieldhalos = {'scatter': False}\n"
   ]
  },
  {
   "cell_type": "markdown",
   "metadata": {},
   "source": [
    "## these parameters adjust where the halos will be generated \n",
    "### Note that we are simulating a universe with one big galaxy (like the Milky Way) as well as many smaller galaxies. The distance between us and the big galaxy is 'zlens' and the full distance we are simulating is controlled by 'zsource'."
   ]
  },
  {
   "cell_type": "code",
   "execution_count": null,
   "metadata": {},
   "outputs": [],
   "source": [
    "\n",
    "###after you've done everything else in the notebook, you can see what happens when you change these variables:\n",
    "cone_opening_angle = 8\n",
    "log_mlow_var = 5\n",
    "zsource_variable = 2\n"
   ]
  },
  {
   "cell_type": "markdown",
   "metadata": {},
   "source": [
    "## Cold Dark Matter (CDM)\n",
    "Cold dark matter theory predicts that the number of dark matter halos increases, so that you always have more low-mass halos than higher mass halos\n"
   ]
  },
  {
   "cell_type": "code",
   "execution_count": null,
   "metadata": {},
   "outputs": [],
   "source": [
    "## don't adjust anything in this cell\n",
    "###this cell generates a realization of many cold dark matter halos in the universe and plots them \n",
    "\n",
    "realizationCDM = CDM(0.5, zsource_variable, cone_opening_angle_arcsec=cone_opening_angle, geometry_type='CYLINDER', \n",
    "                     sigma_sub=0, log_mlow=log_mlow_var)\n",
    "\n",
    "cdm_plot = CDM(0.5, zsource, cone_opening_angle_arcsec=cone_opening_angle, \n",
    "                     geometry_type='CYLINDER', sigma_sub=0.0)\n",
    "\n",
    "fig = plt.figure(1)\n",
    "fig.set_size_inches(16, 12)\n",
    "ax = plt.subplot(111, projection='3d')\n",
    "cdm_plot.plot(ax)"
   ]
  },
  {
   "cell_type": "markdown",
   "metadata": {},
   "source": [
    "## Q: Describe what you see."
   ]
  },
  {
   "cell_type": "markdown",
   "metadata": {},
   "source": [
    "## Q: Are there more small halos or big halos? What would this look like in a histogram approximately?"
   ]
  },
  {
   "cell_type": "markdown",
   "metadata": {},
   "source": [
    "## Warm dark matter (WDM)\n",
    "1) Try adjusting the 'log-mc' parameter (between 1-10). What happens to the red line in the plot below when you make this number bigger? What happens when you make it smaller?\n"
   ]
  },
  {
   "cell_type": "code",
   "execution_count": null,
   "metadata": {},
   "outputs": [],
   "source": [
    "##parameters you can change (after running through one time). Copy and paste this with new variables in your own notebook.\n",
    "\n",
    "log_mc_variable = 8"
   ]
  },
  {
   "cell_type": "code",
   "execution_count": null,
   "metadata": {},
   "outputs": [],
   "source": [
    "\n",
    "##don't change anythiing in this cell\n",
    "\n",
    "\n",
    "realizationWDM = WDM(0.5, zsource_variable, log_mc=log_mc_variable, cone_opening_angle_arcsec=cone_opening_angle, log_mlow=log_mlow_var,\n",
    "                     geometry_type='CYLINDER', sigma_sub=0)\n",
    "\n",
    "wdm_plot = WDM(0.5, zsource_variable, log_mc=log_mc_variable, cone_opening_angle_arcsec=cone_opening_angle, \n",
    "                     geometry_type='CYLINDER', sigma_sub=0.0)\n",
    "\n",
    "fig = plt.figure(1)\n",
    "fig.set_size_inches(16, 12)\n",
    "ax = plt.subplot(111, projection='3d')\n",
    "realizationWDM.plot(ax)\n"
   ]
  },
  {
   "cell_type": "markdown",
   "metadata": {},
   "source": [
    "## Q: Describe what you see."
   ]
  },
  {
   "cell_type": "markdown",
   "metadata": {},
   "source": [
    "## Q: How do these dark matter halos look different from the cold dark matter halos? "
   ]
  },
  {
   "cell_type": "code",
   "execution_count": null,
   "metadata": {},
   "outputs": [],
   "source": [
    "##this cell will make a histogram to compare the number as a function of mass\n",
    "\n",
    "#print('realization contains '+str(len(realizationWDM.halos))+' halos.')\n",
    "wdm_halo_masses = [halo.mass for halo in realizationWDM.halos]\n",
    "N, m = np.histogram(wdm_halo_masses, bins=np.logspace(5, 10, 15))\n",
    "\n",
    "cdm_halo_masses = [halo.mass for halo in realizationCDM.halos]\n",
    "Ncdm, mcdm = np.histogram(cdm_halo_masses, bins=np.logspace(5, 10, 15))\n",
    "\n",
    "\n"
   ]
  },
  {
   "cell_type": "code",
   "execution_count": null,
   "metadata": {},
   "outputs": [],
   "source": [
    "###here we are plotting the Warm Dark Matter halos and the Cold Dark Matter halos in a histogram together so we can see them\n",
    "plt.loglog(m[0:-1], N, color='r',label = 'WDM')\n",
    "plt.loglog(mcdm[0:-1], Ncdm, color='k',label = 'CDM')\n",
    "plt.legend()\n",
    "plt.xlabel('Halo mass (units of solar masses)', fontsize=16)\n",
    "plt.ylabel('number of halos as a function of Mass', fontsize=16)"
   ]
  },
  {
   "cell_type": "markdown",
   "metadata": {},
   "source": [
    "# 3) Plot 2 different warm dark matter mass functions AND a cold dark matter mass function.\n",
    "For the two warm dark matter mass functions change log_mc."
   ]
  },
  {
   "cell_type": "code",
   "execution_count": null,
   "metadata": {},
   "outputs": [],
   "source": []
  }
 ],
 "metadata": {
  "kernelspec": {
   "display_name": "bsa",
   "language": "python",
   "name": "python3"
  },
  "language_info": {
   "codemirror_mode": {
    "name": "ipython",
    "version": 3
   },
   "file_extension": ".py",
   "mimetype": "text/x-python",
   "name": "python",
   "nbconvert_exporter": "python",
   "pygments_lexer": "ipython3",
   "version": "3.7.11"
  }
 },
 "nbformat": 4,
 "nbformat_minor": 4
}
