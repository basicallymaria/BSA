{
 "cells": [
  {
   "cell_type": "markdown",
   "metadata": {},
   "source": [
    "# Exploring different kinds of dark matter"
   ]
  },
  {
   "cell_type": "code",
   "execution_count": 1,
   "metadata": {},
   "outputs": [
    {
     "ename": "ImportError",
     "evalue": "cannot import name 'simps' from 'scipy.integrate' (/usr/local/Caskroom/miniconda/base/envs/bsa/lib/python3.12/site-packages/scipy/integrate/__init__.py)",
     "output_type": "error",
     "traceback": [
      "\u001b[0;31m---------------------------------------------------------------------------\u001b[0m",
      "\u001b[0;31mImportError\u001b[0m                               Traceback (most recent call last)",
      "Cell \u001b[0;32mIn[1], line 5\u001b[0m\n\u001b[1;32m      3\u001b[0m \u001b[38;5;28;01mimport\u001b[39;00m \u001b[38;5;21;01mmatplotlib\u001b[39;00m\u001b[38;5;21;01m.\u001b[39;00m\u001b[38;5;21;01mpyplot\u001b[39;00m \u001b[38;5;28;01mas\u001b[39;00m \u001b[38;5;21;01mplt\u001b[39;00m\n\u001b[1;32m      4\u001b[0m \u001b[38;5;28;01mimport\u001b[39;00m \u001b[38;5;21;01mlenstronomy\u001b[39;00m\n\u001b[0;32m----> 5\u001b[0m \u001b[38;5;28;01mfrom\u001b[39;00m \u001b[38;5;21;01mpyHalo\u001b[39;00m\u001b[38;5;21;01m.\u001b[39;00m\u001b[38;5;21;01mpreset_models\u001b[39;00m \u001b[38;5;28;01mimport\u001b[39;00m WDM, CDM\n",
      "File \u001b[0;32m/usr/local/Caskroom/miniconda/base/envs/bsa/lib/python3.12/site-packages/pyHalo/preset_models.py:9\u001b[0m\n\u001b[1;32m      7\u001b[0m \u001b[38;5;28;01mfrom\u001b[39;00m \u001b[38;5;21;01mpyHalo\u001b[39;00m\u001b[38;5;21;01m.\u001b[39;00m\u001b[38;5;21;01mPresetModels\u001b[39;00m\u001b[38;5;21;01m.\u001b[39;00m\u001b[38;5;21;01mcdm\u001b[39;00m \u001b[38;5;28;01mimport\u001b[39;00m CDM\n\u001b[1;32m      8\u001b[0m \u001b[38;5;28;01mfrom\u001b[39;00m \u001b[38;5;21;01mpyHalo\u001b[39;00m\u001b[38;5;21;01m.\u001b[39;00m\u001b[38;5;21;01mPresetModels\u001b[39;00m\u001b[38;5;21;01m.\u001b[39;00m\u001b[38;5;21;01mexternal\u001b[39;00m \u001b[38;5;28;01mimport\u001b[39;00m CDMFromEmulator, DMFromGalacticus\n\u001b[0;32m----> 9\u001b[0m \u001b[38;5;28;01mfrom\u001b[39;00m \u001b[38;5;21;01mpyHalo\u001b[39;00m\u001b[38;5;21;01m.\u001b[39;00m\u001b[38;5;21;01mPresetModels\u001b[39;00m\u001b[38;5;21;01m.\u001b[39;00m\u001b[38;5;21;01msidm\u001b[39;00m \u001b[38;5;28;01mimport\u001b[39;00m SIDM_core_collapse\n\u001b[1;32m     10\u001b[0m \u001b[38;5;28;01mfrom\u001b[39;00m \u001b[38;5;21;01mpyHalo\u001b[39;00m\u001b[38;5;21;01m.\u001b[39;00m\u001b[38;5;21;01mPresetModels\u001b[39;00m\u001b[38;5;21;01m.\u001b[39;00m\u001b[38;5;21;01muldm\u001b[39;00m \u001b[38;5;28;01mimport\u001b[39;00m ULDM\n\u001b[1;32m     11\u001b[0m \u001b[38;5;28;01mfrom\u001b[39;00m \u001b[38;5;21;01mpyHalo\u001b[39;00m\u001b[38;5;21;01m.\u001b[39;00m\u001b[38;5;21;01mPresetModels\u001b[39;00m\u001b[38;5;21;01m.\u001b[39;00m\u001b[38;5;21;01mwdm\u001b[39;00m \u001b[38;5;28;01mimport\u001b[39;00m WDM, WDM_mixed, WDMGeneral\n",
      "File \u001b[0;32m/usr/local/Caskroom/miniconda/base/envs/bsa/lib/python3.12/site-packages/pyHalo/PresetModels/sidm.py:2\u001b[0m\n\u001b[1;32m      1\u001b[0m \u001b[38;5;28;01mfrom\u001b[39;00m \u001b[38;5;21;01mpyHalo\u001b[39;00m\u001b[38;5;21;01m.\u001b[39;00m\u001b[38;5;21;01mPresetModels\u001b[39;00m\u001b[38;5;21;01m.\u001b[39;00m\u001b[38;5;21;01mcdm\u001b[39;00m \u001b[38;5;28;01mimport\u001b[39;00m CDM\n\u001b[0;32m----> 2\u001b[0m \u001b[38;5;28;01mfrom\u001b[39;00m \u001b[38;5;21;01mpyHalo\u001b[39;00m\u001b[38;5;21;01m.\u001b[39;00m\u001b[38;5;21;01mrealization_extensions\u001b[39;00m \u001b[38;5;28;01mimport\u001b[39;00m RealizationExtensions\n\u001b[1;32m      5\u001b[0m \u001b[38;5;28;01mdef\u001b[39;00m \u001b[38;5;21mSIDM_core_collapse\u001b[39m(z_lens, z_source, mass_ranges_subhalos, mass_ranges_field_halos,\n\u001b[1;32m      6\u001b[0m         probabilities_subhalos, probabilities_field_halos, kwargs_sub_function\u001b[38;5;241m=\u001b[39m\u001b[38;5;28;01mNone\u001b[39;00m,\n\u001b[1;32m      7\u001b[0m         kwargs_field_function\u001b[38;5;241m=\u001b[39m\u001b[38;5;28;01mNone\u001b[39;00m, sigma_sub\u001b[38;5;241m=\u001b[39m\u001b[38;5;241m0.025\u001b[39m, log10_sigma_sub\u001b[38;5;241m=\u001b[39m\u001b[38;5;28;01mNone\u001b[39;00m, log_mlow\u001b[38;5;241m=\u001b[39m\u001b[38;5;241m6.\u001b[39m, log_mhigh\u001b[38;5;241m=\u001b[39m\u001b[38;5;241m10.\u001b[39m,\n\u001b[0;32m   (...)\u001b[0m\n\u001b[1;32m     13\u001b[0m         LOS_normalization\u001b[38;5;241m=\u001b[39m\u001b[38;5;241m1.0\u001b[39m, geometry_type\u001b[38;5;241m=\u001b[39m\u001b[38;5;124m'\u001b[39m\u001b[38;5;124mDOUBLE_CONE\u001b[39m\u001b[38;5;124m'\u001b[39m, kwargs_cosmo\u001b[38;5;241m=\u001b[39m\u001b[38;5;28;01mNone\u001b[39;00m, collapsed_halo_profile\u001b[38;5;241m=\u001b[39m\u001b[38;5;124m'\u001b[39m\u001b[38;5;124mSPL_CORE\u001b[39m\u001b[38;5;124m'\u001b[39m,\n\u001b[1;32m     14\u001b[0m         kwargs_collapsed_profile\u001b[38;5;241m=\u001b[39m{\u001b[38;5;124m'\u001b[39m\u001b[38;5;124mx_core_halo\u001b[39m\u001b[38;5;124m'\u001b[39m: \u001b[38;5;241m0.05\u001b[39m, \u001b[38;5;124m'\u001b[39m\u001b[38;5;124mx_match\u001b[39m\u001b[38;5;124m'\u001b[39m: \u001b[38;5;241m3.0\u001b[39m, \u001b[38;5;124m'\u001b[39m\u001b[38;5;124mlog_slope_halo\u001b[39m\u001b[38;5;124m'\u001b[39m: \u001b[38;5;241m3.0\u001b[39m}):\n\u001b[1;32m     16\u001b[0m \u001b[38;5;250m    \u001b[39m\u001b[38;5;124;03m\"\"\"\u001b[39;00m\n\u001b[1;32m     17\u001b[0m \u001b[38;5;124;03m    Generates realizations of SIDM given the fraction of core-collapsed halos as a function of halo mass\u001b[39;00m\n\u001b[1;32m     18\u001b[0m \n\u001b[0;32m   (...)\u001b[0m\n\u001b[1;32m     62\u001b[0m \u001b[38;5;124;03m    :return: a realization of dark matter structure in SIDM\u001b[39;00m\n\u001b[1;32m     63\u001b[0m \u001b[38;5;124;03m    \"\"\"\u001b[39;00m\n",
      "File \u001b[0;32m/usr/local/Caskroom/miniconda/base/envs/bsa/lib/python3.12/site-packages/pyHalo/realization_extensions.py:14\u001b[0m\n\u001b[1;32m     12\u001b[0m \u001b[38;5;28;01mfrom\u001b[39;00m \u001b[38;5;21;01mscipy\u001b[39;00m\u001b[38;5;21;01m.\u001b[39;00m\u001b[38;5;21;01minterpolate\u001b[39;00m \u001b[38;5;28;01mimport\u001b[39;00m RectBivariateSpline\n\u001b[1;32m     13\u001b[0m \u001b[38;5;28;01mimport\u001b[39;00m \u001b[38;5;21;01mtime\u001b[39;00m\n\u001b[0;32m---> 14\u001b[0m \u001b[38;5;28;01mfrom\u001b[39;00m \u001b[38;5;21;01mscipy\u001b[39;00m\u001b[38;5;21;01m.\u001b[39;00m\u001b[38;5;21;01mintegrate\u001b[39;00m \u001b[38;5;28;01mimport\u001b[39;00m simps\n\u001b[1;32m     15\u001b[0m \u001b[38;5;28;01mfrom\u001b[39;00m \u001b[38;5;21;01mscipy\u001b[39;00m\u001b[38;5;21;01m.\u001b[39;00m\u001b[38;5;21;01mspecial\u001b[39;00m \u001b[38;5;28;01mimport\u001b[39;00m eval_chebyt\n\u001b[1;32m     16\u001b[0m \u001b[38;5;28;01mfrom\u001b[39;00m \u001b[38;5;21;01mscipy\u001b[39;00m\u001b[38;5;21;01m.\u001b[39;00m\u001b[38;5;21;01moptimize\u001b[39;00m \u001b[38;5;28;01mimport\u001b[39;00m curve_fit\n",
      "\u001b[0;31mImportError\u001b[0m: cannot import name 'simps' from 'scipy.integrate' (/usr/local/Caskroom/miniconda/base/envs/bsa/lib/python3.12/site-packages/scipy/integrate/__init__.py)"
     ]
    }
   ],
   "source": [
    "import numpy as np\n",
    "from copy import deepcopy\n",
    "import matplotlib.pyplot as plt\n",
    "import lenstronomy\n",
    "from pyHalo.preset_models import WDM, CDM\n"
   ]
  },
  {
   "cell_type": "code",
   "execution_count": null,
   "metadata": {},
   "outputs": [],
   "source": [
    "##some parameters to set for the whole file:\n",
    "kwargs_concentration_model_subhalos = {'scatter': False}\n",
    "kwargs_concentration_model_fieldhalos = {'scatter': False}\n"
   ]
  },
  {
   "cell_type": "markdown",
   "metadata": {},
   "source": [
    "## these parameters adjust where the halos will be generated \n",
    "### Note that we are simulating a universe with one big galaxy (like the Milky Way) as well as many smaller galaxies. The distance between us and the big galaxy is 'zlens' and the full distance we are simulating is controlled by 'zsource'."
   ]
  },
  {
   "cell_type": "code",
   "execution_count": null,
   "metadata": {},
   "outputs": [],
   "source": [
    "\n",
    "###after you've done everything else in the notebook, you can see what happens when you change these variables:\n",
    "cone_opening_angle = 8\n",
    "log_mlow_var = 5\n",
    "zsource_variable = 2\n"
   ]
  },
  {
   "cell_type": "markdown",
   "metadata": {},
   "source": [
    "## Cold Dark Matter (CDM)\n",
    "Cold dark matter theory predicts that the number of dark matter halos increases, so that you always have more low-mass halos than higher mass halos\n"
   ]
  },
  {
   "cell_type": "code",
   "execution_count": null,
   "metadata": {},
   "outputs": [],
   "source": [
    "## don't adjust anything in this cell\n",
    "###this cell generates a realization of many cold dark matter halos in the universe and plots them \n",
    "\n",
    "realizationCDM = CDM(0.5, zsource_variable, cone_opening_angle_arcsec=cone_opening_angle, geometry_type='CYLINDER', \n",
    "                     sigma_sub=0, log_mlow=log_mlow_var)\n",
    "\n",
    "cdm_plot = CDM(0.5, zsource, cone_opening_angle_arcsec=cone_opening_angle, \n",
    "                     geometry_type='CYLINDER', sigma_sub=0.0)\n",
    "\n",
    "fig = plt.figure(1)\n",
    "fig.set_size_inches(16, 12)\n",
    "ax = plt.subplot(111, projection='3d')\n",
    "cdm_plot.plot(ax)"
   ]
  },
  {
   "cell_type": "markdown",
   "metadata": {},
   "source": [
    "## Q: Describe what you see."
   ]
  },
  {
   "cell_type": "markdown",
   "metadata": {},
   "source": [
    "## Q: Are there more small halos or big halos? What would this look like in a histogram approximately?"
   ]
  },
  {
   "cell_type": "markdown",
   "metadata": {},
   "source": [
    "## Warm dark matter (WDM)\n",
    "1) Try adjusting the 'log-mc' parameter (between 1-10). What happens to the red line in the plot below when you make this number bigger? What happens when you make it smaller?\n"
   ]
  },
  {
   "cell_type": "code",
   "execution_count": null,
   "metadata": {},
   "outputs": [],
   "source": [
    "##parameters you can change (after running through one time). Copy and paste this with new variables in your own notebook.\n",
    "\n",
    "log_mc_variable = 8"
   ]
  },
  {
   "cell_type": "code",
   "execution_count": null,
   "metadata": {},
   "outputs": [],
   "source": [
    "\n",
    "##don't change anythiing in this cell\n",
    "\n",
    "\n",
    "realizationWDM = WDM(0.5, zsource_variable, log_mc=log_mc_variable, cone_opening_angle_arcsec=cone_opening_angle, log_mlow=log_mlow_var,\n",
    "                     geometry_type='CYLINDER', sigma_sub=0)\n",
    "\n",
    "wdm_plot = WDM(0.5, zsource_variable, log_mc=log_mc_variable, cone_opening_angle_arcsec=cone_opening_angle, \n",
    "                     geometry_type='CYLINDER', sigma_sub=0.0)\n",
    "\n",
    "fig = plt.figure(1)\n",
    "fig.set_size_inches(16, 12)\n",
    "ax = plt.subplot(111, projection='3d')\n",
    "realizationWDM.plot(ax)\n"
   ]
  },
  {
   "cell_type": "markdown",
   "metadata": {},
   "source": [
    "## Q: Describe what you see."
   ]
  },
  {
   "cell_type": "markdown",
   "metadata": {},
   "source": [
    "## Q: How do these dark matter halos look different from the cold dark matter halos? "
   ]
  },
  {
   "cell_type": "code",
   "execution_count": null,
   "metadata": {},
   "outputs": [],
   "source": [
    "##this cell will make a histogram to compare the number as a function of mass\n",
    "\n",
    "#print('realization contains '+str(len(realizationWDM.halos))+' halos.')\n",
    "wdm_halo_masses = [halo.mass for halo in realizationWDM.halos]\n",
    "N, m = np.histogram(wdm_halo_masses, bins=np.logspace(5, 10, 15))\n",
    "\n",
    "cdm_halo_masses = [halo.mass for halo in realizationCDM.halos]\n",
    "Ncdm, mcdm = np.histogram(cdm_halo_masses, bins=np.logspace(5, 10, 15))\n",
    "\n",
    "\n"
   ]
  },
  {
   "cell_type": "code",
   "execution_count": null,
   "metadata": {},
   "outputs": [],
   "source": [
    "###here we are plotting the Warm Dark Matter halos and the Cold Dark Matter halos in a histogram together so we can see them\n",
    "plt.loglog(m[0:-1], N, color='r',label = 'WDM')\n",
    "plt.loglog(mcdm[0:-1], Ncdm, color='k',label = 'CDM')\n",
    "plt.legend()\n",
    "plt.xlabel('Halo mass (units of solar masses)', fontsize=16)\n",
    "plt.ylabel('number of halos as a function of Mass', fontsize=16)"
   ]
  },
  {
   "cell_type": "markdown",
   "metadata": {},
   "source": [
    "# 3) Plot 2 different warm dark matter mass functions AND a cold dark matter mass function.\n",
    "For the two warm dark matter mass functions change log_mc."
   ]
  },
  {
   "cell_type": "code",
   "execution_count": null,
   "metadata": {},
   "outputs": [],
   "source": []
  }
 ],
 "metadata": {
  "kernelspec": {
   "display_name": "bsa",
   "language": "python",
   "name": "python3"
  },
  "language_info": {
   "codemirror_mode": {
    "name": "ipython",
    "version": 3
   },
   "file_extension": ".py",
   "mimetype": "text/x-python",
   "name": "python",
   "nbconvert_exporter": "python",
   "pygments_lexer": "ipython3",
   "version": "3.12.4"
  }
 },
 "nbformat": 4,
 "nbformat_minor": 4
}
